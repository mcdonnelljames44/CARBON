{
  "nbformat": 4,
  "nbformat_minor": 0,
  "metadata": {
    "colab": {
      "name": "End_to_End_Titanic_Multiple_Models (VT-Colab).ipynb",
      "version": "0.3.2",
      "provenance": [],
      "private_outputs": true,
      "collapsed_sections": [
        "n0xmcHwoq2RJ",
        "WsxNikbDKadm",
        "lgi4ItFDp8PB",
        "cUnOm_5Sq8GT",
        "QbYMguutw0U7",
        "2Rpa7e44q9hG",
        "pLaE28PNqGcB",
        "IMJIkyRlqGch",
        "bwlH7SZAqGc1",
        "dIQKjiAlqGdC",
        "bzBbQPjTqGd3",
        "xG35AZ1aqGd4",
        "RayCVmJgrdHz",
        "oR-3amnaqGeO",
        "jxlMr97iqGei",
        "1svSbe48rkAL",
        "MxQbphc5r2fF",
        "FtA5kul0qGew",
        "oFrtqs9vqGez",
        "T_fkmW6Lr5sc",
        "8jw68DIRqGfH"
      ]
    },
    "kernelspec": {
      "display_name": "Python 3",
      "language": "python",
      "name": "python3"
    }
  },
  "cells": [
    {
      "cell_type": "markdown",
      "metadata": {
        "id": "8YZcPYIAqGbC",
        "colab_type": "text"
      },
      "source": [
        "# Kaggle Titanic\n",
        "## Logistic Regression with Python\n",
        "\n",
        "\n",
        "For this lecture we will be working with the [Titanic Data Set from Kaggle](https://www.kaggle.com/c/titanic). This is a very famous dataset.\n"
      ]
    },
    {
      "cell_type": "markdown",
      "metadata": {
        "id": "cUnOm_5Sq8GT",
        "colab_type": "text"
      },
      "source": [
        "# Step - 1 : Frame The Problem"
      ]
    },
    {
      "cell_type": "markdown",
      "metadata": {
        "id": "0uinjbqww7AY",
        "colab_type": "text"
      },
      "source": [
        "The sinking of the RMS Titanic is one of the most infamous shipwrecks in history.  On April 15, 1912, during her maiden voyage, the Titanic sank after colliding with an iceberg, killing 1502 out of 2224 passengers and crew. This sensational tragedy shocked the international community and led to better safety regulations for ships.\n",
        "\n",
        "One of the reasons that the shipwreck led to such loss of life was that there were not enough lifeboats for the passengers and crew. Although there was some element of luck involved in surviving the sinking, some groups of people were more likely to survive than others, such as women, children, and the upper-class.\n",
        "\n",
        "In this challenge, we ask you to complete the analysis of what sorts of people were likely to survive. In particular, we ask you to apply the tools of machine learning to predict which passengers survived the tragedy.\n",
        "\n"
      ]
    },
    {
      "cell_type": "markdown",
      "metadata": {
        "id": "QbYMguutw0U7",
        "colab_type": "text"
      },
      "source": [
        "# Step - 2 : Obtain the Data"
      ]
    },
    {
      "cell_type": "markdown",
      "metadata": {
        "id": "2Rpa7e44q9hG",
        "colab_type": "text"
      },
      "source": [
        "## Import Libraries"
      ]
    },
    {
      "cell_type": "code",
      "metadata": {
        "id": "DoloRktKqGbF",
        "colab_type": "code",
        "colab": {}
      },
      "source": [
        "!pip install missingno"
      ],
      "execution_count": 0,
      "outputs": []
    },
    {
      "cell_type": "code",
      "metadata": {
        "id": "R8l03wUUqGbO",
        "colab_type": "code",
        "colab": {}
      },
      "source": [
        "import pandas as pd\n",
        "import numpy as np\n",
        "import matplotlib.pyplot as plt\n",
        "import seaborn as sns\n",
        "import missingno as ms\n",
        "%matplotlib inline"
      ],
      "execution_count": 0,
      "outputs": []
    },
    {
      "cell_type": "code",
      "metadata": {
        "id": "8izv57KJfyHf",
        "colab_type": "code",
        "colab": {}
      },
      "source": [
        "!ls -l"
      ],
      "execution_count": 0,
      "outputs": []
    },
    {
      "cell_type": "markdown",
      "metadata": {
        "id": "DInPcxyBqGbT",
        "colab_type": "text"
      },
      "source": [
        "Pandas provides two important data types with in built functions to be able to provide extensive capability to handle the data.The datatypes include Series and DataFrames."
      ]
    },
    {
      "cell_type": "markdown",
      "metadata": {
        "id": "MszA1lldqGbU",
        "colab_type": "text"
      },
      "source": [
        "Pandas provides ways to read or get the data from various sources like read_csv,read_excel,read_html etc.The data is read and stored in the form of DataFrames."
      ]
    },
    {
      "cell_type": "markdown",
      "metadata": {
        "id": "MksYS8zQigKr",
        "colab_type": "text"
      },
      "source": [
        ""
      ]
    },
    {
      "cell_type": "code",
      "metadata": {
        "id": "xhQhLNWGVf98",
        "colab_type": "code",
        "colab": {}
      },
      "source": [
        "!wget https://www.dropbox.com/s/8grgwn4b6y25frw/titanic.csv"
      ],
      "execution_count": 0,
      "outputs": []
    },
    {
      "cell_type": "code",
      "metadata": {
        "id": "gmWCjQ-FSWGB",
        "colab_type": "code",
        "colab": {}
      },
      "source": [
        "!ls -l"
      ],
      "execution_count": 0,
      "outputs": []
    },
    {
      "cell_type": "code",
      "metadata": {
        "id": "NGWNIC97qGbU",
        "colab_type": "code",
        "colab": {}
      },
      "source": [
        "data = pd.read_csv('titanic.csv')"
      ],
      "execution_count": 0,
      "outputs": []
    },
    {
      "cell_type": "code",
      "metadata": {
        "id": "VQArfkvzqGbX",
        "colab_type": "code",
        "colab": {}
      },
      "source": [
        "data.head()"
      ],
      "execution_count": 0,
      "outputs": []
    },
    {
      "cell_type": "code",
      "metadata": {
        "id": "7ZhH0YPKqGbd",
        "colab_type": "code",
        "colab": {}
      },
      "source": [
        "#to get the last 5 entries of the data\n",
        "data.tail(3)"
      ],
      "execution_count": 0,
      "outputs": []
    },
    {
      "cell_type": "code",
      "metadata": {
        "id": "oeXMHo68qGbg",
        "colab_type": "code",
        "colab": {}
      },
      "source": [
        "type(data)"
      ],
      "execution_count": 0,
      "outputs": []
    },
    {
      "cell_type": "code",
      "metadata": {
        "id": "z6AqB_2ZqGbj",
        "colab_type": "code",
        "colab": {}
      },
      "source": [
        "data.shape"
      ],
      "execution_count": 0,
      "outputs": []
    },
    {
      "cell_type": "code",
      "metadata": {
        "id": "8HTrlDouqGbm",
        "colab_type": "code",
        "colab": {}
      },
      "source": [
        "data.info()"
      ],
      "execution_count": 0,
      "outputs": []
    },
    {
      "cell_type": "code",
      "metadata": {
        "id": "cCD55xzuqGbt",
        "colab_type": "code",
        "colab": {}
      },
      "source": [
        "a = data['Age']"
      ],
      "execution_count": 0,
      "outputs": []
    },
    {
      "cell_type": "code",
      "metadata": {
        "id": "2jT6smHqqGbw",
        "colab_type": "code",
        "colab": {}
      },
      "source": [
        "a"
      ],
      "execution_count": 0,
      "outputs": []
    },
    {
      "cell_type": "code",
      "metadata": {
        "id": "x0ophbx9qGby",
        "colab_type": "code",
        "colab": {}
      },
      "source": [
        "type(a)"
      ],
      "execution_count": 0,
      "outputs": []
    },
    {
      "cell_type": "code",
      "metadata": {
        "id": "bxaercuoqGb3",
        "colab_type": "code",
        "colab": {}
      },
      "source": [
        "type(data)"
      ],
      "execution_count": 0,
      "outputs": []
    },
    {
      "cell_type": "code",
      "metadata": {
        "id": "cCRuD3VoqGb6",
        "colab_type": "code",
        "colab": {}
      },
      "source": [
        "data.info()"
      ],
      "execution_count": 0,
      "outputs": []
    },
    {
      "cell_type": "code",
      "metadata": {
        "id": "Gn1GrNdDqGb-",
        "colab_type": "code",
        "colab": {}
      },
      "source": [
        "data.describe()"
      ],
      "execution_count": 0,
      "outputs": []
    },
    {
      "cell_type": "markdown",
      "metadata": {
        "id": "pLaE28PNqGcB",
        "colab_type": "text"
      },
      "source": [
        "## Accessing individual data in the data frame"
      ]
    },
    {
      "cell_type": "markdown",
      "metadata": {
        "id": "bbygvAR8qGcE",
        "colab_type": "text"
      },
      "source": [
        "### Working with Columns"
      ]
    },
    {
      "cell_type": "markdown",
      "metadata": {
        "id": "AAksftHTqGcF",
        "colab_type": "text"
      },
      "source": [
        "since each dataframe is a collection of series if we access a single column we get a series object"
      ]
    },
    {
      "cell_type": "code",
      "metadata": {
        "id": "s2ix-monqGcG",
        "colab_type": "code",
        "colab": {}
      },
      "source": [
        "data['Cabin'].value_counts()"
      ],
      "execution_count": 0,
      "outputs": []
    },
    {
      "cell_type": "code",
      "metadata": {
        "id": "Ag2wXKEEqGcP",
        "colab_type": "code",
        "colab": {}
      },
      "source": [
        "y = data[['Cabin','Parch']].head()"
      ],
      "execution_count": 0,
      "outputs": []
    },
    {
      "cell_type": "code",
      "metadata": {
        "id": "XxBmn3-CqGcU",
        "colab_type": "code",
        "colab": {}
      },
      "source": [
        "type(y)"
      ],
      "execution_count": 0,
      "outputs": []
    },
    {
      "cell_type": "code",
      "metadata": {
        "id": "imdoleNfqGcW",
        "colab_type": "code",
        "colab": {}
      },
      "source": [
        "y.head()"
      ],
      "execution_count": 0,
      "outputs": []
    },
    {
      "cell_type": "code",
      "metadata": {
        "id": "EQuJZbnnqGcd",
        "colab_type": "code",
        "colab": {}
      },
      "source": [
        "data.info() #New_parch is added to the set of columns in the data frames"
      ],
      "execution_count": 0,
      "outputs": []
    },
    {
      "cell_type": "markdown",
      "metadata": {
        "id": "dIQKjiAlqGdC",
        "colab_type": "text"
      },
      "source": [
        "# Step - 3 : Analyse the Data"
      ]
    },
    {
      "cell_type": "code",
      "metadata": {
        "id": "xwDfDthBqGdD",
        "colab_type": "code",
        "colab": {}
      },
      "source": [
        "ms.matrix(data)"
      ],
      "execution_count": 0,
      "outputs": []
    },
    {
      "cell_type": "code",
      "metadata": {
        "id": "pMkSSvIRqGdF",
        "colab_type": "code",
        "colab": {}
      },
      "source": [
        ""
      ],
      "execution_count": 0,
      "outputs": []
    },
    {
      "cell_type": "code",
      "metadata": {
        "id": "EH7C5W3pqGdI",
        "colab_type": "code",
        "colab": {}
      },
      "source": [
        "data.info()"
      ],
      "execution_count": 0,
      "outputs": []
    },
    {
      "cell_type": "markdown",
      "metadata": {
        "id": "I-9dyLg_qGdK",
        "colab_type": "text"
      },
      "source": [
        "We can observe that there are missing values in 'Age', 'Cabin' and 'Embarked'. Let's continue."
      ]
    },
    {
      "cell_type": "code",
      "metadata": {
        "id": "KtxY0ruTqGdK",
        "colab_type": "code",
        "colab": {}
      },
      "source": [
        "data.info()"
      ],
      "execution_count": 0,
      "outputs": []
    },
    {
      "cell_type": "markdown",
      "metadata": {
        "id": "HGZZY5WgqGdO",
        "colab_type": "text"
      },
      "source": [
        "Visualization of data with Seaborn"
      ]
    },
    {
      "cell_type": "code",
      "metadata": {
        "id": "tH5M6x_xqGdP",
        "colab_type": "code",
        "colab": {}
      },
      "source": [
        "sns.jointplot(x='Fare',y='Age',data=data)"
      ],
      "execution_count": 0,
      "outputs": []
    },
    {
      "cell_type": "code",
      "metadata": {
        "id": "VqU7t6mZqGdT",
        "colab_type": "code",
        "colab": {}
      },
      "source": [
        "sns.distplot(data['Fare'])"
      ],
      "execution_count": 0,
      "outputs": []
    },
    {
      "cell_type": "code",
      "metadata": {
        "id": "8cOJ9fXNqGdU",
        "colab_type": "code",
        "colab": {}
      },
      "source": [
        "sns.heatmap(data.corr(),cmap='coolwarm')\n",
        "plt.title('data.corr()')"
      ],
      "execution_count": 0,
      "outputs": []
    },
    {
      "cell_type": "code",
      "metadata": {
        "id": "sebwPKFXqGdc",
        "colab_type": "code",
        "colab": {}
      },
      "source": [
        "sns.swarmplot\n",
        "sns.swarmplot(x='Pclass',y='Age',data=data,palette='Set2')"
      ],
      "execution_count": 0,
      "outputs": []
    },
    {
      "cell_type": "code",
      "metadata": {
        "id": "FYnW2ls8qGde",
        "colab_type": "code",
        "colab": {}
      },
      "source": [
        "sns.set_style('whitegrid')\n",
        "sns.countplot(x='Survived',data=data,palette='RdBu_r')"
      ],
      "execution_count": 0,
      "outputs": []
    },
    {
      "cell_type": "code",
      "metadata": {
        "id": "5X0kVGCmqGdk",
        "colab_type": "code",
        "colab": {}
      },
      "source": [
        "sns.set_style('whitegrid')\n",
        "sns.countplot(x='Survived',hue='Sex',data=data,palette='RdBu_r')"
      ],
      "execution_count": 0,
      "outputs": []
    },
    {
      "cell_type": "code",
      "metadata": {
        "id": "QpxCS2k2qGdn",
        "colab_type": "code",
        "colab": {}
      },
      "source": [
        "sns.set_style('whitegrid')\n",
        "sns.countplot(x='Survived',hue='Pclass',data = data,palette='rainbow')"
      ],
      "execution_count": 0,
      "outputs": []
    },
    {
      "cell_type": "code",
      "metadata": {
        "id": "g1EPepxuqGdt",
        "colab_type": "code",
        "colab": {}
      },
      "source": [
        "data['Age'].hist(bins = 30, color = 'darkred', alpha = 0.8)"
      ],
      "execution_count": 0,
      "outputs": []
    },
    {
      "cell_type": "code",
      "metadata": {
        "id": "f8rUUA0OqGdx",
        "colab_type": "code",
        "colab": {}
      },
      "source": [
        "sns.countplot(x = 'SibSp', data = data)"
      ],
      "execution_count": 0,
      "outputs": []
    },
    {
      "cell_type": "code",
      "metadata": {
        "id": "0MvfzUUDqGdz",
        "colab_type": "code",
        "colab": {}
      },
      "source": [
        "data['Fare'].hist(color = 'green', bins = 40, figsize = (8,3))"
      ],
      "execution_count": 0,
      "outputs": []
    },
    {
      "cell_type": "markdown",
      "metadata": {
        "id": "bzBbQPjTqGd3",
        "colab_type": "text"
      },
      "source": [
        "#### What do you observe from the above charts?"
      ]
    },
    {
      "cell_type": "markdown",
      "metadata": {
        "id": "xG35AZ1aqGd4",
        "colab_type": "text"
      },
      "source": [
        "# Step - 4 : Feature Engineering"
      ]
    },
    {
      "cell_type": "markdown",
      "metadata": {
        "id": "RayCVmJgrdHz",
        "colab_type": "text"
      },
      "source": [
        "## Feature Engineering\n",
        "\n",
        "We want to fill the missing values of the age in the dataset with the average age value for each of the classes. This is called data imputation."
      ]
    },
    {
      "cell_type": "code",
      "metadata": {
        "id": "3RxPvDC8fLeV",
        "colab_type": "code",
        "colab": {}
      },
      "source": [
        "data.info()"
      ],
      "execution_count": 0,
      "outputs": []
    },
    {
      "cell_type": "code",
      "metadata": {
        "id": "cA01gIyFqGd6",
        "colab_type": "code",
        "colab": {}
      },
      "source": [
        "plt.figure(figsize=(12, 7))\n",
        "sns.boxplot(x='Pclass',y='Age',data=data,palette='winter')"
      ],
      "execution_count": 0,
      "outputs": []
    },
    {
      "cell_type": "code",
      "metadata": {
        "id": "9qoh8udrfoD7",
        "colab_type": "code",
        "colab": {}
      },
      "source": [
        "data['Cabin'].value_counts()"
      ],
      "execution_count": 0,
      "outputs": []
    },
    {
      "cell_type": "markdown",
      "metadata": {
        "id": "M1yKKlqLqGd9",
        "colab_type": "text"
      },
      "source": [
        "The average age for each of the classes are estimated to be as follows:\n",
        "  \n",
        "  * For **Class 1** - The median age is 37\n",
        "  * For **Class 2** - The median age is 29\n",
        "  * For **Class 3** - The median age is 24\n",
        "  \n",
        "Let's impute these values into the age column."
      ]
    },
    {
      "cell_type": "code",
      "metadata": {
        "id": "OtMLZAHWqGd9",
        "colab_type": "code",
        "colab": {}
      },
      "source": [
        "def impute_age(cols):\n",
        "    Age = cols[0]\n",
        "    Pclass = cols[1]\n",
        "    \n",
        "    if pd.isnull(Age):\n",
        "        # Class-1\n",
        "        if Pclass == 1:\n",
        "            return 37\n",
        "        # Class-2 \n",
        "        elif Pclass == 2:\n",
        "            return 29\n",
        "        # Class-3\n",
        "        else:\n",
        "            return 24\n",
        "\n",
        "    else:\n",
        "        return Age"
      ],
      "execution_count": 0,
      "outputs": []
    },
    {
      "cell_type": "markdown",
      "metadata": {
        "id": "N6OROGCHqGd_",
        "colab_type": "text"
      },
      "source": [
        "Applying the function."
      ]
    },
    {
      "cell_type": "code",
      "metadata": {
        "id": "SzBf6AG2qGd_",
        "colab_type": "code",
        "colab": {}
      },
      "source": [
        "data['Age'] = data[['Age','Pclass']].apply(impute_age,axis=1)"
      ],
      "execution_count": 0,
      "outputs": []
    },
    {
      "cell_type": "markdown",
      "metadata": {
        "id": "aND3OdBbqGeB",
        "colab_type": "text"
      },
      "source": [
        "Now let's visualize the missing values."
      ]
    },
    {
      "cell_type": "code",
      "metadata": {
        "id": "VAq4OM_zqGeC",
        "colab_type": "code",
        "colab": {}
      },
      "source": [
        "ms.matrix(data)"
      ],
      "execution_count": 0,
      "outputs": []
    },
    {
      "cell_type": "markdown",
      "metadata": {
        "id": "kk0SpICkqGeF",
        "colab_type": "text"
      },
      "source": [
        "The Age column is imputed sucessfully.\n",
        "\n",
        "Let's drop the Cabin column and the row in the Embarked that is NaN."
      ]
    },
    {
      "cell_type": "code",
      "metadata": {
        "id": "NWgx7WhqqGeF",
        "colab_type": "code",
        "colab": {}
      },
      "source": [
        "data.drop('Cabin', axis = 1,inplace=True)"
      ],
      "execution_count": 0,
      "outputs": []
    },
    {
      "cell_type": "code",
      "metadata": {
        "id": "fNdWNAhJqGeH",
        "colab_type": "code",
        "colab": {}
      },
      "source": [
        "data.head()"
      ],
      "execution_count": 0,
      "outputs": []
    },
    {
      "cell_type": "code",
      "metadata": {
        "id": "dOdiaYbAqGeJ",
        "colab_type": "code",
        "colab": {}
      },
      "source": [
        "data.dropna(inplace = True)"
      ],
      "execution_count": 0,
      "outputs": []
    },
    {
      "cell_type": "code",
      "metadata": {
        "id": "82GLJhmrqGeK",
        "colab_type": "code",
        "colab": {}
      },
      "source": [
        "ms.matrix(data)"
      ],
      "execution_count": 0,
      "outputs": []
    },
    {
      "cell_type": "code",
      "metadata": {
        "id": "yleBqUeKqGeL",
        "colab_type": "code",
        "colab": {}
      },
      "source": [
        "data.info()"
      ],
      "execution_count": 0,
      "outputs": []
    },
    {
      "cell_type": "markdown",
      "metadata": {
        "id": "oR-3amnaqGeO",
        "colab_type": "text"
      },
      "source": [
        "## Converting Categorical Features \n",
        "\n",
        "We'll need to convert categorical features to dummy variables using pandas! Otherwise our machine learning algorithm won't be able to directly take in those features as inputs."
      ]
    },
    {
      "cell_type": "code",
      "metadata": {
        "id": "X1iN1CpyqGeO",
        "colab_type": "code",
        "colab": {}
      },
      "source": [
        "data['Embarked'].value_counts()"
      ],
      "execution_count": 0,
      "outputs": []
    },
    {
      "cell_type": "code",
      "metadata": {
        "id": "2j5npHKGqGeS",
        "colab_type": "code",
        "colab": {}
      },
      "source": [
        "sex = pd.get_dummies(data['Sex'],drop_first=1)\n",
        "embark = pd.get_dummies(data['Embarked'],drop_first=1)\n",
        "sex.head()\n"
      ],
      "execution_count": 0,
      "outputs": []
    },
    {
      "cell_type": "code",
      "metadata": {
        "id": "hNZIx3jQqGeV",
        "colab_type": "code",
        "colab": {}
      },
      "source": [
        "embark.head()"
      ],
      "execution_count": 0,
      "outputs": []
    },
    {
      "cell_type": "code",
      "metadata": {
        "id": "_X0iFWXRqGeX",
        "colab_type": "code",
        "colab": {}
      },
      "source": [
        "old_data = data.copy()\n",
        "data.drop(['Sex','Embarked','Name','Ticket'],axis=1,inplace=True)\n",
        "data.head()\n",
        "\n"
      ],
      "execution_count": 0,
      "outputs": []
    },
    {
      "cell_type": "code",
      "metadata": {
        "id": "B4DSuUOpqGea",
        "colab_type": "code",
        "colab": {}
      },
      "source": [
        "old_data.info()"
      ],
      "execution_count": 0,
      "outputs": []
    },
    {
      "cell_type": "code",
      "metadata": {
        "id": "dBedobT4qGed",
        "colab_type": "code",
        "colab": {}
      },
      "source": [
        "data = pd.concat([data,sex,embark],axis=1)"
      ],
      "execution_count": 0,
      "outputs": []
    },
    {
      "cell_type": "code",
      "metadata": {
        "id": "g1kTmlgIqGed",
        "colab_type": "code",
        "colab": {}
      },
      "source": [
        "data.head()"
      ],
      "execution_count": 0,
      "outputs": []
    },
    {
      "cell_type": "markdown",
      "metadata": {
        "id": "ql2ebxjskKOb",
        "colab_type": "text"
      },
      "source": [
        ""
      ]
    },
    {
      "cell_type": "code",
      "metadata": {
        "id": "i0Oryse3qGef",
        "colab_type": "code",
        "colab": {}
      },
      "source": [
        "data.info()"
      ],
      "execution_count": 0,
      "outputs": []
    },
    {
      "cell_type": "code",
      "metadata": {
        "id": "gqp49FYeqGeg",
        "colab_type": "code",
        "colab": {}
      },
      "source": [
        "data.describe()"
      ],
      "execution_count": 0,
      "outputs": []
    },
    {
      "cell_type": "markdown",
      "metadata": {
        "id": "jxlMr97iqGei",
        "colab_type": "text"
      },
      "source": [
        "# Step - 5 : Model Selection"
      ]
    },
    {
      "cell_type": "markdown",
      "metadata": {
        "id": "1svSbe48rkAL",
        "colab_type": "text"
      },
      "source": [
        "## 5A - Building a Logistic Regression model"
      ]
    },
    {
      "cell_type": "code",
      "metadata": {
        "id": "3bH6QYxaqGek",
        "colab_type": "code",
        "colab": {}
      },
      "source": [
        "from sklearn.model_selection import train_test_split"
      ],
      "execution_count": 0,
      "outputs": []
    },
    {
      "cell_type": "code",
      "metadata": {
        "id": "E22tvUEmqGel",
        "colab_type": "code",
        "colab": {}
      },
      "source": [
        "X_train, X_test, y_train, y_test = train_test_split(data.drop('Survived',axis=1), \n",
        "                                                    data['Survived'], test_size=0.30, \n",
        "                                                    random_state=101)"
      ],
      "execution_count": 0,
      "outputs": []
    },
    {
      "cell_type": "code",
      "metadata": {
        "id": "5jf2Zl2NqGeo",
        "colab_type": "code",
        "colab": {}
      },
      "source": [
        "len(y_test)"
      ],
      "execution_count": 0,
      "outputs": []
    },
    {
      "cell_type": "code",
      "metadata": {
        "id": "6oRS_E2OqGer",
        "colab_type": "code",
        "colab": {}
      },
      "source": [
        "267/889"
      ],
      "execution_count": 0,
      "outputs": []
    },
    {
      "cell_type": "code",
      "metadata": {
        "id": "KKzr-_boqGes",
        "colab_type": "code",
        "colab": {}
      },
      "source": [
        "from sklearn.linear_model import LogisticRegression\n",
        "\n",
        "# Build the Model.\n",
        "logmodel = LogisticRegression()\n",
        "logmodel.fit(X_train,y_train)"
      ],
      "execution_count": 0,
      "outputs": []
    },
    {
      "cell_type": "code",
      "metadata": {
        "id": "9YAKpVMVsmYx",
        "colab_type": "code",
        "colab": {}
      },
      "source": [
        "logmodel.coef_"
      ],
      "execution_count": 0,
      "outputs": []
    },
    {
      "cell_type": "code",
      "metadata": {
        "id": "S8bdMGNbqGet",
        "colab_type": "code",
        "colab": {}
      },
      "source": [
        "predict =  logmodel.predict(X_test)\n",
        "predict[:5]"
      ],
      "execution_count": 0,
      "outputs": []
    },
    {
      "cell_type": "code",
      "metadata": {
        "id": "J5CkHvS-qGev",
        "colab_type": "code",
        "colab": {}
      },
      "source": [
        "y_test[:5]"
      ],
      "execution_count": 0,
      "outputs": []
    },
    {
      "cell_type": "markdown",
      "metadata": {
        "id": "_YKIZMdEqGev",
        "colab_type": "text"
      },
      "source": [
        "Let's move on to evaluate our model."
      ]
    },
    {
      "cell_type": "markdown",
      "metadata": {
        "id": "HHigMpujoAaX",
        "colab_type": "text"
      },
      "source": [
        "## 5B - Multiple Models\n"
      ]
    },
    {
      "cell_type": "code",
      "metadata": {
        "id": "ZI9N8o0yoNio",
        "colab_type": "code",
        "colab": {}
      },
      "source": [
        "from sklearn import svm, tree, linear_model\n",
        "\n",
        "Algols = [\n",
        "            linear_model.LogisticRegression(),\n",
        "            linear_model.LogisticRegressionCV(),\n",
        "            svm.LinearSVC(),\n",
        "            tree.DecisionTreeClassifier(),\n",
        "          ]\n"
      ],
      "execution_count": 0,
      "outputs": []
    },
    {
      "cell_type": "code",
      "metadata": {
        "id": "V0t0iGUtoNez",
        "colab_type": "code",
        "colab": {}
      },
      "source": [
        "from sklearn.metrics import confusion_matrix, precision_score, recall_score,accuracy_score, f1_score\n",
        "\n",
        "Algols_columns = []\n",
        "Algols_compare = pd.DataFrame(columns = Algols_columns)\n",
        "\n",
        "\n",
        "row_index = 0\n",
        "\n",
        "#Run once for each alogorithm and collect the summary\n",
        "for alg in Algols:\n",
        "    \n",
        "    predicted = alg.fit(X_train, y_train).predict(X_test)\n",
        "    Algo_name = alg.__class__.__name__\n",
        "    Algols_compare.loc[row_index,'Name'] = Algo_name\n",
        "    Algols_compare.loc[row_index, 'Accuracy'] = accuracy_score(y_test, predicted)\n",
        "    Algols_compare.loc[row_index, 'Precission'] = precision_score(y_test, predicted)\n",
        "    Algols_compare.loc[row_index, 'Recall'] = recall_score(y_test, predicted)\n",
        "    Algols_compare.loc[row_index, 'F1'] = f1_score(y_test, predicted)\n",
        "\n",
        "\n",
        "    row_index+=1\n",
        "    \n",
        "\n",
        "    \n",
        "#sort by Accuracy     \n",
        "Algols_compare.sort_values(by = ['Accuracy'], ascending = False, inplace = True)    \n",
        "\n",
        "#display output\n",
        "Algols_compare"
      ],
      "execution_count": 0,
      "outputs": []
    },
    {
      "cell_type": "code",
      "metadata": {
        "id": "wohJT5_ooNcj",
        "colab_type": "code",
        "colab": {}
      },
      "source": [
        "from sklearn import model_selection"
      ],
      "execution_count": 0,
      "outputs": []
    },
    {
      "cell_type": "code",
      "metadata": {
        "id": "rLvPZT73oNak",
        "colab_type": "code",
        "colab": {}
      },
      "source": [
        "grid_search_models = [\n",
        "                        [ linear_model.LogisticRegression(),     {\n",
        "                                                                    'C': [0.001, 0.01, 0.1, 1, 10, 100, 1000],\n",
        "                                                                 } ],\n",
        "\n",
        "                          [ linear_model.LogisticRegressionCV(), {\n",
        "                                                                    'solver' : ['newton-cg', 'lbfgs',],\n",
        "                                                                    'max_iter' : [10,30,50], \n",
        "\n",
        "                                                                 } ],\n",
        "\n",
        "                          [ svm.LinearSVC(),                     {\n",
        "                                                                    'C': [ 0.01, 0.1, 1, 10],\n",
        "                                                                    'max_iter' : [10,30,50],\n",
        "                              \n",
        "                                                                 } ],\n",
        "\n",
        "                          [ tree.DecisionTreeClassifier(),       {\n",
        "                                                                    'max_depth' :  [1,2,3,4],\n",
        "                                                                    'max_features' : ['sqrt', 'log2',None],\n",
        "                                                                 } ],\n",
        "                                  \n",
        "                    ]"
      ],
      "execution_count": 0,
      "outputs": []
    },
    {
      "cell_type": "code",
      "metadata": {
        "id": "MIbqBAu0oNWZ",
        "colab_type": "code",
        "colab": {}
      },
      "source": [
        "for model,params in grid_search_models:\n",
        "    tune_model = model_selection.GridSearchCV(model, param_grid=params, scoring = 'roc_auc',verbose=1)\n",
        "    tune_model.fit (X_train, y_train)\n",
        "    print(tune_model.best_params_)\n",
        "    print (model.__class__.__name__,tune_model.score(X_test, y_test))"
      ],
      "execution_count": 0,
      "outputs": []
    },
    {
      "cell_type": "markdown",
      "metadata": {
        "id": "MxQbphc5r2fF",
        "colab_type": "text"
      },
      "source": [
        "# Step - 6 : Evaluation"
      ]
    },
    {
      "cell_type": "markdown",
      "metadata": {
        "id": "FtA5kul0qGew",
        "colab_type": "text"
      },
      "source": [
        "## Evaluation\n",
        "\n",
        "We can check precision, recall, f1 - score using classification report!"
      ]
    },
    {
      "cell_type": "markdown",
      "metadata": {
        "id": "OHiyGYVpqGew",
        "colab_type": "text"
      },
      "source": [
        "#### Confusion Matrix"
      ]
    },
    {
      "cell_type": "code",
      "metadata": {
        "id": "Qms9QjqeqGex",
        "colab_type": "code",
        "colab": {}
      },
      "source": [
        "from sklearn.metrics import confusion_matrix, classification_report"
      ],
      "execution_count": 0,
      "outputs": []
    },
    {
      "cell_type": "markdown",
      "metadata": {
        "id": "oFrtqs9vqGez",
        "colab_type": "text"
      },
      "source": [
        "## Confusion Matrix\n",
        "\n",
        "True positive   |\tFalse positive,  \n",
        "________________|________________  \n",
        "                |                  \n",
        "False negative  |\tTrue negative    "
      ]
    },
    {
      "cell_type": "code",
      "metadata": {
        "id": "xoJmRVG7qGez",
        "colab_type": "code",
        "colab": {}
      },
      "source": [
        "print(confusion_matrix(y_test, predict))"
      ],
      "execution_count": 0,
      "outputs": []
    },
    {
      "cell_type": "markdown",
      "metadata": {
        "id": "9Z1-yu_vqGe2",
        "colab_type": "text"
      },
      "source": [
        "#### Precision Score"
      ]
    },
    {
      "cell_type": "markdown",
      "metadata": {
        "id": "mcj-1sHYqGe2",
        "colab_type": "text"
      },
      "source": [
        "The precision is the ratio tp / (tp + fp) where tp is the number of true positives and fp the number of false positives. The precision is intuitively the ability of the classifier not to label as positive a sample that is negative.\n",
        "\n",
        "The best value is 1 and the worst value is 0."
      ]
    },
    {
      "cell_type": "code",
      "metadata": {
        "id": "65HchaaPqGe4",
        "colab_type": "code",
        "colab": {}
      },
      "source": [
        "from sklearn.metrics import precision_score"
      ],
      "execution_count": 0,
      "outputs": []
    },
    {
      "cell_type": "code",
      "metadata": {
        "id": "c_I5eE7uqGe6",
        "colab_type": "code",
        "colab": {}
      },
      "source": [
        "print(precision_score(y_test,predict))"
      ],
      "execution_count": 0,
      "outputs": []
    },
    {
      "cell_type": "markdown",
      "metadata": {
        "id": "ndN57PlvqGe9",
        "colab_type": "text"
      },
      "source": [
        "#### Recall score"
      ]
    },
    {
      "cell_type": "markdown",
      "metadata": {
        "id": "wnfIk5lhqGe9",
        "colab_type": "text"
      },
      "source": [
        "The recall is the ratio tp / (tp + fn) where tp is the number of true positives and fn the number of false negatives. The recall is intuitively the ability of the classifier to find all the positive samples.\n",
        "\n",
        "The best value is 1 and the worst value is 0."
      ]
    },
    {
      "cell_type": "code",
      "metadata": {
        "id": "XjigXG56qGe9",
        "colab_type": "code",
        "colab": {}
      },
      "source": [
        "from sklearn.metrics import recall_score"
      ],
      "execution_count": 0,
      "outputs": []
    },
    {
      "cell_type": "code",
      "metadata": {
        "id": "buu1n6O3qGe_",
        "colab_type": "code",
        "colab": {}
      },
      "source": [
        "print(recall_score(y_test,predict))"
      ],
      "execution_count": 0,
      "outputs": []
    },
    {
      "cell_type": "markdown",
      "metadata": {
        "id": "XBU67SX3qGfA",
        "colab_type": "text"
      },
      "source": [
        "#### f1_score"
      ]
    },
    {
      "cell_type": "markdown",
      "metadata": {
        "id": "HDraVqivqGfA",
        "colab_type": "text"
      },
      "source": [
        "The F1 score can be interpreted as a weighted average of the precision and recall, where an F1 score reaches its best value at 1 and worst score at 0. The relative contribution of precision and recall to the F1 score are equal. The formula for the F1 score is:\n",
        "                F1 = 2 \\* (precision \\* recall) / (precision + recall)"
      ]
    },
    {
      "cell_type": "code",
      "metadata": {
        "id": "9R8FIjtdqGfA",
        "colab_type": "code",
        "colab": {}
      },
      "source": [
        "from sklearn.metrics import f1_score"
      ],
      "execution_count": 0,
      "outputs": []
    },
    {
      "cell_type": "code",
      "metadata": {
        "id": "8gI5gjbLqGfC",
        "colab_type": "code",
        "colab": {}
      },
      "source": [
        "print(f1_score(y_test,predict))"
      ],
      "execution_count": 0,
      "outputs": []
    },
    {
      "cell_type": "markdown",
      "metadata": {
        "id": "t9YzG2swqGfF",
        "colab_type": "text"
      },
      "source": [
        "To get all the above metrics at one go, use the following function:"
      ]
    },
    {
      "cell_type": "code",
      "metadata": {
        "id": "cUCMnocIqGfF",
        "colab_type": "code",
        "colab": {}
      },
      "source": [
        "from sklearn.metrics import classification_report"
      ],
      "execution_count": 0,
      "outputs": []
    },
    {
      "cell_type": "code",
      "metadata": {
        "id": "WpCBr2d2qGfG",
        "colab_type": "code",
        "colab": {}
      },
      "source": [
        "print(classification_report(y_test,predict))"
      ],
      "execution_count": 0,
      "outputs": []
    },
    {
      "cell_type": "code",
      "metadata": {
        "id": "78s1G6-VnrLn",
        "colab_type": "code",
        "colab": {}
      },
      "source": [
        ""
      ],
      "execution_count": 0,
      "outputs": []
    },
    {
      "cell_type": "markdown",
      "metadata": {
        "id": "y1FQpzDB4YQm",
        "colab_type": "text"
      },
      "source": [
        "# Step - 5 B: Many More Models\n"
      ]
    },
    {
      "cell_type": "code",
      "metadata": {
        "id": "wNannrFP4YQp",
        "colab_type": "code",
        "colab": {}
      },
      "source": [
        "from sklearn import svm,model_selection, tree, linear_model, neighbors \n",
        "from sklearn import naive_bayes, ensemble, discriminant_analysis, gaussian_process\n",
        "\n",
        "ManyMoreAlgols = [\n",
        "   \n",
        "                   #Ensemble Methods\n",
        "                    ensemble.AdaBoostClassifier(),\n",
        "                    ensemble.BaggingClassifier(),\n",
        "                    ensemble.ExtraTreesClassifier(),\n",
        "                    ensemble.GradientBoostingClassifier(),\n",
        "                    ensemble.RandomForestClassifier(),\n",
        "\n",
        "                    #Gaussian Processes\n",
        "                    gaussian_process.GaussianProcessClassifier(),\n",
        "\n",
        "                    #GLM\n",
        "                    linear_model.LogisticRegressionCV(),\n",
        "                    linear_model.PassiveAggressiveClassifier(),\n",
        "                    linear_model.RidgeClassifierCV(),\n",
        "                    linear_model.SGDClassifier(),\n",
        "                    linear_model.Perceptron(),\n",
        "\n",
        "                    #Navies Bayes\n",
        "                    naive_bayes.BernoulliNB(),\n",
        "                    naive_bayes.GaussianNB(),\n",
        "\n",
        "                    #Nearest Neighbor\n",
        "                    neighbors.KNeighborsClassifier(),\n",
        "\n",
        "                    #SVM\n",
        "                    svm.SVC(probability=True),\n",
        "                    svm.NuSVC(probability=True),\n",
        "                    svm.LinearSVC(),\n",
        "\n",
        "                    #Trees    \n",
        "                    tree.DecisionTreeClassifier(),\n",
        "                   #tree.ExtraTreeClassifier(),\n",
        "\n",
        "          ]\n"
      ],
      "execution_count": 0,
      "outputs": []
    },
    {
      "cell_type": "code",
      "metadata": {
        "id": "sBjyohnV4YQs",
        "colab_type": "code",
        "colab": {}
      },
      "source": [
        "from sklearn.metrics import confusion_matrix, precision_score, recall_score,accuracy_score, f1_score\n",
        "\n",
        "Algols_columns = []\n",
        "Algols_compare = pd.DataFrame(columns = Algols_columns)\n",
        "\n",
        "\n",
        "row_index = 0\n",
        "\n",
        "#Run once for each alogorithm and collect the summary\n",
        "for alg in ManyMoreAlgols:\n",
        "    \n",
        "    predicted = alg.fit(X_train, y_train).predict(X_test)\n",
        "    Algo_name = alg.__class__.__name__\n",
        "    Algols_compare.loc[row_index,'Name'] = Algo_name\n",
        "    Algols_compare.loc[row_index, 'Accuracy'] = accuracy_score(y_test, predicted)\n",
        "    Algols_compare.loc[row_index, 'Precission'] = precision_score(y_test, predicted)\n",
        "    Algols_compare.loc[row_index, 'Recall'] = recall_score(y_test, predicted)\n",
        "    Algols_compare.loc[row_index, 'F1'] = f1_score(y_test, predicted)\n",
        "\n",
        "\n",
        "    row_index+=1\n",
        "    \n",
        "\n",
        "    \n",
        "#sort by Accuracy     \n",
        "Algols_compare.sort_values(by = ['Precission'], ascending = False, inplace = True)    \n",
        "\n",
        "#display output\n",
        "Algols_compare"
      ],
      "execution_count": 0,
      "outputs": []
    },
    {
      "cell_type": "code",
      "metadata": {
        "id": "fzOZOmma8ptE",
        "colab_type": "code",
        "colab": {}
      },
      "source": [
        "Algols_compare.sort_values(by = ['F1'], ascending = False, inplace = True)    \n",
        "\n",
        "f = ()\n",
        "\n",
        "#display output\n",
        "Algols_compare"
      ],
      "execution_count": 0,
      "outputs": []
    },
    {
      "cell_type": "code",
      "metadata": {
        "id": "1nNH2vpY8u88",
        "colab_type": "code",
        "colab": {}
      },
      "source": [
        "Algols_compare.sort_values(by = ['Recall'], ascending = False, inplace = True)    \n",
        "\n",
        "#display output\n",
        "Algols_compare"
      ],
      "execution_count": 0,
      "outputs": []
    },
    {
      "cell_type": "code",
      "metadata": {
        "id": "dhD7c8Kp4YQv",
        "colab_type": "code",
        "colab": {}
      },
      "source": [
        "from sklearn import model_selection"
      ],
      "execution_count": 0,
      "outputs": []
    },
    {
      "cell_type": "code",
      "metadata": {
        "id": "9FHerU3x4YQ1",
        "colab_type": "code",
        "colab": {}
      },
      "source": [
        "grid_search_models = [\n",
        "                        [ linear_model.LogisticRegression(),     {\n",
        "                                                                    'C': [0.001, 0.01, 0.1, 1, 10, 100, 1000],\n",
        "                                                                 } ],\n",
        "\n",
        "                          [ linear_model.LogisticRegressionCV(), {\n",
        "                                                                    'solver' : ['newton-cg', 'lbfgs',],\n",
        "                                                                    'max_iter' : [10,30,50], \n",
        "\n",
        "                                                                 } ],\n",
        "\n",
        "                          [ svm.LinearSVC(),                     {\n",
        "                                                                    'C': [ 0.01, 0.1, 1, 10],\n",
        "                                                                    'max_iter' : [10,30,50],\n",
        "                              \n",
        "                                                                 } ],\n",
        "\n",
        "                          [ tree.DecisionTreeClassifier(),       {\n",
        "                                                                    'max_depth' :  [1,2,3,4],\n",
        "                                                                    'max_features' : ['sqrt', 'log2',None],\n",
        "                                                                 } ],\n",
        "                                  \n",
        "                    ]"
      ],
      "execution_count": 0,
      "outputs": []
    },
    {
      "cell_type": "code",
      "metadata": {
        "id": "BubcthW_4YQ4",
        "colab_type": "code",
        "colab": {}
      },
      "source": [
        "for model,params in grid_search_models:\n",
        "    tune_model = model_selection.GridSearchCV(model, param_grid=params, scoring = 'roc_auc',verbose=0)\n",
        "    tune_model.fit (X_train, y_train)\n",
        "    print(tune_model.best_params_)\n",
        "    print (model.__class__.__name__,tune_model.score(X_test, y_test))"
      ],
      "execution_count": 0,
      "outputs": []
    },
    {
      "cell_type": "markdown",
      "metadata": {
        "id": "T_fkmW6Lr5sc",
        "colab_type": "text"
      },
      "source": [
        "# Step - 7 : Predict on New Cases"
      ]
    },
    {
      "cell_type": "markdown",
      "metadata": {
        "id": "8jw68DIRqGfH",
        "colab_type": "text"
      },
      "source": [
        "## Prediction on Test Data From Kaggle\n",
        "\n",
        "create an account on www.kaggle.com"
      ]
    },
    {
      "cell_type": "code",
      "metadata": {
        "id": "rnIhqWcBqGfH",
        "colab_type": "code",
        "colab": {}
      },
      "source": [
        "!wget https://www.dropbox.com/s/6hyaidkuyfsv45u/production.csv\n",
        "prod_data=pd.read_csv('production.csv')"
      ],
      "execution_count": 0,
      "outputs": []
    },
    {
      "cell_type": "code",
      "metadata": {
        "id": "DYNcmSBDqGfK",
        "colab_type": "code",
        "colab": {}
      },
      "source": [
        "prod_data.info()"
      ],
      "execution_count": 0,
      "outputs": []
    },
    {
      "cell_type": "code",
      "metadata": {
        "id": "HXfrnBmSqGfM",
        "colab_type": "code",
        "colab": {}
      },
      "source": [
        "prod_data.head()\n"
      ],
      "execution_count": 0,
      "outputs": []
    },
    {
      "cell_type": "code",
      "metadata": {
        "id": "aYPbGOa5qGfN",
        "colab_type": "code",
        "colab": {}
      },
      "source": [
        "ms.matrix(prod_data)"
      ],
      "execution_count": 0,
      "outputs": []
    },
    {
      "cell_type": "markdown",
      "metadata": {
        "id": "uZtXdHmXqGfN",
        "colab_type": "text"
      },
      "source": [
        "### Data Cleaning"
      ]
    },
    {
      "cell_type": "markdown",
      "metadata": {
        "id": "c3-Q26YAqGfN",
        "colab_type": "text"
      },
      "source": [
        "There are inconsistencies in test data.We can use the same graph functions that are used to visualize the train data for test data as well.We use the same data cleaning techniques like removing the cabin column and applying impute_age function on age column on test data.  \n",
        "But we cannot remove any rows because kaggle wants same number of rows in submission csv also. So we fill the missing values in fare with mean."
      ]
    },
    {
      "cell_type": "code",
      "metadata": {
        "id": "KsHb_ko1qGfP",
        "colab_type": "code",
        "colab": {}
      },
      "source": [
        "prod_data['Age'] = prod_data[['Age','Pclass']].apply(impute_age,axis=1)"
      ],
      "execution_count": 0,
      "outputs": []
    },
    {
      "cell_type": "code",
      "metadata": {
        "id": "s2tm_cfqqGfQ",
        "colab_type": "code",
        "colab": {}
      },
      "source": [
        "ms.matrix(prod_data)"
      ],
      "execution_count": 0,
      "outputs": []
    },
    {
      "cell_type": "code",
      "metadata": {
        "id": "R1IGYbNbqGfT",
        "colab_type": "code",
        "colab": {}
      },
      "source": [
        "prod_data.drop('Cabin', axis = 1, inplace= True)"
      ],
      "execution_count": 0,
      "outputs": []
    },
    {
      "cell_type": "code",
      "metadata": {
        "id": "q4dt1-vAqGfU",
        "colab_type": "code",
        "colab": {}
      },
      "source": [
        "ms.matrix(prod_data)"
      ],
      "execution_count": 0,
      "outputs": []
    },
    {
      "cell_type": "code",
      "metadata": {
        "id": "6By8hiwrqGfV",
        "colab_type": "code",
        "colab": {}
      },
      "source": [
        "prod_data.fillna(prod_data['Fare'].mean(),inplace=True)"
      ],
      "execution_count": 0,
      "outputs": []
    },
    {
      "cell_type": "code",
      "metadata": {
        "id": "k31N4YzxqGfV",
        "colab_type": "code",
        "colab": {}
      },
      "source": [
        "prod_data.info()"
      ],
      "execution_count": 0,
      "outputs": []
    },
    {
      "cell_type": "code",
      "metadata": {
        "id": "lGxAUKi2qGfX",
        "colab_type": "code",
        "colab": {}
      },
      "source": [
        "ms.matrix(prod_data)"
      ],
      "execution_count": 0,
      "outputs": []
    },
    {
      "cell_type": "code",
      "metadata": {
        "id": "k9Jx7nvTqGfZ",
        "colab_type": "code",
        "colab": {}
      },
      "source": [
        "sex = pd.get_dummies(prod_data['Sex'], drop_first=True)\n",
        "embark = pd.get_dummies(prod_data['Embarked'], drop_first=True)\n",
        "\n",
        "prod_data.drop(['Sex','Embarked','Name','Ticket'],axis=1,inplace=True)\n",
        "\n",
        "prod_data = pd.concat([prod_data,sex,embark],axis=1)"
      ],
      "execution_count": 0,
      "outputs": []
    },
    {
      "cell_type": "code",
      "metadata": {
        "id": "LJbu2foTqGfa",
        "colab_type": "code",
        "colab": {}
      },
      "source": [
        "prod_data.head()"
      ],
      "execution_count": 0,
      "outputs": []
    },
    {
      "cell_type": "code",
      "metadata": {
        "id": "pnCJxZ3dqGfc",
        "colab_type": "code",
        "colab": {}
      },
      "source": [
        "predict1=logmodel.predict(prod_data)"
      ],
      "execution_count": 0,
      "outputs": []
    },
    {
      "cell_type": "code",
      "metadata": {
        "id": "5VQ5f1iCqGff",
        "colab_type": "code",
        "colab": {}
      },
      "source": [
        "predict1"
      ],
      "execution_count": 0,
      "outputs": []
    },
    {
      "cell_type": "code",
      "metadata": {
        "id": "Wc-VVMB9qGfh",
        "colab_type": "code",
        "colab": {}
      },
      "source": [
        "df1=pd.DataFrame(predict1,columns=['Survived'])"
      ],
      "execution_count": 0,
      "outputs": []
    },
    {
      "cell_type": "code",
      "metadata": {
        "id": "CVpkokggqGfi",
        "colab_type": "code",
        "colab": {}
      },
      "source": [
        "df2=pd.DataFrame(prod_data['PassengerId'],columns=['PassengerId'])"
      ],
      "execution_count": 0,
      "outputs": []
    },
    {
      "cell_type": "code",
      "metadata": {
        "id": "5XB5PGdQqGfj",
        "colab_type": "code",
        "colab": {}
      },
      "source": [
        "df2.head()"
      ],
      "execution_count": 0,
      "outputs": []
    },
    {
      "cell_type": "code",
      "metadata": {
        "id": "TCPDeXq9qGfk",
        "colab_type": "code",
        "colab": {}
      },
      "source": [
        "result = pd.concat([df2,df1],axis=1)\n",
        "result.head()"
      ],
      "execution_count": 0,
      "outputs": []
    },
    {
      "cell_type": "code",
      "metadata": {
        "id": "MJI3XUNbqGfm",
        "colab_type": "code",
        "colab": {}
      },
      "source": [
        "result.to_csv('result.csv',index=False)"
      ],
      "execution_count": 0,
      "outputs": []
    },
    {
      "cell_type": "code",
      "metadata": {
        "id": "kxAEAL5bpBjF",
        "colab_type": "code",
        "colab": {}
      },
      "source": [
        "from google.colab import files\n",
        "files.download('result.csv') "
      ],
      "execution_count": 0,
      "outputs": []
    },
    {
      "cell_type": "code",
      "metadata": {
        "id": "9MFqPAUfjKT-",
        "colab_type": "code",
        "colab": {}
      },
      "source": [
        "!ls -l"
      ],
      "execution_count": 0,
      "outputs": []
    },
    {
      "cell_type": "markdown",
      "metadata": {
        "id": "LQ6UuWP6qGfn",
        "colab_type": "text"
      },
      "source": [
        "Submit the file to https://www.kaggle.com/c/titanic"
      ]
    },
    {
      "cell_type": "markdown",
      "metadata": {
        "id": "TXRha7n1qGfn",
        "colab_type": "text"
      },
      "source": [
        "---\n",
        "                                                     THE END"
      ]
    }
  ]
}