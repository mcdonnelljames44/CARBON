{
  "nbformat": 4,
  "nbformat_minor": 0,
  "metadata": {
    "colab": {
      "name": "Stock_Market_Analysis (BL).ipynb",
      "version": "0.3.2",
      "provenance": [],
      "collapsed_sections": [
        "uQnpofgmahqb"
      ]
    },
    "kernelspec": {
      "display_name": "Python 3",
      "language": "python",
      "name": "python3"
    }
  },
  "cells": [
    {
      "cell_type": "markdown",
      "metadata": {
        "id": "fhDw1wWQahmQ",
        "colab_type": "text"
      },
      "source": [
        "# Stock Market Analysis"
      ]
    },
    {
      "cell_type": "markdown",
      "metadata": {
        "id": "7I4MQuX5ahmT",
        "colab_type": "text"
      },
      "source": [
        "### Problem Link : https://www.kaggle.com/daiearth22/uniqlo-fastretailing-stock-price-prediction/data"
      ]
    },
    {
      "cell_type": "markdown",
      "metadata": {
        "id": "YWeuxfbmahmU",
        "colab_type": "text"
      },
      "source": [
        "#### Necessary Import Statements"
      ]
    },
    {
      "cell_type": "code",
      "metadata": {
        "id": "qX2NpITuahmV",
        "colab_type": "code",
        "colab": {}
      },
      "source": [
        "import pandas as pd\n",
        "import numpy as np\n",
        "%matplotlib inline\n",
        "from matplotlib import pyplot as plt\n",
        "from pandas import Series\n",
        "from pandas import DataFrame\n",
        "from pandas import concat\n",
        "\n",
        "# Train test split\n",
        "from sklearn.model_selection import TimeSeriesSplit\n",
        "\n",
        "\n",
        "# Models\n",
        "from sklearn.svm import LinearSVC\n",
        "from sklearn.ensemble import RandomForestRegressor\n",
        "\n",
        "# Model evaluators\n",
        "from sklearn.metrics import f1_score,confusion_matrix"
      ],
      "execution_count": 0,
      "outputs": []
    },
    {
      "cell_type": "markdown",
      "metadata": {
        "id": "c6QtwVDVahmd",
        "colab_type": "text"
      },
      "source": [
        "### Reading the Train Data"
      ]
    },
    {
      "cell_type": "code",
      "metadata": {
        "id": "we2fw9bubBIO",
        "colab_type": "code",
        "outputId": "2c0d2312-342c-4fc1-eba2-1f27df1f662e",
        "colab": {
          "base_uri": "https://localhost:8080/",
          "height": 362
        }
      },
      "source": [
        "# For Google Colab, uncomment the lines below\n",
        "\n",
        "!wget https://www.dropbox.com/s/22nfk89c8hshxhs/Train.csv\n",
        "train = pd.read_csv(\"Train.csv\")"
      ],
      "execution_count": 2,
      "outputs": [
        {
          "output_type": "stream",
          "text": [
            "--2019-05-11 22:12:52--  https://www.dropbox.com/s/22nfk89c8hshxhs/Train.csv\n",
            "Resolving www.dropbox.com (www.dropbox.com)... 162.125.81.1, 2620:100:6031:1::a27d:5101\n",
            "Connecting to www.dropbox.com (www.dropbox.com)|162.125.81.1|:443... connected.\n",
            "HTTP request sent, awaiting response... 301 Moved Permanently\n",
            "Location: /s/raw/22nfk89c8hshxhs/Train.csv [following]\n",
            "--2019-05-11 22:12:53--  https://www.dropbox.com/s/raw/22nfk89c8hshxhs/Train.csv\n",
            "Reusing existing connection to www.dropbox.com:443.\n",
            "HTTP request sent, awaiting response... 302 Found\n",
            "Location: https://ucb3cf8c78beb469bad7bed4860a.dl.dropboxusercontent.com/cd/0/inline/AgtJ34damFmK-NeCWtcbwkQThtbCE6yp0YoCEpYp6fY92sGjljYR82TyGpkUHf0f3U6PNU-6wWmWozcr08xGJzfeYtyBFzVsBGRuvIeTrMzFog/file# [following]\n",
            "--2019-05-11 22:12:54--  https://ucb3cf8c78beb469bad7bed4860a.dl.dropboxusercontent.com/cd/0/inline/AgtJ34damFmK-NeCWtcbwkQThtbCE6yp0YoCEpYp6fY92sGjljYR82TyGpkUHf0f3U6PNU-6wWmWozcr08xGJzfeYtyBFzVsBGRuvIeTrMzFog/file\n",
            "Resolving ucb3cf8c78beb469bad7bed4860a.dl.dropboxusercontent.com (ucb3cf8c78beb469bad7bed4860a.dl.dropboxusercontent.com)... 162.125.8.6, 2620:100:6031:6::a27d:5106\n",
            "Connecting to ucb3cf8c78beb469bad7bed4860a.dl.dropboxusercontent.com (ucb3cf8c78beb469bad7bed4860a.dl.dropboxusercontent.com)|162.125.8.6|:443... connected.\n",
            "HTTP request sent, awaiting response... 200 OK\n",
            "Length: 67529 (66K) [text/plain]\n",
            "Saving to: ‘Train.csv’\n",
            "\n",
            "Train.csv           100%[===================>]  65.95K  --.-KB/s    in 0.08s   \n",
            "\n",
            "2019-05-11 22:12:54 (858 KB/s) - ‘Train.csv’ saved [67529/67529]\n",
            "\n"
          ],
          "name": "stdout"
        }
      ]
    },
    {
      "cell_type": "code",
      "metadata": {
        "id": "YLl9hH6dbd2_",
        "colab_type": "code",
        "colab": {}
      },
      "source": [
        "# For Jupyter Notebook, uncomment the lines below\n",
        "\n",
        "# train = pd.read_csv(\"stock_train.csv\")"
      ],
      "execution_count": 0,
      "outputs": []
    },
    {
      "cell_type": "code",
      "metadata": {
        "id": "25EZyfbOahme",
        "colab_type": "code",
        "outputId": "58e93475-d755-455c-961e-d0ee53f6b137",
        "colab": {
          "base_uri": "https://localhost:8080/",
          "height": 212
        }
      },
      "source": [
        "train.info()"
      ],
      "execution_count": 4,
      "outputs": [
        {
          "output_type": "stream",
          "text": [
            "<class 'pandas.core.frame.DataFrame'>\n",
            "RangeIndex: 1226 entries, 0 to 1225\n",
            "Data columns (total 7 columns):\n",
            "Date             1226 non-null object\n",
            "Open             1226 non-null int64\n",
            "High             1226 non-null int64\n",
            "Low              1226 non-null int64\n",
            "Close            1226 non-null int64\n",
            "Volume           1226 non-null int64\n",
            "Stock Trading    1226 non-null int64\n",
            "dtypes: int64(6), object(1)\n",
            "memory usage: 67.1+ KB\n"
          ],
          "name": "stdout"
        }
      ]
    },
    {
      "cell_type": "code",
      "metadata": {
        "id": "D7YJ-kQ8ahmm",
        "colab_type": "code",
        "outputId": "f6e9853c-d1c5-4c12-b3d2-1a775ba71ec4",
        "colab": {
          "base_uri": "https://localhost:8080/",
          "height": 191
        }
      },
      "source": [
        "train.head()"
      ],
      "execution_count": 5,
      "outputs": [
        {
          "output_type": "execute_result",
          "data": {
            "text/html": [
              "<div>\n",
              "<style scoped>\n",
              "    .dataframe tbody tr th:only-of-type {\n",
              "        vertical-align: middle;\n",
              "    }\n",
              "\n",
              "    .dataframe tbody tr th {\n",
              "        vertical-align: top;\n",
              "    }\n",
              "\n",
              "    .dataframe thead th {\n",
              "        text-align: right;\n",
              "    }\n",
              "</style>\n",
              "<table border=\"1\" class=\"dataframe\">\n",
              "  <thead>\n",
              "    <tr style=\"text-align: right;\">\n",
              "      <th></th>\n",
              "      <th>Date</th>\n",
              "      <th>Open</th>\n",
              "      <th>High</th>\n",
              "      <th>Low</th>\n",
              "      <th>Close</th>\n",
              "      <th>Volume</th>\n",
              "      <th>Stock Trading</th>\n",
              "    </tr>\n",
              "  </thead>\n",
              "  <tbody>\n",
              "    <tr>\n",
              "      <th>0</th>\n",
              "      <td>2016-12-30</td>\n",
              "      <td>42120</td>\n",
              "      <td>42330</td>\n",
              "      <td>41700</td>\n",
              "      <td>41830</td>\n",
              "      <td>610000</td>\n",
              "      <td>25628028000</td>\n",
              "    </tr>\n",
              "    <tr>\n",
              "      <th>1</th>\n",
              "      <td>2016-12-29</td>\n",
              "      <td>43000</td>\n",
              "      <td>43220</td>\n",
              "      <td>42540</td>\n",
              "      <td>42660</td>\n",
              "      <td>448400</td>\n",
              "      <td>19188227000</td>\n",
              "    </tr>\n",
              "    <tr>\n",
              "      <th>2</th>\n",
              "      <td>2016-12-28</td>\n",
              "      <td>43940</td>\n",
              "      <td>43970</td>\n",
              "      <td>43270</td>\n",
              "      <td>43270</td>\n",
              "      <td>339900</td>\n",
              "      <td>14780670000</td>\n",
              "    </tr>\n",
              "    <tr>\n",
              "      <th>3</th>\n",
              "      <td>2016-12-27</td>\n",
              "      <td>43140</td>\n",
              "      <td>43700</td>\n",
              "      <td>43140</td>\n",
              "      <td>43620</td>\n",
              "      <td>400100</td>\n",
              "      <td>17427993000</td>\n",
              "    </tr>\n",
              "    <tr>\n",
              "      <th>4</th>\n",
              "      <td>2016-12-26</td>\n",
              "      <td>43310</td>\n",
              "      <td>43660</td>\n",
              "      <td>43090</td>\n",
              "      <td>43340</td>\n",
              "      <td>358200</td>\n",
              "      <td>15547803000</td>\n",
              "    </tr>\n",
              "  </tbody>\n",
              "</table>\n",
              "</div>"
            ],
            "text/plain": [
              "         Date   Open   High    Low  Close  Volume  Stock Trading\n",
              "0  2016-12-30  42120  42330  41700  41830  610000    25628028000\n",
              "1  2016-12-29  43000  43220  42540  42660  448400    19188227000\n",
              "2  2016-12-28  43940  43970  43270  43270  339900    14780670000\n",
              "3  2016-12-27  43140  43700  43140  43620  400100    17427993000\n",
              "4  2016-12-26  43310  43660  43090  43340  358200    15547803000"
            ]
          },
          "metadata": {
            "tags": []
          },
          "execution_count": 5
        }
      ]
    },
    {
      "cell_type": "code",
      "metadata": {
        "id": "pIG9UsEwekfr",
        "colab_type": "code",
        "outputId": "84972f3b-ffca-4980-897a-13c5f45b7d4c",
        "colab": {
          "base_uri": "https://localhost:8080/",
          "height": 220
        }
      },
      "source": [
        "train['Date'] = train['Date'].apply(pd.to_datetime)\n",
        "train.set_index('Date', inplace=True)\n",
        "train.head()"
      ],
      "execution_count": 6,
      "outputs": [
        {
          "output_type": "execute_result",
          "data": {
            "text/html": [
              "<div>\n",
              "<style scoped>\n",
              "    .dataframe tbody tr th:only-of-type {\n",
              "        vertical-align: middle;\n",
              "    }\n",
              "\n",
              "    .dataframe tbody tr th {\n",
              "        vertical-align: top;\n",
              "    }\n",
              "\n",
              "    .dataframe thead th {\n",
              "        text-align: right;\n",
              "    }\n",
              "</style>\n",
              "<table border=\"1\" class=\"dataframe\">\n",
              "  <thead>\n",
              "    <tr style=\"text-align: right;\">\n",
              "      <th></th>\n",
              "      <th>Open</th>\n",
              "      <th>High</th>\n",
              "      <th>Low</th>\n",
              "      <th>Close</th>\n",
              "      <th>Volume</th>\n",
              "      <th>Stock Trading</th>\n",
              "    </tr>\n",
              "    <tr>\n",
              "      <th>Date</th>\n",
              "      <th></th>\n",
              "      <th></th>\n",
              "      <th></th>\n",
              "      <th></th>\n",
              "      <th></th>\n",
              "      <th></th>\n",
              "    </tr>\n",
              "  </thead>\n",
              "  <tbody>\n",
              "    <tr>\n",
              "      <th>2016-12-30</th>\n",
              "      <td>42120</td>\n",
              "      <td>42330</td>\n",
              "      <td>41700</td>\n",
              "      <td>41830</td>\n",
              "      <td>610000</td>\n",
              "      <td>25628028000</td>\n",
              "    </tr>\n",
              "    <tr>\n",
              "      <th>2016-12-29</th>\n",
              "      <td>43000</td>\n",
              "      <td>43220</td>\n",
              "      <td>42540</td>\n",
              "      <td>42660</td>\n",
              "      <td>448400</td>\n",
              "      <td>19188227000</td>\n",
              "    </tr>\n",
              "    <tr>\n",
              "      <th>2016-12-28</th>\n",
              "      <td>43940</td>\n",
              "      <td>43970</td>\n",
              "      <td>43270</td>\n",
              "      <td>43270</td>\n",
              "      <td>339900</td>\n",
              "      <td>14780670000</td>\n",
              "    </tr>\n",
              "    <tr>\n",
              "      <th>2016-12-27</th>\n",
              "      <td>43140</td>\n",
              "      <td>43700</td>\n",
              "      <td>43140</td>\n",
              "      <td>43620</td>\n",
              "      <td>400100</td>\n",
              "      <td>17427993000</td>\n",
              "    </tr>\n",
              "    <tr>\n",
              "      <th>2016-12-26</th>\n",
              "      <td>43310</td>\n",
              "      <td>43660</td>\n",
              "      <td>43090</td>\n",
              "      <td>43340</td>\n",
              "      <td>358200</td>\n",
              "      <td>15547803000</td>\n",
              "    </tr>\n",
              "  </tbody>\n",
              "</table>\n",
              "</div>"
            ],
            "text/plain": [
              "             Open   High    Low  Close  Volume  Stock Trading\n",
              "Date                                                         \n",
              "2016-12-30  42120  42330  41700  41830  610000    25628028000\n",
              "2016-12-29  43000  43220  42540  42660  448400    19188227000\n",
              "2016-12-28  43940  43970  43270  43270  339900    14780670000\n",
              "2016-12-27  43140  43700  43140  43620  400100    17427993000\n",
              "2016-12-26  43310  43660  43090  43340  358200    15547803000"
            ]
          },
          "metadata": {
            "tags": []
          },
          "execution_count": 6
        }
      ]
    },
    {
      "cell_type": "code",
      "metadata": {
        "id": "15yXiVygZQaD",
        "colab_type": "code",
        "outputId": "0637ae30-84d9-4c0e-cfd9-7e23fbadd156",
        "colab": {
          "base_uri": "https://localhost:8080/",
          "height": 33
        }
      },
      "source": [
        "type(train.index)"
      ],
      "execution_count": 7,
      "outputs": [
        {
          "output_type": "execute_result",
          "data": {
            "text/plain": [
              "pandas.core.indexes.datetimes.DatetimeIndex"
            ]
          },
          "metadata": {
            "tags": []
          },
          "execution_count": 7
        }
      ]
    },
    {
      "cell_type": "code",
      "metadata": {
        "id": "Dlypn9sJkkFl",
        "colab_type": "code",
        "outputId": "a9435f20-5a64-4daa-b298-c74a40da65bf",
        "colab": {
          "base_uri": "https://localhost:8080/",
          "height": 220
        }
      },
      "source": [
        "train.sort_index(inplace=True)\n",
        "train.head()"
      ],
      "execution_count": 8,
      "outputs": [
        {
          "output_type": "execute_result",
          "data": {
            "text/html": [
              "<div>\n",
              "<style scoped>\n",
              "    .dataframe tbody tr th:only-of-type {\n",
              "        vertical-align: middle;\n",
              "    }\n",
              "\n",
              "    .dataframe tbody tr th {\n",
              "        vertical-align: top;\n",
              "    }\n",
              "\n",
              "    .dataframe thead th {\n",
              "        text-align: right;\n",
              "    }\n",
              "</style>\n",
              "<table border=\"1\" class=\"dataframe\">\n",
              "  <thead>\n",
              "    <tr style=\"text-align: right;\">\n",
              "      <th></th>\n",
              "      <th>Open</th>\n",
              "      <th>High</th>\n",
              "      <th>Low</th>\n",
              "      <th>Close</th>\n",
              "      <th>Volume</th>\n",
              "      <th>Stock Trading</th>\n",
              "    </tr>\n",
              "    <tr>\n",
              "      <th>Date</th>\n",
              "      <th></th>\n",
              "      <th></th>\n",
              "      <th></th>\n",
              "      <th></th>\n",
              "      <th></th>\n",
              "      <th></th>\n",
              "    </tr>\n",
              "  </thead>\n",
              "  <tbody>\n",
              "    <tr>\n",
              "      <th>2012-01-04</th>\n",
              "      <td>14050</td>\n",
              "      <td>14050</td>\n",
              "      <td>13700</td>\n",
              "      <td>13720</td>\n",
              "      <td>559100</td>\n",
              "      <td>7719804000</td>\n",
              "    </tr>\n",
              "    <tr>\n",
              "      <th>2012-01-05</th>\n",
              "      <td>13720</td>\n",
              "      <td>13840</td>\n",
              "      <td>13600</td>\n",
              "      <td>13800</td>\n",
              "      <td>511500</td>\n",
              "      <td>7030811000</td>\n",
              "    </tr>\n",
              "    <tr>\n",
              "      <th>2012-01-06</th>\n",
              "      <td>13990</td>\n",
              "      <td>14030</td>\n",
              "      <td>13790</td>\n",
              "      <td>13850</td>\n",
              "      <td>765500</td>\n",
              "      <td>10635609000</td>\n",
              "    </tr>\n",
              "    <tr>\n",
              "      <th>2012-01-10</th>\n",
              "      <td>13890</td>\n",
              "      <td>14390</td>\n",
              "      <td>13860</td>\n",
              "      <td>14390</td>\n",
              "      <td>952300</td>\n",
              "      <td>13533413000</td>\n",
              "    </tr>\n",
              "    <tr>\n",
              "      <th>2012-01-11</th>\n",
              "      <td>14360</td>\n",
              "      <td>14750</td>\n",
              "      <td>14280</td>\n",
              "      <td>14590</td>\n",
              "      <td>1043400</td>\n",
              "      <td>15191988000</td>\n",
              "    </tr>\n",
              "  </tbody>\n",
              "</table>\n",
              "</div>"
            ],
            "text/plain": [
              "             Open   High    Low  Close   Volume  Stock Trading\n",
              "Date                                                          \n",
              "2012-01-04  14050  14050  13700  13720   559100     7719804000\n",
              "2012-01-05  13720  13840  13600  13800   511500     7030811000\n",
              "2012-01-06  13990  14030  13790  13850   765500    10635609000\n",
              "2012-01-10  13890  14390  13860  14390   952300    13533413000\n",
              "2012-01-11  14360  14750  14280  14590  1043400    15191988000"
            ]
          },
          "metadata": {
            "tags": []
          },
          "execution_count": 8
        }
      ]
    },
    {
      "cell_type": "code",
      "metadata": {
        "id": "5FKyklJKjI6w",
        "colab_type": "code",
        "colab": {}
      },
      "source": [
        "train['VWAP-Day'] = train['Stock Trading'] / train['Volume']"
      ],
      "execution_count": 0,
      "outputs": []
    },
    {
      "cell_type": "code",
      "metadata": {
        "id": "U5v_zhPyIeVx",
        "colab_type": "code",
        "outputId": "cb52d5f9-d278-49a5-f040-38a476cede56",
        "colab": {
          "base_uri": "https://localhost:8080/",
          "height": 220
        }
      },
      "source": [
        "train.head()"
      ],
      "execution_count": 10,
      "outputs": [
        {
          "output_type": "execute_result",
          "data": {
            "text/html": [
              "<div>\n",
              "<style scoped>\n",
              "    .dataframe tbody tr th:only-of-type {\n",
              "        vertical-align: middle;\n",
              "    }\n",
              "\n",
              "    .dataframe tbody tr th {\n",
              "        vertical-align: top;\n",
              "    }\n",
              "\n",
              "    .dataframe thead th {\n",
              "        text-align: right;\n",
              "    }\n",
              "</style>\n",
              "<table border=\"1\" class=\"dataframe\">\n",
              "  <thead>\n",
              "    <tr style=\"text-align: right;\">\n",
              "      <th></th>\n",
              "      <th>Open</th>\n",
              "      <th>High</th>\n",
              "      <th>Low</th>\n",
              "      <th>Close</th>\n",
              "      <th>Volume</th>\n",
              "      <th>Stock Trading</th>\n",
              "      <th>VWAP-Day</th>\n",
              "    </tr>\n",
              "    <tr>\n",
              "      <th>Date</th>\n",
              "      <th></th>\n",
              "      <th></th>\n",
              "      <th></th>\n",
              "      <th></th>\n",
              "      <th></th>\n",
              "      <th></th>\n",
              "      <th></th>\n",
              "    </tr>\n",
              "  </thead>\n",
              "  <tbody>\n",
              "    <tr>\n",
              "      <th>2012-01-04</th>\n",
              "      <td>14050</td>\n",
              "      <td>14050</td>\n",
              "      <td>13700</td>\n",
              "      <td>13720</td>\n",
              "      <td>559100</td>\n",
              "      <td>7719804000</td>\n",
              "      <td>13807.554999</td>\n",
              "    </tr>\n",
              "    <tr>\n",
              "      <th>2012-01-05</th>\n",
              "      <td>13720</td>\n",
              "      <td>13840</td>\n",
              "      <td>13600</td>\n",
              "      <td>13800</td>\n",
              "      <td>511500</td>\n",
              "      <td>7030811000</td>\n",
              "      <td>13745.476051</td>\n",
              "    </tr>\n",
              "    <tr>\n",
              "      <th>2012-01-06</th>\n",
              "      <td>13990</td>\n",
              "      <td>14030</td>\n",
              "      <td>13790</td>\n",
              "      <td>13850</td>\n",
              "      <td>765500</td>\n",
              "      <td>10635609000</td>\n",
              "      <td>13893.676029</td>\n",
              "    </tr>\n",
              "    <tr>\n",
              "      <th>2012-01-10</th>\n",
              "      <td>13890</td>\n",
              "      <td>14390</td>\n",
              "      <td>13860</td>\n",
              "      <td>14390</td>\n",
              "      <td>952300</td>\n",
              "      <td>13533413000</td>\n",
              "      <td>14211.291610</td>\n",
              "    </tr>\n",
              "    <tr>\n",
              "      <th>2012-01-11</th>\n",
              "      <td>14360</td>\n",
              "      <td>14750</td>\n",
              "      <td>14280</td>\n",
              "      <td>14590</td>\n",
              "      <td>1043400</td>\n",
              "      <td>15191988000</td>\n",
              "      <td>14560.080506</td>\n",
              "    </tr>\n",
              "  </tbody>\n",
              "</table>\n",
              "</div>"
            ],
            "text/plain": [
              "             Open   High    Low  Close   Volume  Stock Trading      VWAP-Day\n",
              "Date                                                                        \n",
              "2012-01-04  14050  14050  13700  13720   559100     7719804000  13807.554999\n",
              "2012-01-05  13720  13840  13600  13800   511500     7030811000  13745.476051\n",
              "2012-01-06  13990  14030  13790  13850   765500    10635609000  13893.676029\n",
              "2012-01-10  13890  14390  13860  14390   952300    13533413000  14211.291610\n",
              "2012-01-11  14360  14750  14280  14590  1043400    15191988000  14560.080506"
            ]
          },
          "metadata": {
            "tags": []
          },
          "execution_count": 10
        }
      ]
    },
    {
      "cell_type": "code",
      "metadata": {
        "id": "ya24lEaEahms",
        "colab_type": "code",
        "outputId": "8743c964-b8b3-497f-a00f-e4577ba71f5f",
        "colab": {
          "base_uri": "https://localhost:8080/",
          "height": 277
        }
      },
      "source": [
        "train.describe()"
      ],
      "execution_count": 11,
      "outputs": [
        {
          "output_type": "execute_result",
          "data": {
            "text/html": [
              "<div>\n",
              "<style scoped>\n",
              "    .dataframe tbody tr th:only-of-type {\n",
              "        vertical-align: middle;\n",
              "    }\n",
              "\n",
              "    .dataframe tbody tr th {\n",
              "        vertical-align: top;\n",
              "    }\n",
              "\n",
              "    .dataframe thead th {\n",
              "        text-align: right;\n",
              "    }\n",
              "</style>\n",
              "<table border=\"1\" class=\"dataframe\">\n",
              "  <thead>\n",
              "    <tr style=\"text-align: right;\">\n",
              "      <th></th>\n",
              "      <th>Open</th>\n",
              "      <th>High</th>\n",
              "      <th>Low</th>\n",
              "      <th>Close</th>\n",
              "      <th>Volume</th>\n",
              "      <th>Stock Trading</th>\n",
              "      <th>VWAP-Day</th>\n",
              "    </tr>\n",
              "  </thead>\n",
              "  <tbody>\n",
              "    <tr>\n",
              "      <th>count</th>\n",
              "      <td>1226.000000</td>\n",
              "      <td>1226.000000</td>\n",
              "      <td>1226.000000</td>\n",
              "      <td>1226.000000</td>\n",
              "      <td>1.226000e+03</td>\n",
              "      <td>1.226000e+03</td>\n",
              "      <td>1226.000000</td>\n",
              "    </tr>\n",
              "    <tr>\n",
              "      <th>mean</th>\n",
              "      <td>33754.416803</td>\n",
              "      <td>34178.784666</td>\n",
              "      <td>33347.903752</td>\n",
              "      <td>33760.583197</td>\n",
              "      <td>7.275556e+05</td>\n",
              "      <td>2.440933e+10</td>\n",
              "      <td>33763.026423</td>\n",
              "    </tr>\n",
              "    <tr>\n",
              "      <th>std</th>\n",
              "      <td>10813.440409</td>\n",
              "      <td>10936.326802</td>\n",
              "      <td>10695.664102</td>\n",
              "      <td>10815.661389</td>\n",
              "      <td>4.137178e+05</td>\n",
              "      <td>1.526300e+10</td>\n",
              "      <td>10812.850207</td>\n",
              "    </tr>\n",
              "    <tr>\n",
              "      <th>min</th>\n",
              "      <td>13720.000000</td>\n",
              "      <td>13840.000000</td>\n",
              "      <td>13600.000000</td>\n",
              "      <td>13720.000000</td>\n",
              "      <td>1.391000e+05</td>\n",
              "      <td>3.966140e+09</td>\n",
              "      <td>13745.476051</td>\n",
              "    </tr>\n",
              "    <tr>\n",
              "      <th>25%</th>\n",
              "      <td>27788.750000</td>\n",
              "      <td>28091.250000</td>\n",
              "      <td>27401.250000</td>\n",
              "      <td>27675.000000</td>\n",
              "      <td>4.873000e+05</td>\n",
              "      <td>1.454097e+10</td>\n",
              "      <td>27754.215142</td>\n",
              "    </tr>\n",
              "    <tr>\n",
              "      <th>50%</th>\n",
              "      <td>34445.000000</td>\n",
              "      <td>34835.000000</td>\n",
              "      <td>33925.000000</td>\n",
              "      <td>34412.500000</td>\n",
              "      <td>6.260000e+05</td>\n",
              "      <td>2.153772e+10</td>\n",
              "      <td>34402.817572</td>\n",
              "    </tr>\n",
              "    <tr>\n",
              "      <th>75%</th>\n",
              "      <td>41412.500000</td>\n",
              "      <td>41900.000000</td>\n",
              "      <td>40810.000000</td>\n",
              "      <td>41365.000000</td>\n",
              "      <td>8.267000e+05</td>\n",
              "      <td>3.015922e+10</td>\n",
              "      <td>41362.554281</td>\n",
              "    </tr>\n",
              "    <tr>\n",
              "      <th>max</th>\n",
              "      <td>61550.000000</td>\n",
              "      <td>61970.000000</td>\n",
              "      <td>60740.000000</td>\n",
              "      <td>61930.000000</td>\n",
              "      <td>4.937300e+06</td>\n",
              "      <td>1.460450e+11</td>\n",
              "      <td>61515.769283</td>\n",
              "    </tr>\n",
              "  </tbody>\n",
              "</table>\n",
              "</div>"
            ],
            "text/plain": [
              "               Open          High           Low         Close        Volume  \\\n",
              "count   1226.000000   1226.000000   1226.000000   1226.000000  1.226000e+03   \n",
              "mean   33754.416803  34178.784666  33347.903752  33760.583197  7.275556e+05   \n",
              "std    10813.440409  10936.326802  10695.664102  10815.661389  4.137178e+05   \n",
              "min    13720.000000  13840.000000  13600.000000  13720.000000  1.391000e+05   \n",
              "25%    27788.750000  28091.250000  27401.250000  27675.000000  4.873000e+05   \n",
              "50%    34445.000000  34835.000000  33925.000000  34412.500000  6.260000e+05   \n",
              "75%    41412.500000  41900.000000  40810.000000  41365.000000  8.267000e+05   \n",
              "max    61550.000000  61970.000000  60740.000000  61930.000000  4.937300e+06   \n",
              "\n",
              "       Stock Trading      VWAP-Day  \n",
              "count   1.226000e+03   1226.000000  \n",
              "mean    2.440933e+10  33763.026423  \n",
              "std     1.526300e+10  10812.850207  \n",
              "min     3.966140e+09  13745.476051  \n",
              "25%     1.454097e+10  27754.215142  \n",
              "50%     2.153772e+10  34402.817572  \n",
              "75%     3.015922e+10  41362.554281  \n",
              "max     1.460450e+11  61515.769283  "
            ]
          },
          "metadata": {
            "tags": []
          },
          "execution_count": 11
        }
      ]
    },
    {
      "cell_type": "code",
      "metadata": {
        "id": "HMfCJhBPahmy",
        "colab_type": "code",
        "outputId": "6d117a3d-5d8f-4b98-c418-b0ca758363e5",
        "colab": {
          "base_uri": "https://localhost:8080/",
          "height": 220
        }
      },
      "source": [
        "train.head()"
      ],
      "execution_count": 12,
      "outputs": [
        {
          "output_type": "execute_result",
          "data": {
            "text/html": [
              "<div>\n",
              "<style scoped>\n",
              "    .dataframe tbody tr th:only-of-type {\n",
              "        vertical-align: middle;\n",
              "    }\n",
              "\n",
              "    .dataframe tbody tr th {\n",
              "        vertical-align: top;\n",
              "    }\n",
              "\n",
              "    .dataframe thead th {\n",
              "        text-align: right;\n",
              "    }\n",
              "</style>\n",
              "<table border=\"1\" class=\"dataframe\">\n",
              "  <thead>\n",
              "    <tr style=\"text-align: right;\">\n",
              "      <th></th>\n",
              "      <th>Open</th>\n",
              "      <th>High</th>\n",
              "      <th>Low</th>\n",
              "      <th>Close</th>\n",
              "      <th>Volume</th>\n",
              "      <th>Stock Trading</th>\n",
              "      <th>VWAP-Day</th>\n",
              "    </tr>\n",
              "    <tr>\n",
              "      <th>Date</th>\n",
              "      <th></th>\n",
              "      <th></th>\n",
              "      <th></th>\n",
              "      <th></th>\n",
              "      <th></th>\n",
              "      <th></th>\n",
              "      <th></th>\n",
              "    </tr>\n",
              "  </thead>\n",
              "  <tbody>\n",
              "    <tr>\n",
              "      <th>2012-01-04</th>\n",
              "      <td>14050</td>\n",
              "      <td>14050</td>\n",
              "      <td>13700</td>\n",
              "      <td>13720</td>\n",
              "      <td>559100</td>\n",
              "      <td>7719804000</td>\n",
              "      <td>13807.554999</td>\n",
              "    </tr>\n",
              "    <tr>\n",
              "      <th>2012-01-05</th>\n",
              "      <td>13720</td>\n",
              "      <td>13840</td>\n",
              "      <td>13600</td>\n",
              "      <td>13800</td>\n",
              "      <td>511500</td>\n",
              "      <td>7030811000</td>\n",
              "      <td>13745.476051</td>\n",
              "    </tr>\n",
              "    <tr>\n",
              "      <th>2012-01-06</th>\n",
              "      <td>13990</td>\n",
              "      <td>14030</td>\n",
              "      <td>13790</td>\n",
              "      <td>13850</td>\n",
              "      <td>765500</td>\n",
              "      <td>10635609000</td>\n",
              "      <td>13893.676029</td>\n",
              "    </tr>\n",
              "    <tr>\n",
              "      <th>2012-01-10</th>\n",
              "      <td>13890</td>\n",
              "      <td>14390</td>\n",
              "      <td>13860</td>\n",
              "      <td>14390</td>\n",
              "      <td>952300</td>\n",
              "      <td>13533413000</td>\n",
              "      <td>14211.291610</td>\n",
              "    </tr>\n",
              "    <tr>\n",
              "      <th>2012-01-11</th>\n",
              "      <td>14360</td>\n",
              "      <td>14750</td>\n",
              "      <td>14280</td>\n",
              "      <td>14590</td>\n",
              "      <td>1043400</td>\n",
              "      <td>15191988000</td>\n",
              "      <td>14560.080506</td>\n",
              "    </tr>\n",
              "  </tbody>\n",
              "</table>\n",
              "</div>"
            ],
            "text/plain": [
              "             Open   High    Low  Close   Volume  Stock Trading      VWAP-Day\n",
              "Date                                                                        \n",
              "2012-01-04  14050  14050  13700  13720   559100     7719804000  13807.554999\n",
              "2012-01-05  13720  13840  13600  13800   511500     7030811000  13745.476051\n",
              "2012-01-06  13990  14030  13790  13850   765500    10635609000  13893.676029\n",
              "2012-01-10  13890  14390  13860  14390   952300    13533413000  14211.291610\n",
              "2012-01-11  14360  14750  14280  14590  1043400    15191988000  14560.080506"
            ]
          },
          "metadata": {
            "tags": []
          },
          "execution_count": 12
        }
      ]
    },
    {
      "cell_type": "code",
      "metadata": {
        "id": "ywlVAdDMkRU3",
        "colab_type": "code",
        "outputId": "27f7bd8a-a09e-4573-cff2-0d731bac5cf3",
        "colab": {
          "base_uri": "https://localhost:8080/",
          "height": 220
        }
      },
      "source": [
        "train.tail()"
      ],
      "execution_count": 13,
      "outputs": [
        {
          "output_type": "execute_result",
          "data": {
            "text/html": [
              "<div>\n",
              "<style scoped>\n",
              "    .dataframe tbody tr th:only-of-type {\n",
              "        vertical-align: middle;\n",
              "    }\n",
              "\n",
              "    .dataframe tbody tr th {\n",
              "        vertical-align: top;\n",
              "    }\n",
              "\n",
              "    .dataframe thead th {\n",
              "        text-align: right;\n",
              "    }\n",
              "</style>\n",
              "<table border=\"1\" class=\"dataframe\">\n",
              "  <thead>\n",
              "    <tr style=\"text-align: right;\">\n",
              "      <th></th>\n",
              "      <th>Open</th>\n",
              "      <th>High</th>\n",
              "      <th>Low</th>\n",
              "      <th>Close</th>\n",
              "      <th>Volume</th>\n",
              "      <th>Stock Trading</th>\n",
              "      <th>VWAP-Day</th>\n",
              "    </tr>\n",
              "    <tr>\n",
              "      <th>Date</th>\n",
              "      <th></th>\n",
              "      <th></th>\n",
              "      <th></th>\n",
              "      <th></th>\n",
              "      <th></th>\n",
              "      <th></th>\n",
              "      <th></th>\n",
              "    </tr>\n",
              "  </thead>\n",
              "  <tbody>\n",
              "    <tr>\n",
              "      <th>2016-12-26</th>\n",
              "      <td>43310</td>\n",
              "      <td>43660</td>\n",
              "      <td>43090</td>\n",
              "      <td>43340</td>\n",
              "      <td>358200</td>\n",
              "      <td>15547803000</td>\n",
              "      <td>43405.368509</td>\n",
              "    </tr>\n",
              "    <tr>\n",
              "      <th>2016-12-27</th>\n",
              "      <td>43140</td>\n",
              "      <td>43700</td>\n",
              "      <td>43140</td>\n",
              "      <td>43620</td>\n",
              "      <td>400100</td>\n",
              "      <td>17427993000</td>\n",
              "      <td>43559.092727</td>\n",
              "    </tr>\n",
              "    <tr>\n",
              "      <th>2016-12-28</th>\n",
              "      <td>43940</td>\n",
              "      <td>43970</td>\n",
              "      <td>43270</td>\n",
              "      <td>43270</td>\n",
              "      <td>339900</td>\n",
              "      <td>14780670000</td>\n",
              "      <td>43485.348632</td>\n",
              "    </tr>\n",
              "    <tr>\n",
              "      <th>2016-12-29</th>\n",
              "      <td>43000</td>\n",
              "      <td>43220</td>\n",
              "      <td>42540</td>\n",
              "      <td>42660</td>\n",
              "      <td>448400</td>\n",
              "      <td>19188227000</td>\n",
              "      <td>42792.656111</td>\n",
              "    </tr>\n",
              "    <tr>\n",
              "      <th>2016-12-30</th>\n",
              "      <td>42120</td>\n",
              "      <td>42330</td>\n",
              "      <td>41700</td>\n",
              "      <td>41830</td>\n",
              "      <td>610000</td>\n",
              "      <td>25628028000</td>\n",
              "      <td>42013.160656</td>\n",
              "    </tr>\n",
              "  </tbody>\n",
              "</table>\n",
              "</div>"
            ],
            "text/plain": [
              "             Open   High    Low  Close  Volume  Stock Trading      VWAP-Day\n",
              "Date                                                                       \n",
              "2016-12-26  43310  43660  43090  43340  358200    15547803000  43405.368509\n",
              "2016-12-27  43140  43700  43140  43620  400100    17427993000  43559.092727\n",
              "2016-12-28  43940  43970  43270  43270  339900    14780670000  43485.348632\n",
              "2016-12-29  43000  43220  42540  42660  448400    19188227000  42792.656111\n",
              "2016-12-30  42120  42330  41700  41830  610000    25628028000  42013.160656"
            ]
          },
          "metadata": {
            "tags": []
          },
          "execution_count": 13
        }
      ]
    },
    {
      "cell_type": "code",
      "metadata": {
        "id": "L0Kpnf09ahm6",
        "colab_type": "code",
        "outputId": "f5fd299f-dba1-47f2-bdcd-7ba058c88e71",
        "colab": {
          "base_uri": "https://localhost:8080/",
          "height": 297
        }
      },
      "source": [
        "train['Close'].plot(color='k')"
      ],
      "execution_count": 14,
      "outputs": [
        {
          "output_type": "execute_result",
          "data": {
            "text/plain": [
              "<matplotlib.axes._subplots.AxesSubplot at 0x7f56ee1d50f0>"
            ]
          },
          "metadata": {
            "tags": []
          },
          "execution_count": 14
        },
        {
          "output_type": "display_data",
          "data": {
            "image/png": "[encoded data removed]",
            "text/plain": [
              "<Figure size 432x288 with 1 Axes>"
            ]
          },
          "metadata": {
            "tags": []
          }
        }
      ]
    },
    {
      "cell_type": "code",
      "metadata": {
        "id": "eOUJqOlNahnA",
        "colab_type": "code",
        "outputId": "aa6d9f98-ccab-4168-b81a-2b0a2050c954",
        "colab": {
          "base_uri": "https://localhost:8080/",
          "height": 220
        }
      },
      "source": [
        "train.head()"
      ],
      "execution_count": 15,
      "outputs": [
        {
          "output_type": "execute_result",
          "data": {
            "text/html": [
              "<div>\n",
              "<style scoped>\n",
              "    .dataframe tbody tr th:only-of-type {\n",
              "        vertical-align: middle;\n",
              "    }\n",
              "\n",
              "    .dataframe tbody tr th {\n",
              "        vertical-align: top;\n",
              "    }\n",
              "\n",
              "    .dataframe thead th {\n",
              "        text-align: right;\n",
              "    }\n",
              "</style>\n",
              "<table border=\"1\" class=\"dataframe\">\n",
              "  <thead>\n",
              "    <tr style=\"text-align: right;\">\n",
              "      <th></th>\n",
              "      <th>Open</th>\n",
              "      <th>High</th>\n",
              "      <th>Low</th>\n",
              "      <th>Close</th>\n",
              "      <th>Volume</th>\n",
              "      <th>Stock Trading</th>\n",
              "      <th>VWAP-Day</th>\n",
              "    </tr>\n",
              "    <tr>\n",
              "      <th>Date</th>\n",
              "      <th></th>\n",
              "      <th></th>\n",
              "      <th></th>\n",
              "      <th></th>\n",
              "      <th></th>\n",
              "      <th></th>\n",
              "      <th></th>\n",
              "    </tr>\n",
              "  </thead>\n",
              "  <tbody>\n",
              "    <tr>\n",
              "      <th>2012-01-04</th>\n",
              "      <td>14050</td>\n",
              "      <td>14050</td>\n",
              "      <td>13700</td>\n",
              "      <td>13720</td>\n",
              "      <td>559100</td>\n",
              "      <td>7719804000</td>\n",
              "      <td>13807.554999</td>\n",
              "    </tr>\n",
              "    <tr>\n",
              "      <th>2012-01-05</th>\n",
              "      <td>13720</td>\n",
              "      <td>13840</td>\n",
              "      <td>13600</td>\n",
              "      <td>13800</td>\n",
              "      <td>511500</td>\n",
              "      <td>7030811000</td>\n",
              "      <td>13745.476051</td>\n",
              "    </tr>\n",
              "    <tr>\n",
              "      <th>2012-01-06</th>\n",
              "      <td>13990</td>\n",
              "      <td>14030</td>\n",
              "      <td>13790</td>\n",
              "      <td>13850</td>\n",
              "      <td>765500</td>\n",
              "      <td>10635609000</td>\n",
              "      <td>13893.676029</td>\n",
              "    </tr>\n",
              "    <tr>\n",
              "      <th>2012-01-10</th>\n",
              "      <td>13890</td>\n",
              "      <td>14390</td>\n",
              "      <td>13860</td>\n",
              "      <td>14390</td>\n",
              "      <td>952300</td>\n",
              "      <td>13533413000</td>\n",
              "      <td>14211.291610</td>\n",
              "    </tr>\n",
              "    <tr>\n",
              "      <th>2012-01-11</th>\n",
              "      <td>14360</td>\n",
              "      <td>14750</td>\n",
              "      <td>14280</td>\n",
              "      <td>14590</td>\n",
              "      <td>1043400</td>\n",
              "      <td>15191988000</td>\n",
              "      <td>14560.080506</td>\n",
              "    </tr>\n",
              "  </tbody>\n",
              "</table>\n",
              "</div>"
            ],
            "text/plain": [
              "             Open   High    Low  Close   Volume  Stock Trading      VWAP-Day\n",
              "Date                                                                        \n",
              "2012-01-04  14050  14050  13700  13720   559100     7719804000  13807.554999\n",
              "2012-01-05  13720  13840  13600  13800   511500     7030811000  13745.476051\n",
              "2012-01-06  13990  14030  13790  13850   765500    10635609000  13893.676029\n",
              "2012-01-10  13890  14390  13860  14390   952300    13533413000  14211.291610\n",
              "2012-01-11  14360  14750  14280  14590  1043400    15191988000  14560.080506"
            ]
          },
          "metadata": {
            "tags": []
          },
          "execution_count": 15
        }
      ]
    },
    {
      "cell_type": "markdown",
      "metadata": {
        "id": "2aZcT9O7ahnT",
        "colab_type": "text"
      },
      "source": [
        "Function for dropping of unnecesary features or redundant features"
      ]
    },
    {
      "cell_type": "code",
      "metadata": {
        "id": "Y0U1HvkQahnT",
        "colab_type": "code",
        "colab": {}
      },
      "source": [
        "def drop_features(features,data):\n",
        "    data.drop(features,inplace=True,axis=1)"
      ],
      "execution_count": 0,
      "outputs": []
    },
    {
      "cell_type": "markdown",
      "metadata": {
        "id": "IBYhH4Z_ahnc",
        "colab_type": "text"
      },
      "source": [
        "### Applying the TimeSeries Feature Engineering\n",
        "#### Lag Features"
      ]
    },
    {
      "cell_type": "code",
      "metadata": {
        "id": "Q6dQsR-Pahne",
        "colab_type": "code",
        "outputId": "f4e58ec9-4d3b-4e34-86fe-b73b66438e31",
        "colab": {
          "base_uri": "https://localhost:8080/",
          "height": 212
        }
      },
      "source": [
        "train.info()"
      ],
      "execution_count": 17,
      "outputs": [
        {
          "output_type": "stream",
          "text": [
            "<class 'pandas.core.frame.DataFrame'>\n",
            "DatetimeIndex: 1226 entries, 2012-01-04 to 2016-12-30\n",
            "Data columns (total 7 columns):\n",
            "Open             1226 non-null int64\n",
            "High             1226 non-null int64\n",
            "Low              1226 non-null int64\n",
            "Close            1226 non-null int64\n",
            "Volume           1226 non-null int64\n",
            "Stock Trading    1226 non-null int64\n",
            "VWAP-Day         1226 non-null float64\n",
            "dtypes: float64(1), int64(6)\n",
            "memory usage: 76.6 KB\n"
          ],
          "name": "stdout"
        }
      ]
    },
    {
      "cell_type": "code",
      "metadata": {
        "id": "5zjNhjLTahnm",
        "colab_type": "code",
        "colab": {}
      },
      "source": [
        "close_vals = Series(train['Close'])"
      ],
      "execution_count": 0,
      "outputs": []
    },
    {
      "cell_type": "code",
      "metadata": {
        "id": "RiSVvGW9ahnp",
        "colab_type": "code",
        "outputId": "411fc2d7-adf2-451f-b240-1ce2dc9e3a6f",
        "colab": {
          "base_uri": "https://localhost:8080/",
          "height": 131
        }
      },
      "source": [
        "close_vals.head()"
      ],
      "execution_count": 19,
      "outputs": [
        {
          "output_type": "execute_result",
          "data": {
            "text/plain": [
              "Date\n",
              "2012-01-04    13720\n",
              "2012-01-05    13800\n",
              "2012-01-06    13850\n",
              "2012-01-10    14390\n",
              "2012-01-11    14590\n",
              "Name: Close, dtype: int64"
            ]
          },
          "metadata": {
            "tags": []
          },
          "execution_count": 19
        }
      ]
    },
    {
      "cell_type": "code",
      "metadata": {
        "id": "EhLrlfWOahnt",
        "colab_type": "code",
        "outputId": "6dd640c5-1932-4f79-cc4c-42c417931829",
        "colab": {
          "base_uri": "https://localhost:8080/",
          "height": 131
        }
      },
      "source": [
        "close_vals.shift(1).head()"
      ],
      "execution_count": 20,
      "outputs": [
        {
          "output_type": "execute_result",
          "data": {
            "text/plain": [
              "Date\n",
              "2012-01-04        NaN\n",
              "2012-01-05    13720.0\n",
              "2012-01-06    13800.0\n",
              "2012-01-10    13850.0\n",
              "2012-01-11    14390.0\n",
              "Name: Close, dtype: float64"
            ]
          },
          "metadata": {
            "tags": []
          },
          "execution_count": 20
        }
      ]
    },
    {
      "cell_type": "code",
      "metadata": {
        "id": "lvkVZvyYSk6a",
        "colab_type": "code",
        "outputId": "ab92a910-a42a-461d-8e18-f10240bcd4d2",
        "colab": {
          "base_uri": "https://localhost:8080/",
          "height": 131
        }
      },
      "source": [
        "close_vals.shift(1).tail()"
      ],
      "execution_count": 21,
      "outputs": [
        {
          "output_type": "execute_result",
          "data": {
            "text/plain": [
              "Date\n",
              "2016-12-26    43480.0\n",
              "2016-12-27    43340.0\n",
              "2016-12-28    43620.0\n",
              "2016-12-29    43270.0\n",
              "2016-12-30    42660.0\n",
              "Name: Close, dtype: float64"
            ]
          },
          "metadata": {
            "tags": []
          },
          "execution_count": 21
        }
      ]
    },
    {
      "cell_type": "code",
      "metadata": {
        "id": "kw1F8DtZahn1",
        "colab_type": "code",
        "outputId": "c1acd4e4-adec-48d2-f88a-b23683fffc1f",
        "colab": {
          "base_uri": "https://localhost:8080/",
          "height": 33
        }
      },
      "source": [
        "#Applying Lag Features to Opening Price\n",
        "close1 = train['Close']\n",
        "close_df = concat([close1.shift(3), close1.shift(2), close1.shift(1)], axis=1)\n",
        "close_df.columns = ['C_t-3', 'C_t-2', 'C_t-1']\n",
        "close_df.shape"
      ],
      "execution_count": 22,
      "outputs": [
        {
          "output_type": "execute_result",
          "data": {
            "text/plain": [
              "(1226, 3)"
            ]
          },
          "metadata": {
            "tags": []
          },
          "execution_count": 22
        }
      ]
    },
    {
      "cell_type": "code",
      "metadata": {
        "id": "qRQxFeKYahn5",
        "colab_type": "code",
        "outputId": "bbd431b4-0295-473e-9670-6532935c659d",
        "colab": {
          "base_uri": "https://localhost:8080/",
          "height": 220
        }
      },
      "source": [
        "close_df.head()"
      ],
      "execution_count": 23,
      "outputs": [
        {
          "output_type": "execute_result",
          "data": {
            "text/html": [
              "<div>\n",
              "<style scoped>\n",
              "    .dataframe tbody tr th:only-of-type {\n",
              "        vertical-align: middle;\n",
              "    }\n",
              "\n",
              "    .dataframe tbody tr th {\n",
              "        vertical-align: top;\n",
              "    }\n",
              "\n",
              "    .dataframe thead th {\n",
              "        text-align: right;\n",
              "    }\n",
              "</style>\n",
              "<table border=\"1\" class=\"dataframe\">\n",
              "  <thead>\n",
              "    <tr style=\"text-align: right;\">\n",
              "      <th></th>\n",
              "      <th>C_t-3</th>\n",
              "      <th>C_t-2</th>\n",
              "      <th>C_t-1</th>\n",
              "    </tr>\n",
              "    <tr>\n",
              "      <th>Date</th>\n",
              "      <th></th>\n",
              "      <th></th>\n",
              "      <th></th>\n",
              "    </tr>\n",
              "  </thead>\n",
              "  <tbody>\n",
              "    <tr>\n",
              "      <th>2012-01-04</th>\n",
              "      <td>NaN</td>\n",
              "      <td>NaN</td>\n",
              "      <td>NaN</td>\n",
              "    </tr>\n",
              "    <tr>\n",
              "      <th>2012-01-05</th>\n",
              "      <td>NaN</td>\n",
              "      <td>NaN</td>\n",
              "      <td>13720.0</td>\n",
              "    </tr>\n",
              "    <tr>\n",
              "      <th>2012-01-06</th>\n",
              "      <td>NaN</td>\n",
              "      <td>13720.0</td>\n",
              "      <td>13800.0</td>\n",
              "    </tr>\n",
              "    <tr>\n",
              "      <th>2012-01-10</th>\n",
              "      <td>13720.0</td>\n",
              "      <td>13800.0</td>\n",
              "      <td>13850.0</td>\n",
              "    </tr>\n",
              "    <tr>\n",
              "      <th>2012-01-11</th>\n",
              "      <td>13800.0</td>\n",
              "      <td>13850.0</td>\n",
              "      <td>14390.0</td>\n",
              "    </tr>\n",
              "  </tbody>\n",
              "</table>\n",
              "</div>"
            ],
            "text/plain": [
              "              C_t-3    C_t-2    C_t-1\n",
              "Date                                 \n",
              "2012-01-04      NaN      NaN      NaN\n",
              "2012-01-05      NaN      NaN  13720.0\n",
              "2012-01-06      NaN  13720.0  13800.0\n",
              "2012-01-10  13720.0  13800.0  13850.0\n",
              "2012-01-11  13800.0  13850.0  14390.0"
            ]
          },
          "metadata": {
            "tags": []
          },
          "execution_count": 23
        }
      ]
    },
    {
      "cell_type": "code",
      "metadata": {
        "id": "7hevx1eTahoC",
        "colab_type": "code",
        "colab": {}
      },
      "source": [
        "#combining the train data and the lag features of Temp\n",
        "train1 = pd.concat([train, close_df], axis=1)"
      ],
      "execution_count": 0,
      "outputs": []
    },
    {
      "cell_type": "code",
      "metadata": {
        "id": "aIa9We5MahoG",
        "colab_type": "code",
        "outputId": "1ab5c20b-49d9-456e-d8ad-f4a42782f0d0",
        "colab": {
          "base_uri": "https://localhost:8080/",
          "height": 220
        }
      },
      "source": [
        "train1.head()"
      ],
      "execution_count": 25,
      "outputs": [
        {
          "output_type": "execute_result",
          "data": {
            "text/html": [
              "<div>\n",
              "<style scoped>\n",
              "    .dataframe tbody tr th:only-of-type {\n",
              "        vertical-align: middle;\n",
              "    }\n",
              "\n",
              "    .dataframe tbody tr th {\n",
              "        vertical-align: top;\n",
              "    }\n",
              "\n",
              "    .dataframe thead th {\n",
              "        text-align: right;\n",
              "    }\n",
              "</style>\n",
              "<table border=\"1\" class=\"dataframe\">\n",
              "  <thead>\n",
              "    <tr style=\"text-align: right;\">\n",
              "      <th></th>\n",
              "      <th>Open</th>\n",
              "      <th>High</th>\n",
              "      <th>Low</th>\n",
              "      <th>Close</th>\n",
              "      <th>Volume</th>\n",
              "      <th>Stock Trading</th>\n",
              "      <th>VWAP-Day</th>\n",
              "      <th>C_t-3</th>\n",
              "      <th>C_t-2</th>\n",
              "      <th>C_t-1</th>\n",
              "    </tr>\n",
              "    <tr>\n",
              "      <th>Date</th>\n",
              "      <th></th>\n",
              "      <th></th>\n",
              "      <th></th>\n",
              "      <th></th>\n",
              "      <th></th>\n",
              "      <th></th>\n",
              "      <th></th>\n",
              "      <th></th>\n",
              "      <th></th>\n",
              "      <th></th>\n",
              "    </tr>\n",
              "  </thead>\n",
              "  <tbody>\n",
              "    <tr>\n",
              "      <th>2012-01-04</th>\n",
              "      <td>14050</td>\n",
              "      <td>14050</td>\n",
              "      <td>13700</td>\n",
              "      <td>13720</td>\n",
              "      <td>559100</td>\n",
              "      <td>7719804000</td>\n",
              "      <td>13807.554999</td>\n",
              "      <td>NaN</td>\n",
              "      <td>NaN</td>\n",
              "      <td>NaN</td>\n",
              "    </tr>\n",
              "    <tr>\n",
              "      <th>2012-01-05</th>\n",
              "      <td>13720</td>\n",
              "      <td>13840</td>\n",
              "      <td>13600</td>\n",
              "      <td>13800</td>\n",
              "      <td>511500</td>\n",
              "      <td>7030811000</td>\n",
              "      <td>13745.476051</td>\n",
              "      <td>NaN</td>\n",
              "      <td>NaN</td>\n",
              "      <td>13720.0</td>\n",
              "    </tr>\n",
              "    <tr>\n",
              "      <th>2012-01-06</th>\n",
              "      <td>13990</td>\n",
              "      <td>14030</td>\n",
              "      <td>13790</td>\n",
              "      <td>13850</td>\n",
              "      <td>765500</td>\n",
              "      <td>10635609000</td>\n",
              "      <td>13893.676029</td>\n",
              "      <td>NaN</td>\n",
              "      <td>13720.0</td>\n",
              "      <td>13800.0</td>\n",
              "    </tr>\n",
              "    <tr>\n",
              "      <th>2012-01-10</th>\n",
              "      <td>13890</td>\n",
              "      <td>14390</td>\n",
              "      <td>13860</td>\n",
              "      <td>14390</td>\n",
              "      <td>952300</td>\n",
              "      <td>13533413000</td>\n",
              "      <td>14211.291610</td>\n",
              "      <td>13720.0</td>\n",
              "      <td>13800.0</td>\n",
              "      <td>13850.0</td>\n",
              "    </tr>\n",
              "    <tr>\n",
              "      <th>2012-01-11</th>\n",
              "      <td>14360</td>\n",
              "      <td>14750</td>\n",
              "      <td>14280</td>\n",
              "      <td>14590</td>\n",
              "      <td>1043400</td>\n",
              "      <td>15191988000</td>\n",
              "      <td>14560.080506</td>\n",
              "      <td>13800.0</td>\n",
              "      <td>13850.0</td>\n",
              "      <td>14390.0</td>\n",
              "    </tr>\n",
              "  </tbody>\n",
              "</table>\n",
              "</div>"
            ],
            "text/plain": [
              "             Open   High    Low  Close   Volume  Stock Trading      VWAP-Day  \\\n",
              "Date                                                                           \n",
              "2012-01-04  14050  14050  13700  13720   559100     7719804000  13807.554999   \n",
              "2012-01-05  13720  13840  13600  13800   511500     7030811000  13745.476051   \n",
              "2012-01-06  13990  14030  13790  13850   765500    10635609000  13893.676029   \n",
              "2012-01-10  13890  14390  13860  14390   952300    13533413000  14211.291610   \n",
              "2012-01-11  14360  14750  14280  14590  1043400    15191988000  14560.080506   \n",
              "\n",
              "              C_t-3    C_t-2    C_t-1  \n",
              "Date                                   \n",
              "2012-01-04      NaN      NaN      NaN  \n",
              "2012-01-05      NaN      NaN  13720.0  \n",
              "2012-01-06      NaN  13720.0  13800.0  \n",
              "2012-01-10  13720.0  13800.0  13850.0  \n",
              "2012-01-11  13800.0  13850.0  14390.0  "
            ]
          },
          "metadata": {
            "tags": []
          },
          "execution_count": 25
        }
      ]
    },
    {
      "cell_type": "code",
      "metadata": {
        "id": "k_9TMktUahoK",
        "colab_type": "code",
        "outputId": "6662ccbd-b1b2-45ae-ed54-5ee3de99c7cb",
        "colab": {
          "base_uri": "https://localhost:8080/",
          "height": 220
        }
      },
      "source": [
        "train1.tail()"
      ],
      "execution_count": 26,
      "outputs": [
        {
          "output_type": "execute_result",
          "data": {
            "text/html": [
              "<div>\n",
              "<style scoped>\n",
              "    .dataframe tbody tr th:only-of-type {\n",
              "        vertical-align: middle;\n",
              "    }\n",
              "\n",
              "    .dataframe tbody tr th {\n",
              "        vertical-align: top;\n",
              "    }\n",
              "\n",
              "    .dataframe thead th {\n",
              "        text-align: right;\n",
              "    }\n",
              "</style>\n",
              "<table border=\"1\" class=\"dataframe\">\n",
              "  <thead>\n",
              "    <tr style=\"text-align: right;\">\n",
              "      <th></th>\n",
              "      <th>Open</th>\n",
              "      <th>High</th>\n",
              "      <th>Low</th>\n",
              "      <th>Close</th>\n",
              "      <th>Volume</th>\n",
              "      <th>Stock Trading</th>\n",
              "      <th>VWAP-Day</th>\n",
              "      <th>C_t-3</th>\n",
              "      <th>C_t-2</th>\n",
              "      <th>C_t-1</th>\n",
              "    </tr>\n",
              "    <tr>\n",
              "      <th>Date</th>\n",
              "      <th></th>\n",
              "      <th></th>\n",
              "      <th></th>\n",
              "      <th></th>\n",
              "      <th></th>\n",
              "      <th></th>\n",
              "      <th></th>\n",
              "      <th></th>\n",
              "      <th></th>\n",
              "      <th></th>\n",
              "    </tr>\n",
              "  </thead>\n",
              "  <tbody>\n",
              "    <tr>\n",
              "      <th>2016-12-26</th>\n",
              "      <td>43310</td>\n",
              "      <td>43660</td>\n",
              "      <td>43090</td>\n",
              "      <td>43340</td>\n",
              "      <td>358200</td>\n",
              "      <td>15547803000</td>\n",
              "      <td>43405.368509</td>\n",
              "      <td>43620.0</td>\n",
              "      <td>44000.0</td>\n",
              "      <td>43480.0</td>\n",
              "    </tr>\n",
              "    <tr>\n",
              "      <th>2016-12-27</th>\n",
              "      <td>43140</td>\n",
              "      <td>43700</td>\n",
              "      <td>43140</td>\n",
              "      <td>43620</td>\n",
              "      <td>400100</td>\n",
              "      <td>17427993000</td>\n",
              "      <td>43559.092727</td>\n",
              "      <td>44000.0</td>\n",
              "      <td>43480.0</td>\n",
              "      <td>43340.0</td>\n",
              "    </tr>\n",
              "    <tr>\n",
              "      <th>2016-12-28</th>\n",
              "      <td>43940</td>\n",
              "      <td>43970</td>\n",
              "      <td>43270</td>\n",
              "      <td>43270</td>\n",
              "      <td>339900</td>\n",
              "      <td>14780670000</td>\n",
              "      <td>43485.348632</td>\n",
              "      <td>43480.0</td>\n",
              "      <td>43340.0</td>\n",
              "      <td>43620.0</td>\n",
              "    </tr>\n",
              "    <tr>\n",
              "      <th>2016-12-29</th>\n",
              "      <td>43000</td>\n",
              "      <td>43220</td>\n",
              "      <td>42540</td>\n",
              "      <td>42660</td>\n",
              "      <td>448400</td>\n",
              "      <td>19188227000</td>\n",
              "      <td>42792.656111</td>\n",
              "      <td>43340.0</td>\n",
              "      <td>43620.0</td>\n",
              "      <td>43270.0</td>\n",
              "    </tr>\n",
              "    <tr>\n",
              "      <th>2016-12-30</th>\n",
              "      <td>42120</td>\n",
              "      <td>42330</td>\n",
              "      <td>41700</td>\n",
              "      <td>41830</td>\n",
              "      <td>610000</td>\n",
              "      <td>25628028000</td>\n",
              "      <td>42013.160656</td>\n",
              "      <td>43620.0</td>\n",
              "      <td>43270.0</td>\n",
              "      <td>42660.0</td>\n",
              "    </tr>\n",
              "  </tbody>\n",
              "</table>\n",
              "</div>"
            ],
            "text/plain": [
              "             Open   High    Low  Close  Volume  Stock Trading      VWAP-Day  \\\n",
              "Date                                                                          \n",
              "2016-12-26  43310  43660  43090  43340  358200    15547803000  43405.368509   \n",
              "2016-12-27  43140  43700  43140  43620  400100    17427993000  43559.092727   \n",
              "2016-12-28  43940  43970  43270  43270  339900    14780670000  43485.348632   \n",
              "2016-12-29  43000  43220  42540  42660  448400    19188227000  42792.656111   \n",
              "2016-12-30  42120  42330  41700  41830  610000    25628028000  42013.160656   \n",
              "\n",
              "              C_t-3    C_t-2    C_t-1  \n",
              "Date                                   \n",
              "2016-12-26  43620.0  44000.0  43480.0  \n",
              "2016-12-27  44000.0  43480.0  43340.0  \n",
              "2016-12-28  43480.0  43340.0  43620.0  \n",
              "2016-12-29  43340.0  43620.0  43270.0  \n",
              "2016-12-30  43620.0  43270.0  42660.0  "
            ]
          },
          "metadata": {
            "tags": []
          },
          "execution_count": 26
        }
      ]
    },
    {
      "cell_type": "code",
      "metadata": {
        "id": "bYOWCJkGc4pP",
        "colab_type": "code",
        "outputId": "6990da66-495c-49d4-e67a-386ab2e0dabe",
        "colab": {
          "base_uri": "https://localhost:8080/",
          "height": 196
        }
      },
      "source": [
        "train1.isnull().sum()"
      ],
      "execution_count": 27,
      "outputs": [
        {
          "output_type": "execute_result",
          "data": {
            "text/plain": [
              "Open             0\n",
              "High             0\n",
              "Low              0\n",
              "Close            0\n",
              "Volume           0\n",
              "Stock Trading    0\n",
              "VWAP-Day         0\n",
              "C_t-3            3\n",
              "C_t-2            2\n",
              "C_t-1            1\n",
              "dtype: int64"
            ]
          },
          "metadata": {
            "tags": []
          },
          "execution_count": 27
        }
      ]
    },
    {
      "cell_type": "code",
      "metadata": {
        "id": "OKfcy5nPahom",
        "colab_type": "code",
        "colab": {}
      },
      "source": [
        "#dropping null value rows\n",
        "train1.dropna(inplace = True)"
      ],
      "execution_count": 0,
      "outputs": []
    },
    {
      "cell_type": "code",
      "metadata": {
        "id": "BWuPud-Uahoq",
        "colab_type": "code",
        "outputId": "05903492-ab8a-4b8e-ca82-936cec7d5b9e",
        "colab": {
          "base_uri": "https://localhost:8080/",
          "height": 220
        }
      },
      "source": [
        "train1.head()"
      ],
      "execution_count": 29,
      "outputs": [
        {
          "output_type": "execute_result",
          "data": {
            "text/html": [
              "<div>\n",
              "<style scoped>\n",
              "    .dataframe tbody tr th:only-of-type {\n",
              "        vertical-align: middle;\n",
              "    }\n",
              "\n",
              "    .dataframe tbody tr th {\n",
              "        vertical-align: top;\n",
              "    }\n",
              "\n",
              "    .dataframe thead th {\n",
              "        text-align: right;\n",
              "    }\n",
              "</style>\n",
              "<table border=\"1\" class=\"dataframe\">\n",
              "  <thead>\n",
              "    <tr style=\"text-align: right;\">\n",
              "      <th></th>\n",
              "      <th>Open</th>\n",
              "      <th>High</th>\n",
              "      <th>Low</th>\n",
              "      <th>Close</th>\n",
              "      <th>Volume</th>\n",
              "      <th>Stock Trading</th>\n",
              "      <th>VWAP-Day</th>\n",
              "      <th>C_t-3</th>\n",
              "      <th>C_t-2</th>\n",
              "      <th>C_t-1</th>\n",
              "    </tr>\n",
              "    <tr>\n",
              "      <th>Date</th>\n",
              "      <th></th>\n",
              "      <th></th>\n",
              "      <th></th>\n",
              "      <th></th>\n",
              "      <th></th>\n",
              "      <th></th>\n",
              "      <th></th>\n",
              "      <th></th>\n",
              "      <th></th>\n",
              "      <th></th>\n",
              "    </tr>\n",
              "  </thead>\n",
              "  <tbody>\n",
              "    <tr>\n",
              "      <th>2012-01-10</th>\n",
              "      <td>13890</td>\n",
              "      <td>14390</td>\n",
              "      <td>13860</td>\n",
              "      <td>14390</td>\n",
              "      <td>952300</td>\n",
              "      <td>13533413000</td>\n",
              "      <td>14211.291610</td>\n",
              "      <td>13720.0</td>\n",
              "      <td>13800.0</td>\n",
              "      <td>13850.0</td>\n",
              "    </tr>\n",
              "    <tr>\n",
              "      <th>2012-01-11</th>\n",
              "      <td>14360</td>\n",
              "      <td>14750</td>\n",
              "      <td>14280</td>\n",
              "      <td>14590</td>\n",
              "      <td>1043400</td>\n",
              "      <td>15191988000</td>\n",
              "      <td>14560.080506</td>\n",
              "      <td>13800.0</td>\n",
              "      <td>13850.0</td>\n",
              "      <td>14390.0</td>\n",
              "    </tr>\n",
              "    <tr>\n",
              "      <th>2012-01-12</th>\n",
              "      <td>14520</td>\n",
              "      <td>14600</td>\n",
              "      <td>14330</td>\n",
              "      <td>14520</td>\n",
              "      <td>540500</td>\n",
              "      <td>7814121000</td>\n",
              "      <td>14457.208141</td>\n",
              "      <td>13850.0</td>\n",
              "      <td>14390.0</td>\n",
              "      <td>14590.0</td>\n",
              "    </tr>\n",
              "    <tr>\n",
              "      <th>2012-01-13</th>\n",
              "      <td>14740</td>\n",
              "      <td>14780</td>\n",
              "      <td>14450</td>\n",
              "      <td>14770</td>\n",
              "      <td>1543700</td>\n",
              "      <td>22669096000</td>\n",
              "      <td>14684.910280</td>\n",
              "      <td>14390.0</td>\n",
              "      <td>14590.0</td>\n",
              "      <td>14520.0</td>\n",
              "    </tr>\n",
              "    <tr>\n",
              "      <th>2012-01-16</th>\n",
              "      <td>14610</td>\n",
              "      <td>14670</td>\n",
              "      <td>14530</td>\n",
              "      <td>14610</td>\n",
              "      <td>360100</td>\n",
              "      <td>5255652000</td>\n",
              "      <td>14594.979172</td>\n",
              "      <td>14590.0</td>\n",
              "      <td>14520.0</td>\n",
              "      <td>14770.0</td>\n",
              "    </tr>\n",
              "  </tbody>\n",
              "</table>\n",
              "</div>"
            ],
            "text/plain": [
              "             Open   High    Low  Close   Volume  Stock Trading      VWAP-Day  \\\n",
              "Date                                                                           \n",
              "2012-01-10  13890  14390  13860  14390   952300    13533413000  14211.291610   \n",
              "2012-01-11  14360  14750  14280  14590  1043400    15191988000  14560.080506   \n",
              "2012-01-12  14520  14600  14330  14520   540500     7814121000  14457.208141   \n",
              "2012-01-13  14740  14780  14450  14770  1543700    22669096000  14684.910280   \n",
              "2012-01-16  14610  14670  14530  14610   360100     5255652000  14594.979172   \n",
              "\n",
              "              C_t-3    C_t-2    C_t-1  \n",
              "Date                                   \n",
              "2012-01-10  13720.0  13800.0  13850.0  \n",
              "2012-01-11  13800.0  13850.0  14390.0  \n",
              "2012-01-12  13850.0  14390.0  14590.0  \n",
              "2012-01-13  14390.0  14590.0  14520.0  \n",
              "2012-01-16  14590.0  14520.0  14770.0  "
            ]
          },
          "metadata": {
            "tags": []
          },
          "execution_count": 29
        }
      ]
    },
    {
      "cell_type": "code",
      "metadata": {
        "id": "3wX29PRYahox",
        "colab_type": "code",
        "outputId": "b462bfa3-9053-4d7d-9f56-8e94aa2490d0",
        "colab": {
          "base_uri": "https://localhost:8080/",
          "height": 33
        }
      },
      "source": [
        "train1.shape"
      ],
      "execution_count": 30,
      "outputs": [
        {
          "output_type": "execute_result",
          "data": {
            "text/plain": [
              "(1223, 10)"
            ]
          },
          "metadata": {
            "tags": []
          },
          "execution_count": 30
        }
      ]
    },
    {
      "cell_type": "markdown",
      "metadata": {
        "id": "bykmws7J9zJq",
        "colab_type": "text"
      },
      "source": [
        "# BL NOTE - CONTINUE HERE"
      ]
    },
    {
      "cell_type": "markdown",
      "metadata": {
        "id": "6qd-snl-aho7",
        "colab_type": "text"
      },
      "source": [
        "#### Rolling Window Statistics"
      ]
    },
    {
      "cell_type": "code",
      "metadata": {
        "id": "RqIfpA4-aho8",
        "colab_type": "code",
        "colab": {
          "base_uri": "https://localhost:8080/",
          "height": 131
        },
        "outputId": "844f57e5-252f-44ea-bc45-c24aa5e81057"
      },
      "source": [
        "# Appling window Features for the Highest Value Feature\n",
        "high = train['High']\n",
        "w = 5\n",
        "high.head()"
      ],
      "execution_count": 35,
      "outputs": [
        {
          "output_type": "execute_result",
          "data": {
            "text/plain": [
              "Date\n",
              "2012-01-04    14050\n",
              "2012-01-05    13840\n",
              "2012-01-06    14030\n",
              "2012-01-10    14390\n",
              "2012-01-11    14750\n",
              "Name: High, dtype: int64"
            ]
          },
          "metadata": {
            "tags": []
          },
          "execution_count": 35
        }
      ]
    },
    {
      "cell_type": "code",
      "metadata": {
        "id": "WSw8TSvZaho_",
        "colab_type": "code",
        "colab": {
          "base_uri": "https://localhost:8080/",
          "height": 131
        },
        "outputId": "1d5308a7-9b8c-4f15-c692-d63491e8fbf5"
      },
      "source": [
        "shift = high.shift(w-1)\n",
        "shift.head()"
      ],
      "execution_count": 36,
      "outputs": [
        {
          "output_type": "execute_result",
          "data": {
            "text/plain": [
              "Date\n",
              "2012-01-04        NaN\n",
              "2012-01-05        NaN\n",
              "2012-01-06        NaN\n",
              "2012-01-10        NaN\n",
              "2012-01-11    14050.0\n",
              "Name: High, dtype: float64"
            ]
          },
          "metadata": {
            "tags": []
          },
          "execution_count": 36
        }
      ]
    },
    {
      "cell_type": "code",
      "metadata": {
        "id": "8XrjJWg2ahpC",
        "colab_type": "code",
        "outputId": "b076e72c-38a0-4454-c545-43f1905456ae",
        "colab": {
          "base_uri": "https://localhost:8080/",
          "height": 180
        }
      },
      "source": [
        "train['High'].head(8)"
      ],
      "execution_count": 37,
      "outputs": [
        {
          "output_type": "execute_result",
          "data": {
            "text/plain": [
              "Date\n",
              "2012-01-04    14050\n",
              "2012-01-05    13840\n",
              "2012-01-06    14030\n",
              "2012-01-10    14390\n",
              "2012-01-11    14750\n",
              "2012-01-12    14600\n",
              "2012-01-13    14780\n",
              "2012-01-16    14670\n",
              "Name: High, dtype: int64"
            ]
          },
          "metadata": {
            "tags": []
          },
          "execution_count": 37
        }
      ]
    },
    {
      "cell_type": "code",
      "metadata": {
        "id": "ZqBBuff4ahpI",
        "colab_type": "code",
        "outputId": "117cb63b-647f-4464-b375-94e6024e108d",
        "colab": {
          "base_uri": "https://localhost:8080/",
          "height": 163
        }
      },
      "source": [
        "shift.head(8)"
      ],
      "execution_count": 0,
      "outputs": [
        {
          "output_type": "execute_result",
          "data": {
            "text/plain": [
              "0    43660.0\n",
              "1    43840.0\n",
              "2    44370.0\n",
              "3    43630.0\n",
              "4    43150.0\n",
              "5    43550.0\n",
              "6    43880.0\n",
              "7    43440.0\n",
              "Name: High, dtype: float64"
            ]
          },
          "metadata": {
            "tags": []
          },
          "execution_count": 49
        }
      ]
    },
    {
      "cell_type": "code",
      "metadata": {
        "id": "nzrqQ1ODtkok",
        "colab_type": "code",
        "outputId": "6a0cf8b5-deb7-444e-a379-2fa0e95ba1cd",
        "colab": {
          "base_uri": "https://localhost:8080/",
          "height": 115
        }
      },
      "source": [
        "shift.head()"
      ],
      "execution_count": 0,
      "outputs": [
        {
          "output_type": "execute_result",
          "data": {
            "text/plain": [
              "0    43660.0\n",
              "1    43840.0\n",
              "2    44370.0\n",
              "3    43630.0\n",
              "4    43150.0\n",
              "Name: High, dtype: float64"
            ]
          },
          "metadata": {
            "tags": []
          },
          "execution_count": 50
        }
      ]
    },
    {
      "cell_type": "code",
      "metadata": {
        "id": "SQvR97TOahpN",
        "colab_type": "code",
        "colab": {}
      },
      "source": [
        "window = shift.rolling(window=w)"
      ],
      "execution_count": 0,
      "outputs": []
    },
    {
      "cell_type": "code",
      "metadata": {
        "id": "0xiTLbg6ahpQ",
        "colab_type": "code",
        "outputId": "5733e498-ce44-4540-9004-9effd33cd72e",
        "colab": {
          "base_uri": "https://localhost:8080/",
          "height": 33
        }
      },
      "source": [
        "type(window)"
      ],
      "execution_count": 0,
      "outputs": [
        {
          "output_type": "execute_result",
          "data": {
            "text/plain": [
              "pandas.core.window.Rolling"
            ]
          },
          "metadata": {
            "tags": []
          },
          "execution_count": 52
        }
      ]
    },
    {
      "cell_type": "code",
      "metadata": {
        "id": "FXsw5JZ_ahpX",
        "colab_type": "code",
        "outputId": "e3f06995-5de8-439c-fcb4-ac0192d76ba2",
        "colab": {
          "base_uri": "https://localhost:8080/",
          "height": 115
        }
      },
      "source": [
        "window.min().head()"
      ],
      "execution_count": 0,
      "outputs": [
        {
          "output_type": "execute_result",
          "data": {
            "text/plain": [
              "0        NaN\n",
              "1        NaN\n",
              "2        NaN\n",
              "3        NaN\n",
              "4    43150.0\n",
              "Name: High, dtype: float64"
            ]
          },
          "metadata": {
            "tags": []
          },
          "execution_count": 53
        }
      ]
    },
    {
      "cell_type": "code",
      "metadata": {
        "id": "xLoV1HecrwNt",
        "colab_type": "code",
        "outputId": "c096a5f7-ab5c-40c0-8063-8e929384b619",
        "colab": {
          "base_uri": "https://localhost:8080/",
          "height": 1025
        }
      },
      "source": [
        "window.min()"
      ],
      "execution_count": 0,
      "outputs": [
        {
          "output_type": "execute_result",
          "data": {
            "text/plain": [
              "0           NaN\n",
              "1           NaN\n",
              "2           NaN\n",
              "3           NaN\n",
              "4       43150.0\n",
              "5       43150.0\n",
              "6       43150.0\n",
              "7       43150.0\n",
              "8       43150.0\n",
              "9       43300.0\n",
              "10      42970.0\n",
              "11      41560.0\n",
              "12      41150.0\n",
              "13      40500.0\n",
              "14      40350.0\n",
              "15      40350.0\n",
              "16      40350.0\n",
              "17      40340.0\n",
              "18      40340.0\n",
              "19      40340.0\n",
              "20      40340.0\n",
              "21      40340.0\n",
              "22      40360.0\n",
              "23      40270.0\n",
              "24      40270.0\n",
              "25      39710.0\n",
              "26      39710.0\n",
              "27      38980.0\n",
              "28      38690.0\n",
              "29      37940.0\n",
              "         ...   \n",
              "1196    15650.0\n",
              "1197    15650.0\n",
              "1198    15650.0\n",
              "1199    15680.0\n",
              "1200    15520.0\n",
              "1201    15480.0\n",
              "1202    15250.0\n",
              "1203    15200.0\n",
              "1204    15200.0\n",
              "1205    15030.0\n",
              "1206    15020.0\n",
              "1207    15020.0\n",
              "1208    15020.0\n",
              "1209    14790.0\n",
              "1210    14790.0\n",
              "1211    14790.0\n",
              "1212    14790.0\n",
              "1213    14790.0\n",
              "1214    14670.0\n",
              "1215    14670.0\n",
              "1216    14600.0\n",
              "1217    14600.0\n",
              "1218    14390.0\n",
              "1219    14030.0\n",
              "1220    13840.0\n",
              "1221    13840.0\n",
              "1222        NaN\n",
              "1223        NaN\n",
              "1224        NaN\n",
              "1225        NaN\n",
              "Name: High, Length: 1226, dtype: float64"
            ]
          },
          "metadata": {
            "tags": []
          },
          "execution_count": 54
        }
      ]
    },
    {
      "cell_type": "code",
      "metadata": {
        "id": "o5DYRmdFahpd",
        "colab_type": "code",
        "outputId": "0c9d156d-ca1f-46ac-8130-30a0af1518ef",
        "colab": {
          "base_uri": "https://localhost:8080/",
          "height": 846
        }
      },
      "source": [
        "window.min().tail(50)"
      ],
      "execution_count": 0,
      "outputs": [
        {
          "output_type": "execute_result",
          "data": {
            "text/plain": [
              "1176    17400.0\n",
              "1177    16950.0\n",
              "1178    16950.0\n",
              "1179    16950.0\n",
              "1180    16950.0\n",
              "1181    16950.0\n",
              "1182    17000.0\n",
              "1183    16720.0\n",
              "1184    16670.0\n",
              "1185    16670.0\n",
              "1186    16670.0\n",
              "1187    16670.0\n",
              "1188    16480.0\n",
              "1189    16480.0\n",
              "1190    16480.0\n",
              "1191    16180.0\n",
              "1192    16180.0\n",
              "1193    15770.0\n",
              "1194    15650.0\n",
              "1195    15650.0\n",
              "1196    15650.0\n",
              "1197    15650.0\n",
              "1198    15650.0\n",
              "1199    15680.0\n",
              "1200    15520.0\n",
              "1201    15480.0\n",
              "1202    15250.0\n",
              "1203    15200.0\n",
              "1204    15200.0\n",
              "1205    15030.0\n",
              "1206    15020.0\n",
              "1207    15020.0\n",
              "1208    15020.0\n",
              "1209    14790.0\n",
              "1210    14790.0\n",
              "1211    14790.0\n",
              "1212    14790.0\n",
              "1213    14790.0\n",
              "1214    14670.0\n",
              "1215    14670.0\n",
              "1216    14600.0\n",
              "1217    14600.0\n",
              "1218    14390.0\n",
              "1219    14030.0\n",
              "1220    13840.0\n",
              "1221    13840.0\n",
              "1222        NaN\n",
              "1223        NaN\n",
              "1224        NaN\n",
              "1225        NaN\n",
              "Name: High, dtype: float64"
            ]
          },
          "metadata": {
            "tags": []
          },
          "execution_count": 55
        }
      ]
    },
    {
      "cell_type": "code",
      "metadata": {
        "id": "6UybUnFmahpn",
        "colab_type": "code",
        "colab": {}
      },
      "source": [
        "df = concat([window.min(), window.mean(), window.max()], axis=1)\n",
        "df.columns = ['min', 'mean', 'max']"
      ],
      "execution_count": 0,
      "outputs": []
    },
    {
      "cell_type": "code",
      "metadata": {
        "id": "SmG2795cahpu",
        "colab_type": "code",
        "colab": {}
      },
      "source": [
        ""
      ],
      "execution_count": 0,
      "outputs": []
    },
    {
      "cell_type": "code",
      "metadata": {
        "id": "-SfMDjuYahp0",
        "colab_type": "code",
        "outputId": "28b1178e-7989-4721-fb47-7d240627a3e0",
        "colab": {
          "base_uri": "https://localhost:8080/",
          "height": 335
        }
      },
      "source": [
        "df.head(10)"
      ],
      "execution_count": 0,
      "outputs": [
        {
          "output_type": "execute_result",
          "data": {
            "text/html": [
              "<div>\n",
              "<style scoped>\n",
              "    .dataframe tbody tr th:only-of-type {\n",
              "        vertical-align: middle;\n",
              "    }\n",
              "\n",
              "    .dataframe tbody tr th {\n",
              "        vertical-align: top;\n",
              "    }\n",
              "\n",
              "    .dataframe thead th {\n",
              "        text-align: right;\n",
              "    }\n",
              "</style>\n",
              "<table border=\"1\" class=\"dataframe\">\n",
              "  <thead>\n",
              "    <tr style=\"text-align: right;\">\n",
              "      <th></th>\n",
              "      <th>min</th>\n",
              "      <th>mean</th>\n",
              "      <th>max</th>\n",
              "    </tr>\n",
              "  </thead>\n",
              "  <tbody>\n",
              "    <tr>\n",
              "      <th>0</th>\n",
              "      <td>NaN</td>\n",
              "      <td>NaN</td>\n",
              "      <td>NaN</td>\n",
              "    </tr>\n",
              "    <tr>\n",
              "      <th>1</th>\n",
              "      <td>NaN</td>\n",
              "      <td>NaN</td>\n",
              "      <td>NaN</td>\n",
              "    </tr>\n",
              "    <tr>\n",
              "      <th>2</th>\n",
              "      <td>NaN</td>\n",
              "      <td>NaN</td>\n",
              "      <td>NaN</td>\n",
              "    </tr>\n",
              "    <tr>\n",
              "      <th>3</th>\n",
              "      <td>NaN</td>\n",
              "      <td>NaN</td>\n",
              "      <td>NaN</td>\n",
              "    </tr>\n",
              "    <tr>\n",
              "      <th>4</th>\n",
              "      <td>43150.0</td>\n",
              "      <td>43730.0</td>\n",
              "      <td>44370.0</td>\n",
              "    </tr>\n",
              "    <tr>\n",
              "      <th>5</th>\n",
              "      <td>43150.0</td>\n",
              "      <td>43708.0</td>\n",
              "      <td>44370.0</td>\n",
              "    </tr>\n",
              "    <tr>\n",
              "      <th>6</th>\n",
              "      <td>43150.0</td>\n",
              "      <td>43716.0</td>\n",
              "      <td>44370.0</td>\n",
              "    </tr>\n",
              "    <tr>\n",
              "      <th>7</th>\n",
              "      <td>43150.0</td>\n",
              "      <td>43530.0</td>\n",
              "      <td>43880.0</td>\n",
              "    </tr>\n",
              "    <tr>\n",
              "      <th>8</th>\n",
              "      <td>43150.0</td>\n",
              "      <td>43464.0</td>\n",
              "      <td>43880.0</td>\n",
              "    </tr>\n",
              "    <tr>\n",
              "      <th>9</th>\n",
              "      <td>43300.0</td>\n",
              "      <td>43634.0</td>\n",
              "      <td>44000.0</td>\n",
              "    </tr>\n",
              "  </tbody>\n",
              "</table>\n",
              "</div>"
            ],
            "text/plain": [
              "       min     mean      max\n",
              "0      NaN      NaN      NaN\n",
              "1      NaN      NaN      NaN\n",
              "2      NaN      NaN      NaN\n",
              "3      NaN      NaN      NaN\n",
              "4  43150.0  43730.0  44370.0\n",
              "5  43150.0  43708.0  44370.0\n",
              "6  43150.0  43716.0  44370.0\n",
              "7  43150.0  43530.0  43880.0\n",
              "8  43150.0  43464.0  43880.0\n",
              "9  43300.0  43634.0  44000.0"
            ]
          },
          "metadata": {
            "tags": []
          },
          "execution_count": 57
        }
      ]
    },
    {
      "cell_type": "code",
      "metadata": {
        "id": "l6zVIGxjahqH",
        "colab_type": "code",
        "colab": {}
      },
      "source": [
        ""
      ],
      "execution_count": 0,
      "outputs": []
    },
    {
      "cell_type": "code",
      "metadata": {
        "id": "Cn-gZOzUahqN",
        "colab_type": "code",
        "colab": {}
      },
      "source": [
        "#combining the train1 and the rolling window features\n",
        "train2 = pd.concat([train1, df], axis=1)"
      ],
      "execution_count": 0,
      "outputs": []
    },
    {
      "cell_type": "code",
      "metadata": {
        "id": "vb40eDY5ahqT",
        "colab_type": "code",
        "outputId": "51faabfe-af6f-4186-dac4-605624ad4033",
        "colab": {
          "base_uri": "https://localhost:8080/",
          "height": 191
        }
      },
      "source": [
        "train2.head()"
      ],
      "execution_count": 0,
      "outputs": [
        {
          "output_type": "execute_result",
          "data": {
            "text/html": [
              "<div>\n",
              "<style scoped>\n",
              "    .dataframe tbody tr th:only-of-type {\n",
              "        vertical-align: middle;\n",
              "    }\n",
              "\n",
              "    .dataframe tbody tr th {\n",
              "        vertical-align: top;\n",
              "    }\n",
              "\n",
              "    .dataframe thead th {\n",
              "        text-align: right;\n",
              "    }\n",
              "</style>\n",
              "<table border=\"1\" class=\"dataframe\">\n",
              "  <thead>\n",
              "    <tr style=\"text-align: right;\">\n",
              "      <th></th>\n",
              "      <th>Open</th>\n",
              "      <th>High</th>\n",
              "      <th>Low</th>\n",
              "      <th>Close</th>\n",
              "      <th>Volume</th>\n",
              "      <th>Stock Trading</th>\n",
              "      <th>Avg</th>\n",
              "      <th>Year</th>\n",
              "      <th>Month</th>\n",
              "      <th>Day</th>\n",
              "      <th>O_t-3</th>\n",
              "      <th>O_t-2</th>\n",
              "      <th>O_t-1</th>\n",
              "      <th>C_t-3</th>\n",
              "      <th>C_t-2</th>\n",
              "      <th>C_t-1</th>\n",
              "      <th>min</th>\n",
              "      <th>mean</th>\n",
              "      <th>max</th>\n",
              "    </tr>\n",
              "  </thead>\n",
              "  <tbody>\n",
              "    <tr>\n",
              "      <th>0</th>\n",
              "      <td>42120.0</td>\n",
              "      <td>42330.0</td>\n",
              "      <td>41700.0</td>\n",
              "      <td>41830.0</td>\n",
              "      <td>610000.0</td>\n",
              "      <td>2.562803e+10</td>\n",
              "      <td>42013.160656</td>\n",
              "      <td>2016.0</td>\n",
              "      <td>12.0</td>\n",
              "      <td>30.0</td>\n",
              "      <td>43140.0</td>\n",
              "      <td>43940.0</td>\n",
              "      <td>43000.0</td>\n",
              "      <td>43620.0</td>\n",
              "      <td>43270.0</td>\n",
              "      <td>42660.0</td>\n",
              "      <td>NaN</td>\n",
              "      <td>NaN</td>\n",
              "      <td>NaN</td>\n",
              "    </tr>\n",
              "    <tr>\n",
              "      <th>1</th>\n",
              "      <td>43000.0</td>\n",
              "      <td>43220.0</td>\n",
              "      <td>42540.0</td>\n",
              "      <td>42660.0</td>\n",
              "      <td>448400.0</td>\n",
              "      <td>1.918823e+10</td>\n",
              "      <td>42792.656111</td>\n",
              "      <td>2016.0</td>\n",
              "      <td>12.0</td>\n",
              "      <td>29.0</td>\n",
              "      <td>43310.0</td>\n",
              "      <td>43140.0</td>\n",
              "      <td>43940.0</td>\n",
              "      <td>43340.0</td>\n",
              "      <td>43620.0</td>\n",
              "      <td>43270.0</td>\n",
              "      <td>NaN</td>\n",
              "      <td>NaN</td>\n",
              "      <td>NaN</td>\n",
              "    </tr>\n",
              "    <tr>\n",
              "      <th>2</th>\n",
              "      <td>43940.0</td>\n",
              "      <td>43970.0</td>\n",
              "      <td>43270.0</td>\n",
              "      <td>43270.0</td>\n",
              "      <td>339900.0</td>\n",
              "      <td>1.478067e+10</td>\n",
              "      <td>43485.348632</td>\n",
              "      <td>2016.0</td>\n",
              "      <td>12.0</td>\n",
              "      <td>28.0</td>\n",
              "      <td>43660.0</td>\n",
              "      <td>43310.0</td>\n",
              "      <td>43140.0</td>\n",
              "      <td>43480.0</td>\n",
              "      <td>43340.0</td>\n",
              "      <td>43620.0</td>\n",
              "      <td>NaN</td>\n",
              "      <td>NaN</td>\n",
              "      <td>NaN</td>\n",
              "    </tr>\n",
              "    <tr>\n",
              "      <th>3</th>\n",
              "      <td>43140.0</td>\n",
              "      <td>43700.0</td>\n",
              "      <td>43140.0</td>\n",
              "      <td>43620.0</td>\n",
              "      <td>400100.0</td>\n",
              "      <td>1.742799e+10</td>\n",
              "      <td>43559.092727</td>\n",
              "      <td>2016.0</td>\n",
              "      <td>12.0</td>\n",
              "      <td>27.0</td>\n",
              "      <td>43900.0</td>\n",
              "      <td>43660.0</td>\n",
              "      <td>43310.0</td>\n",
              "      <td>44000.0</td>\n",
              "      <td>43480.0</td>\n",
              "      <td>43340.0</td>\n",
              "      <td>NaN</td>\n",
              "      <td>NaN</td>\n",
              "      <td>NaN</td>\n",
              "    </tr>\n",
              "    <tr>\n",
              "      <th>4</th>\n",
              "      <td>43310.0</td>\n",
              "      <td>43660.0</td>\n",
              "      <td>43090.0</td>\n",
              "      <td>43340.0</td>\n",
              "      <td>358200.0</td>\n",
              "      <td>1.554780e+10</td>\n",
              "      <td>43405.368509</td>\n",
              "      <td>2016.0</td>\n",
              "      <td>12.0</td>\n",
              "      <td>26.0</td>\n",
              "      <td>42910.0</td>\n",
              "      <td>43900.0</td>\n",
              "      <td>43660.0</td>\n",
              "      <td>43620.0</td>\n",
              "      <td>44000.0</td>\n",
              "      <td>43480.0</td>\n",
              "      <td>43150.0</td>\n",
              "      <td>43730.0</td>\n",
              "      <td>44370.0</td>\n",
              "    </tr>\n",
              "  </tbody>\n",
              "</table>\n",
              "</div>"
            ],
            "text/plain": [
              "      Open     High      Low    Close    Volume  Stock Trading           Avg  \\\n",
              "0  42120.0  42330.0  41700.0  41830.0  610000.0   2.562803e+10  42013.160656   \n",
              "1  43000.0  43220.0  42540.0  42660.0  448400.0   1.918823e+10  42792.656111   \n",
              "2  43940.0  43970.0  43270.0  43270.0  339900.0   1.478067e+10  43485.348632   \n",
              "3  43140.0  43700.0  43140.0  43620.0  400100.0   1.742799e+10  43559.092727   \n",
              "4  43310.0  43660.0  43090.0  43340.0  358200.0   1.554780e+10  43405.368509   \n",
              "\n",
              "     Year  Month   Day    O_t-3    O_t-2    O_t-1    C_t-3    C_t-2    C_t-1  \\\n",
              "0  2016.0   12.0  30.0  43140.0  43940.0  43000.0  43620.0  43270.0  42660.0   \n",
              "1  2016.0   12.0  29.0  43310.0  43140.0  43940.0  43340.0  43620.0  43270.0   \n",
              "2  2016.0   12.0  28.0  43660.0  43310.0  43140.0  43480.0  43340.0  43620.0   \n",
              "3  2016.0   12.0  27.0  43900.0  43660.0  43310.0  44000.0  43480.0  43340.0   \n",
              "4  2016.0   12.0  26.0  42910.0  43900.0  43660.0  43620.0  44000.0  43480.0   \n",
              "\n",
              "       min     mean      max  \n",
              "0      NaN      NaN      NaN  \n",
              "1      NaN      NaN      NaN  \n",
              "2      NaN      NaN      NaN  \n",
              "3      NaN      NaN      NaN  \n",
              "4  43150.0  43730.0  44370.0  "
            ]
          },
          "metadata": {
            "tags": []
          },
          "execution_count": 59
        }
      ]
    },
    {
      "cell_type": "code",
      "metadata": {
        "id": "LDCvAKydahqX",
        "colab_type": "code",
        "outputId": "631fa3c2-55cc-452f-83fb-151889319652",
        "colab": {
          "base_uri": "https://localhost:8080/",
          "height": 191
        }
      },
      "source": [
        "train2.tail()"
      ],
      "execution_count": 0,
      "outputs": [
        {
          "output_type": "execute_result",
          "data": {
            "text/html": [
              "<div>\n",
              "<style scoped>\n",
              "    .dataframe tbody tr th:only-of-type {\n",
              "        vertical-align: middle;\n",
              "    }\n",
              "\n",
              "    .dataframe tbody tr th {\n",
              "        vertical-align: top;\n",
              "    }\n",
              "\n",
              "    .dataframe thead th {\n",
              "        text-align: right;\n",
              "    }\n",
              "</style>\n",
              "<table border=\"1\" class=\"dataframe\">\n",
              "  <thead>\n",
              "    <tr style=\"text-align: right;\">\n",
              "      <th></th>\n",
              "      <th>Open</th>\n",
              "      <th>High</th>\n",
              "      <th>Low</th>\n",
              "      <th>Close</th>\n",
              "      <th>Volume</th>\n",
              "      <th>Stock Trading</th>\n",
              "      <th>Avg</th>\n",
              "      <th>Year</th>\n",
              "      <th>Month</th>\n",
              "      <th>Day</th>\n",
              "      <th>O_t-3</th>\n",
              "      <th>O_t-2</th>\n",
              "      <th>O_t-1</th>\n",
              "      <th>C_t-3</th>\n",
              "      <th>C_t-2</th>\n",
              "      <th>C_t-1</th>\n",
              "      <th>min</th>\n",
              "      <th>mean</th>\n",
              "      <th>max</th>\n",
              "    </tr>\n",
              "  </thead>\n",
              "  <tbody>\n",
              "    <tr>\n",
              "      <th>1221</th>\n",
              "      <td>14360.0</td>\n",
              "      <td>14750.0</td>\n",
              "      <td>14280.0</td>\n",
              "      <td>14590.0</td>\n",
              "      <td>1043400.0</td>\n",
              "      <td>1.519199e+10</td>\n",
              "      <td>14560.080506</td>\n",
              "      <td>2012.0</td>\n",
              "      <td>1.0</td>\n",
              "      <td>11.0</td>\n",
              "      <td>13720.0</td>\n",
              "      <td>13990.0</td>\n",
              "      <td>13890.0</td>\n",
              "      <td>13800.0</td>\n",
              "      <td>13850.0</td>\n",
              "      <td>14390.0</td>\n",
              "      <td>13840.0</td>\n",
              "      <td>14212.0</td>\n",
              "      <td>14750.0</td>\n",
              "    </tr>\n",
              "    <tr>\n",
              "      <th>1222</th>\n",
              "      <td>13890.0</td>\n",
              "      <td>14390.0</td>\n",
              "      <td>13860.0</td>\n",
              "      <td>14390.0</td>\n",
              "      <td>952300.0</td>\n",
              "      <td>1.353341e+10</td>\n",
              "      <td>14211.291610</td>\n",
              "      <td>2012.0</td>\n",
              "      <td>1.0</td>\n",
              "      <td>10.0</td>\n",
              "      <td>14050.0</td>\n",
              "      <td>13720.0</td>\n",
              "      <td>13990.0</td>\n",
              "      <td>13720.0</td>\n",
              "      <td>13800.0</td>\n",
              "      <td>13850.0</td>\n",
              "      <td>NaN</td>\n",
              "      <td>NaN</td>\n",
              "      <td>NaN</td>\n",
              "    </tr>\n",
              "    <tr>\n",
              "      <th>1223</th>\n",
              "      <td>NaN</td>\n",
              "      <td>NaN</td>\n",
              "      <td>NaN</td>\n",
              "      <td>NaN</td>\n",
              "      <td>NaN</td>\n",
              "      <td>NaN</td>\n",
              "      <td>NaN</td>\n",
              "      <td>NaN</td>\n",
              "      <td>NaN</td>\n",
              "      <td>NaN</td>\n",
              "      <td>NaN</td>\n",
              "      <td>NaN</td>\n",
              "      <td>NaN</td>\n",
              "      <td>NaN</td>\n",
              "      <td>NaN</td>\n",
              "      <td>NaN</td>\n",
              "      <td>NaN</td>\n",
              "      <td>NaN</td>\n",
              "      <td>NaN</td>\n",
              "    </tr>\n",
              "    <tr>\n",
              "      <th>1224</th>\n",
              "      <td>NaN</td>\n",
              "      <td>NaN</td>\n",
              "      <td>NaN</td>\n",
              "      <td>NaN</td>\n",
              "      <td>NaN</td>\n",
              "      <td>NaN</td>\n",
              "      <td>NaN</td>\n",
              "      <td>NaN</td>\n",
              "      <td>NaN</td>\n",
              "      <td>NaN</td>\n",
              "      <td>NaN</td>\n",
              "      <td>NaN</td>\n",
              "      <td>NaN</td>\n",
              "      <td>NaN</td>\n",
              "      <td>NaN</td>\n",
              "      <td>NaN</td>\n",
              "      <td>NaN</td>\n",
              "      <td>NaN</td>\n",
              "      <td>NaN</td>\n",
              "    </tr>\n",
              "    <tr>\n",
              "      <th>1225</th>\n",
              "      <td>NaN</td>\n",
              "      <td>NaN</td>\n",
              "      <td>NaN</td>\n",
              "      <td>NaN</td>\n",
              "      <td>NaN</td>\n",
              "      <td>NaN</td>\n",
              "      <td>NaN</td>\n",
              "      <td>NaN</td>\n",
              "      <td>NaN</td>\n",
              "      <td>NaN</td>\n",
              "      <td>NaN</td>\n",
              "      <td>NaN</td>\n",
              "      <td>NaN</td>\n",
              "      <td>NaN</td>\n",
              "      <td>NaN</td>\n",
              "      <td>NaN</td>\n",
              "      <td>NaN</td>\n",
              "      <td>NaN</td>\n",
              "      <td>NaN</td>\n",
              "    </tr>\n",
              "  </tbody>\n",
              "</table>\n",
              "</div>"
            ],
            "text/plain": [
              "         Open     High      Low    Close     Volume  Stock Trading  \\\n",
              "1221  14360.0  14750.0  14280.0  14590.0  1043400.0   1.519199e+10   \n",
              "1222  13890.0  14390.0  13860.0  14390.0   952300.0   1.353341e+10   \n",
              "1223      NaN      NaN      NaN      NaN        NaN            NaN   \n",
              "1224      NaN      NaN      NaN      NaN        NaN            NaN   \n",
              "1225      NaN      NaN      NaN      NaN        NaN            NaN   \n",
              "\n",
              "               Avg    Year  Month   Day    O_t-3    O_t-2    O_t-1    C_t-3  \\\n",
              "1221  14560.080506  2012.0    1.0  11.0  13720.0  13990.0  13890.0  13800.0   \n",
              "1222  14211.291610  2012.0    1.0  10.0  14050.0  13720.0  13990.0  13720.0   \n",
              "1223           NaN     NaN    NaN   NaN      NaN      NaN      NaN      NaN   \n",
              "1224           NaN     NaN    NaN   NaN      NaN      NaN      NaN      NaN   \n",
              "1225           NaN     NaN    NaN   NaN      NaN      NaN      NaN      NaN   \n",
              "\n",
              "        C_t-2    C_t-1      min     mean      max  \n",
              "1221  13850.0  14390.0  13840.0  14212.0  14750.0  \n",
              "1222  13800.0  13850.0      NaN      NaN      NaN  \n",
              "1223      NaN      NaN      NaN      NaN      NaN  \n",
              "1224      NaN      NaN      NaN      NaN      NaN  \n",
              "1225      NaN      NaN      NaN      NaN      NaN  "
            ]
          },
          "metadata": {
            "tags": []
          },
          "execution_count": 60
        }
      ]
    },
    {
      "cell_type": "markdown",
      "metadata": {
        "id": "uQnpofgmahqb",
        "colab_type": "text"
      },
      "source": [
        "#### Expanding window Statistics"
      ]
    },
    {
      "cell_type": "code",
      "metadata": {
        "id": "NjIe4u9-ahqb",
        "colab_type": "code",
        "colab": {}
      },
      "source": [
        "train2.dropna(inplace=True)"
      ],
      "execution_count": 0,
      "outputs": []
    },
    {
      "cell_type": "code",
      "metadata": {
        "id": "WUgIkpEwokhp",
        "colab_type": "code",
        "outputId": "67f53094-6bd6-4a1a-9bbc-a6ba28f2d419",
        "colab": {
          "base_uri": "https://localhost:8080/"
        }
      },
      "source": [
        "train2.head()"
      ],
      "execution_count": 0,
      "outputs": [
        {
          "output_type": "execute_result",
          "data": {
            "text/html": [
              "<div>\n",
              "<style scoped>\n",
              "    .dataframe tbody tr th:only-of-type {\n",
              "        vertical-align: middle;\n",
              "    }\n",
              "\n",
              "    .dataframe tbody tr th {\n",
              "        vertical-align: top;\n",
              "    }\n",
              "\n",
              "    .dataframe thead th {\n",
              "        text-align: right;\n",
              "    }\n",
              "</style>\n",
              "<table border=\"1\" class=\"dataframe\">\n",
              "  <thead>\n",
              "    <tr style=\"text-align: right;\">\n",
              "      <th></th>\n",
              "      <th>Open</th>\n",
              "      <th>High</th>\n",
              "      <th>Low</th>\n",
              "      <th>Close</th>\n",
              "      <th>Volume</th>\n",
              "      <th>Stock Trading</th>\n",
              "      <th>Avg</th>\n",
              "      <th>Year</th>\n",
              "      <th>Month</th>\n",
              "      <th>Day</th>\n",
              "      <th>O_t-3</th>\n",
              "      <th>O_t-2</th>\n",
              "      <th>O_t-1</th>\n",
              "      <th>C_t-3</th>\n",
              "      <th>C_t-2</th>\n",
              "      <th>C_t-1</th>\n",
              "      <th>min</th>\n",
              "      <th>mean</th>\n",
              "      <th>max</th>\n",
              "    </tr>\n",
              "  </thead>\n",
              "  <tbody>\n",
              "    <tr>\n",
              "      <th>4</th>\n",
              "      <td>43310.0</td>\n",
              "      <td>43660.0</td>\n",
              "      <td>43090.0</td>\n",
              "      <td>43340.0</td>\n",
              "      <td>358200.0</td>\n",
              "      <td>1.554780e+10</td>\n",
              "      <td>43405.368509</td>\n",
              "      <td>2016.0</td>\n",
              "      <td>12.0</td>\n",
              "      <td>26.0</td>\n",
              "      <td>42910.0</td>\n",
              "      <td>43900.0</td>\n",
              "      <td>43660.0</td>\n",
              "      <td>43620.0</td>\n",
              "      <td>44000.0</td>\n",
              "      <td>43480.0</td>\n",
              "      <td>43150.0</td>\n",
              "      <td>43730.0</td>\n",
              "      <td>44370.0</td>\n",
              "    </tr>\n",
              "    <tr>\n",
              "      <th>5</th>\n",
              "      <td>43660.0</td>\n",
              "      <td>43840.0</td>\n",
              "      <td>43190.0</td>\n",
              "      <td>43480.0</td>\n",
              "      <td>381600.0</td>\n",
              "      <td>1.658649e+10</td>\n",
              "      <td>43465.647275</td>\n",
              "      <td>2016.0</td>\n",
              "      <td>12.0</td>\n",
              "      <td>22.0</td>\n",
              "      <td>42790.0</td>\n",
              "      <td>42910.0</td>\n",
              "      <td>43900.0</td>\n",
              "      <td>43130.0</td>\n",
              "      <td>43620.0</td>\n",
              "      <td>44000.0</td>\n",
              "      <td>43150.0</td>\n",
              "      <td>43708.0</td>\n",
              "      <td>44370.0</td>\n",
              "    </tr>\n",
              "    <tr>\n",
              "      <th>6</th>\n",
              "      <td>43900.0</td>\n",
              "      <td>44370.0</td>\n",
              "      <td>43610.0</td>\n",
              "      <td>44000.0</td>\n",
              "      <td>658900.0</td>\n",
              "      <td>2.899432e+10</td>\n",
              "      <td>44004.122022</td>\n",
              "      <td>2016.0</td>\n",
              "      <td>12.0</td>\n",
              "      <td>21.0</td>\n",
              "      <td>43350.0</td>\n",
              "      <td>42790.0</td>\n",
              "      <td>42910.0</td>\n",
              "      <td>43130.0</td>\n",
              "      <td>43130.0</td>\n",
              "      <td>43620.0</td>\n",
              "      <td>43150.0</td>\n",
              "      <td>43716.0</td>\n",
              "      <td>44370.0</td>\n",
              "    </tr>\n",
              "    <tr>\n",
              "      <th>7</th>\n",
              "      <td>42910.0</td>\n",
              "      <td>43630.0</td>\n",
              "      <td>42860.0</td>\n",
              "      <td>43620.0</td>\n",
              "      <td>499400.0</td>\n",
              "      <td>2.160610e+10</td>\n",
              "      <td>43264.120945</td>\n",
              "      <td>2016.0</td>\n",
              "      <td>12.0</td>\n",
              "      <td>20.0</td>\n",
              "      <td>43440.0</td>\n",
              "      <td>43350.0</td>\n",
              "      <td>42790.0</td>\n",
              "      <td>43000.0</td>\n",
              "      <td>43130.0</td>\n",
              "      <td>43130.0</td>\n",
              "      <td>43150.0</td>\n",
              "      <td>43530.0</td>\n",
              "      <td>43880.0</td>\n",
              "    </tr>\n",
              "    <tr>\n",
              "      <th>8</th>\n",
              "      <td>42790.0</td>\n",
              "      <td>43150.0</td>\n",
              "      <td>42740.0</td>\n",
              "      <td>43130.0</td>\n",
              "      <td>358700.0</td>\n",
              "      <td>1.542853e+10</td>\n",
              "      <td>43012.352941</td>\n",
              "      <td>2016.0</td>\n",
              "      <td>12.0</td>\n",
              "      <td>19.0</td>\n",
              "      <td>43300.0</td>\n",
              "      <td>43440.0</td>\n",
              "      <td>43350.0</td>\n",
              "      <td>43090.0</td>\n",
              "      <td>43000.0</td>\n",
              "      <td>43130.0</td>\n",
              "      <td>43150.0</td>\n",
              "      <td>43464.0</td>\n",
              "      <td>43880.0</td>\n",
              "    </tr>\n",
              "  </tbody>\n",
              "</table>\n",
              "</div>"
            ],
            "text/plain": [
              "      Open     High      Low    Close    Volume  Stock Trading           Avg  \\\n",
              "4  43310.0  43660.0  43090.0  43340.0  358200.0   1.554780e+10  43405.368509   \n",
              "5  43660.0  43840.0  43190.0  43480.0  381600.0   1.658649e+10  43465.647275   \n",
              "6  43900.0  44370.0  43610.0  44000.0  658900.0   2.899432e+10  44004.122022   \n",
              "7  42910.0  43630.0  42860.0  43620.0  499400.0   2.160610e+10  43264.120945   \n",
              "8  42790.0  43150.0  42740.0  43130.0  358700.0   1.542853e+10  43012.352941   \n",
              "\n",
              "     Year  Month   Day    O_t-3    O_t-2    O_t-1    C_t-3    C_t-2    C_t-1  \\\n",
              "4  2016.0   12.0  26.0  42910.0  43900.0  43660.0  43620.0  44000.0  43480.0   \n",
              "5  2016.0   12.0  22.0  42790.0  42910.0  43900.0  43130.0  43620.0  44000.0   \n",
              "6  2016.0   12.0  21.0  43350.0  42790.0  42910.0  43130.0  43130.0  43620.0   \n",
              "7  2016.0   12.0  20.0  43440.0  43350.0  42790.0  43000.0  43130.0  43130.0   \n",
              "8  2016.0   12.0  19.0  43300.0  43440.0  43350.0  43090.0  43000.0  43130.0   \n",
              "\n",
              "       min     mean      max  \n",
              "4  43150.0  43730.0  44370.0  \n",
              "5  43150.0  43708.0  44370.0  \n",
              "6  43150.0  43716.0  44370.0  \n",
              "7  43150.0  43530.0  43880.0  \n",
              "8  43150.0  43464.0  43880.0  "
            ]
          },
          "metadata": {
            "tags": []
          },
          "execution_count": 62
        }
      ]
    },
    {
      "cell_type": "code",
      "metadata": {
        "id": "pDvd4wCWahqd",
        "colab_type": "code",
        "colab": {}
      },
      "source": [
        "#Applying Expanding window for the Lowest Value\n",
        "low= train['Low']\n",
        "window = low.expanding(5)\n",
        "dfc = concat([window.min(), window.mean(), window.max()], axis=1)\n",
        "dfc.columns = ['min', 'mean', 'max']"
      ],
      "execution_count": 0,
      "outputs": []
    },
    {
      "cell_type": "code",
      "metadata": {
        "id": "_pkW27t-ahqg",
        "colab_type": "code",
        "outputId": "d842db0a-3fda-4d3a-9ba4-22ddb137e542",
        "colab": {
          "base_uri": "https://localhost:8080/"
        }
      },
      "source": [
        "#no null values\n",
        "dfc.shape"
      ],
      "execution_count": 0,
      "outputs": [
        {
          "output_type": "execute_result",
          "data": {
            "text/plain": [
              "(1226, 3)"
            ]
          },
          "metadata": {
            "tags": []
          },
          "execution_count": 64
        }
      ]
    },
    {
      "cell_type": "code",
      "metadata": {
        "id": "8EhOaqlQahqj",
        "colab_type": "code",
        "colab": {}
      },
      "source": [
        "#to make it equal to the train2, dropping forst 4 values\n",
        "#dfc.drop(dfc.head(4).index, inplace=True)"
      ],
      "execution_count": 0,
      "outputs": []
    },
    {
      "cell_type": "code",
      "metadata": {
        "id": "CLAM7rRnahqo",
        "colab_type": "code",
        "outputId": "4bcaf43a-8df6-4d17-a411-792b1881d60b",
        "colab": {
          "base_uri": "https://localhost:8080/"
        }
      },
      "source": [
        "dfc.shape"
      ],
      "execution_count": 0,
      "outputs": [
        {
          "output_type": "execute_result",
          "data": {
            "text/plain": [
              "(1226, 3)"
            ]
          },
          "metadata": {
            "tags": []
          },
          "execution_count": 66
        }
      ]
    },
    {
      "cell_type": "code",
      "metadata": {
        "id": "r2Q6i96Lahqt",
        "colab_type": "code",
        "colab": {}
      },
      "source": [
        "#concating the expanding window features to the previous train2.\n",
        "train_final = pd.concat([train2, dfc], axis=1)"
      ],
      "execution_count": 0,
      "outputs": []
    },
    {
      "cell_type": "code",
      "metadata": {
        "id": "2TH0BsObahqw",
        "colab_type": "code",
        "outputId": "a224985e-572a-430e-bc40-578e5589d47d",
        "colab": {
          "base_uri": "https://localhost:8080/"
        }
      },
      "source": [
        "train_final.tail()"
      ],
      "execution_count": 0,
      "outputs": [
        {
          "output_type": "execute_result",
          "data": {
            "text/html": [
              "<div>\n",
              "<style scoped>\n",
              "    .dataframe tbody tr th:only-of-type {\n",
              "        vertical-align: middle;\n",
              "    }\n",
              "\n",
              "    .dataframe tbody tr th {\n",
              "        vertical-align: top;\n",
              "    }\n",
              "\n",
              "    .dataframe thead th {\n",
              "        text-align: right;\n",
              "    }\n",
              "</style>\n",
              "<table border=\"1\" class=\"dataframe\">\n",
              "  <thead>\n",
              "    <tr style=\"text-align: right;\">\n",
              "      <th></th>\n",
              "      <th>Open</th>\n",
              "      <th>High</th>\n",
              "      <th>Low</th>\n",
              "      <th>Close</th>\n",
              "      <th>Volume</th>\n",
              "      <th>Stock Trading</th>\n",
              "      <th>Avg</th>\n",
              "      <th>Year</th>\n",
              "      <th>Month</th>\n",
              "      <th>Day</th>\n",
              "      <th>...</th>\n",
              "      <th>O_t-1</th>\n",
              "      <th>C_t-3</th>\n",
              "      <th>C_t-2</th>\n",
              "      <th>C_t-1</th>\n",
              "      <th>min</th>\n",
              "      <th>mean</th>\n",
              "      <th>max</th>\n",
              "      <th>min</th>\n",
              "      <th>mean</th>\n",
              "      <th>max</th>\n",
              "    </tr>\n",
              "  </thead>\n",
              "  <tbody>\n",
              "    <tr>\n",
              "      <th>1221</th>\n",
              "      <td>14360.0</td>\n",
              "      <td>14750.0</td>\n",
              "      <td>14280.0</td>\n",
              "      <td>14590.0</td>\n",
              "      <td>1043400.0</td>\n",
              "      <td>1.519199e+10</td>\n",
              "      <td>14560.080506</td>\n",
              "      <td>2012.0</td>\n",
              "      <td>1.0</td>\n",
              "      <td>11.0</td>\n",
              "      <td>...</td>\n",
              "      <td>13890.0</td>\n",
              "      <td>13800.0</td>\n",
              "      <td>13850.0</td>\n",
              "      <td>14390.0</td>\n",
              "      <td>13840.0</td>\n",
              "      <td>14212.0</td>\n",
              "      <td>14750.0</td>\n",
              "      <td>14280.0</td>\n",
              "      <td>33412.094926</td>\n",
              "      <td>60740.0</td>\n",
              "    </tr>\n",
              "    <tr>\n",
              "      <th>1222</th>\n",
              "      <td>NaN</td>\n",
              "      <td>NaN</td>\n",
              "      <td>NaN</td>\n",
              "      <td>NaN</td>\n",
              "      <td>NaN</td>\n",
              "      <td>NaN</td>\n",
              "      <td>NaN</td>\n",
              "      <td>NaN</td>\n",
              "      <td>NaN</td>\n",
              "      <td>NaN</td>\n",
              "      <td>...</td>\n",
              "      <td>NaN</td>\n",
              "      <td>NaN</td>\n",
              "      <td>NaN</td>\n",
              "      <td>NaN</td>\n",
              "      <td>NaN</td>\n",
              "      <td>NaN</td>\n",
              "      <td>NaN</td>\n",
              "      <td>13860.0</td>\n",
              "      <td>33396.107931</td>\n",
              "      <td>60740.0</td>\n",
              "    </tr>\n",
              "    <tr>\n",
              "      <th>1223</th>\n",
              "      <td>NaN</td>\n",
              "      <td>NaN</td>\n",
              "      <td>NaN</td>\n",
              "      <td>NaN</td>\n",
              "      <td>NaN</td>\n",
              "      <td>NaN</td>\n",
              "      <td>NaN</td>\n",
              "      <td>NaN</td>\n",
              "      <td>NaN</td>\n",
              "      <td>NaN</td>\n",
              "      <td>...</td>\n",
              "      <td>NaN</td>\n",
              "      <td>NaN</td>\n",
              "      <td>NaN</td>\n",
              "      <td>NaN</td>\n",
              "      <td>NaN</td>\n",
              "      <td>NaN</td>\n",
              "      <td>NaN</td>\n",
              "      <td>13790.0</td>\n",
              "      <td>33380.089869</td>\n",
              "      <td>60740.0</td>\n",
              "    </tr>\n",
              "    <tr>\n",
              "      <th>1224</th>\n",
              "      <td>NaN</td>\n",
              "      <td>NaN</td>\n",
              "      <td>NaN</td>\n",
              "      <td>NaN</td>\n",
              "      <td>NaN</td>\n",
              "      <td>NaN</td>\n",
              "      <td>NaN</td>\n",
              "      <td>NaN</td>\n",
              "      <td>NaN</td>\n",
              "      <td>NaN</td>\n",
              "      <td>...</td>\n",
              "      <td>NaN</td>\n",
              "      <td>NaN</td>\n",
              "      <td>NaN</td>\n",
              "      <td>NaN</td>\n",
              "      <td>NaN</td>\n",
              "      <td>NaN</td>\n",
              "      <td>NaN</td>\n",
              "      <td>13600.0</td>\n",
              "      <td>33363.942857</td>\n",
              "      <td>60740.0</td>\n",
              "    </tr>\n",
              "    <tr>\n",
              "      <th>1225</th>\n",
              "      <td>NaN</td>\n",
              "      <td>NaN</td>\n",
              "      <td>NaN</td>\n",
              "      <td>NaN</td>\n",
              "      <td>NaN</td>\n",
              "      <td>NaN</td>\n",
              "      <td>NaN</td>\n",
              "      <td>NaN</td>\n",
              "      <td>NaN</td>\n",
              "      <td>NaN</td>\n",
              "      <td>...</td>\n",
              "      <td>NaN</td>\n",
              "      <td>NaN</td>\n",
              "      <td>NaN</td>\n",
              "      <td>NaN</td>\n",
              "      <td>NaN</td>\n",
              "      <td>NaN</td>\n",
              "      <td>NaN</td>\n",
              "      <td>13600.0</td>\n",
              "      <td>33347.903752</td>\n",
              "      <td>60740.0</td>\n",
              "    </tr>\n",
              "  </tbody>\n",
              "</table>\n",
              "<p>5 rows × 22 columns</p>\n",
              "</div>"
            ],
            "text/plain": [
              "         Open     High      Low    Close     Volume  Stock Trading  \\\n",
              "1221  14360.0  14750.0  14280.0  14590.0  1043400.0   1.519199e+10   \n",
              "1222      NaN      NaN      NaN      NaN        NaN            NaN   \n",
              "1223      NaN      NaN      NaN      NaN        NaN            NaN   \n",
              "1224      NaN      NaN      NaN      NaN        NaN            NaN   \n",
              "1225      NaN      NaN      NaN      NaN        NaN            NaN   \n",
              "\n",
              "               Avg    Year  Month   Day  ...    O_t-1    C_t-3    C_t-2  \\\n",
              "1221  14560.080506  2012.0    1.0  11.0  ...  13890.0  13800.0  13850.0   \n",
              "1222           NaN     NaN    NaN   NaN  ...      NaN      NaN      NaN   \n",
              "1223           NaN     NaN    NaN   NaN  ...      NaN      NaN      NaN   \n",
              "1224           NaN     NaN    NaN   NaN  ...      NaN      NaN      NaN   \n",
              "1225           NaN     NaN    NaN   NaN  ...      NaN      NaN      NaN   \n",
              "\n",
              "        C_t-1      min     mean      max      min          mean      max  \n",
              "1221  14390.0  13840.0  14212.0  14750.0  14280.0  33412.094926  60740.0  \n",
              "1222      NaN      NaN      NaN      NaN  13860.0  33396.107931  60740.0  \n",
              "1223      NaN      NaN      NaN      NaN  13790.0  33380.089869  60740.0  \n",
              "1224      NaN      NaN      NaN      NaN  13600.0  33363.942857  60740.0  \n",
              "1225      NaN      NaN      NaN      NaN  13600.0  33347.903752  60740.0  \n",
              "\n",
              "[5 rows x 22 columns]"
            ]
          },
          "metadata": {
            "tags": []
          },
          "execution_count": 68
        }
      ]
    },
    {
      "cell_type": "code",
      "metadata": {
        "id": "EeXNY_Lgahqz",
        "colab_type": "code",
        "colab": {}
      },
      "source": [
        "#Replacing the null values with -1 if any.\n",
        "train_final.dropna(inplace = True)"
      ],
      "execution_count": 0,
      "outputs": []
    },
    {
      "cell_type": "code",
      "metadata": {
        "id": "XZtNllkwahq3",
        "colab_type": "code",
        "outputId": "d8aeed8c-ee5d-457d-ca95-1a0126057662",
        "colab": {
          "base_uri": "https://localhost:8080/"
        }
      },
      "source": [
        "#Complete final Train Data\n",
        "train_final.shape"
      ],
      "execution_count": 0,
      "outputs": [
        {
          "output_type": "execute_result",
          "data": {
            "text/plain": [
              "(1218, 22)"
            ]
          },
          "metadata": {
            "tags": []
          },
          "execution_count": 70
        }
      ]
    },
    {
      "cell_type": "code",
      "metadata": {
        "id": "m8EIYYN8ahq9",
        "colab_type": "code",
        "colab": {}
      },
      "source": [
        "train_final.drop('High',axis=1,inplace=True)\n",
        "train_final.drop('Low',axis=1,inplace=True)\n",
        "train_final.drop('Open',axis=1,inplace=True)"
      ],
      "execution_count": 0,
      "outputs": []
    },
    {
      "cell_type": "markdown",
      "metadata": {
        "id": "gGclqSZqahq_",
        "colab_type": "text"
      },
      "source": [
        "### Splitting of Data"
      ]
    },
    {
      "cell_type": "code",
      "metadata": {
        "id": "fU9AmcE-ahrA",
        "colab_type": "code",
        "colab": {}
      },
      "source": [
        "from sklearn.model_selection import train_test_split"
      ],
      "execution_count": 0,
      "outputs": []
    },
    {
      "cell_type": "code",
      "metadata": {
        "id": "Es_4qfwNspYx",
        "colab_type": "code",
        "outputId": "29237343-2dcb-46c2-ca05-7fa9f7af7f29",
        "colab": {
          "base_uri": "https://localhost:8080/",
          "height": 407
        }
      },
      "source": [
        "train_final.info()"
      ],
      "execution_count": 0,
      "outputs": [
        {
          "output_type": "stream",
          "text": [
            "<class 'pandas.core.frame.DataFrame'>\n",
            "Int64Index: 1218 entries, 4 to 1221\n",
            "Data columns (total 19 columns):\n",
            "Close            1218 non-null float64\n",
            "Volume           1218 non-null float64\n",
            "Stock Trading    1218 non-null float64\n",
            "Avg              1218 non-null float64\n",
            "Year             1218 non-null float64\n",
            "Month            1218 non-null float64\n",
            "Day              1218 non-null float64\n",
            "O_t-3            1218 non-null float64\n",
            "O_t-2            1218 non-null float64\n",
            "O_t-1            1218 non-null float64\n",
            "C_t-3            1218 non-null float64\n",
            "C_t-2            1218 non-null float64\n",
            "C_t-1            1218 non-null float64\n",
            "min              1218 non-null float64\n",
            "mean             1218 non-null float64\n",
            "max              1218 non-null float64\n",
            "min              1218 non-null float64\n",
            "mean             1218 non-null float64\n",
            "max              1218 non-null float64\n",
            "dtypes: float64(19)\n",
            "memory usage: 190.3 KB\n"
          ],
          "name": "stdout"
        }
      ]
    },
    {
      "cell_type": "code",
      "metadata": {
        "id": "UXjU6vmkahrD",
        "colab_type": "code",
        "colab": {}
      },
      "source": [
        "train_final.drop(['Avg'],axis=1,inplace=True)\n"
      ],
      "execution_count": 0,
      "outputs": []
    },
    {
      "cell_type": "code",
      "metadata": {
        "id": "IAsk0RbLtLZ6",
        "colab_type": "code",
        "outputId": "f82d70a9-6102-4220-dfd9-8a4a6dd0583b",
        "colab": {
          "base_uri": "https://localhost:8080/",
          "height": 391
        }
      },
      "source": [
        "train_final.info()"
      ],
      "execution_count": 0,
      "outputs": [
        {
          "output_type": "stream",
          "text": [
            "<class 'pandas.core.frame.DataFrame'>\n",
            "Int64Index: 1218 entries, 4 to 1221\n",
            "Data columns (total 18 columns):\n",
            "Close            1218 non-null float64\n",
            "Volume           1218 non-null float64\n",
            "Stock Trading    1218 non-null float64\n",
            "Year             1218 non-null float64\n",
            "Month            1218 non-null float64\n",
            "Day              1218 non-null float64\n",
            "O_t-3            1218 non-null float64\n",
            "O_t-2            1218 non-null float64\n",
            "O_t-1            1218 non-null float64\n",
            "C_t-3            1218 non-null float64\n",
            "C_t-2            1218 non-null float64\n",
            "C_t-1            1218 non-null float64\n",
            "min              1218 non-null float64\n",
            "mean             1218 non-null float64\n",
            "max              1218 non-null float64\n",
            "min              1218 non-null float64\n",
            "mean             1218 non-null float64\n",
            "max              1218 non-null float64\n",
            "dtypes: float64(18)\n",
            "memory usage: 180.8 KB\n"
          ],
          "name": "stdout"
        }
      ]
    },
    {
      "cell_type": "code",
      "metadata": {
        "id": "H7iRznA1s3Tu",
        "colab_type": "code",
        "colab": {}
      },
      "source": [
        "\n",
        "X_train,X_test,y_train,y_test = train_test_split(train_final.drop('Close',axis=1)\n",
        "                                                 ,train_final['Close'],random_state=42)"
      ],
      "execution_count": 0,
      "outputs": []
    },
    {
      "cell_type": "code",
      "metadata": {
        "id": "zZG7ATGYahrF",
        "colab_type": "code",
        "outputId": "3ea5ddbb-e6ed-437f-e6c0-1ab6f3cc53f2",
        "colab": {
          "base_uri": "https://localhost:8080/",
          "height": 191
        }
      },
      "source": [
        "X_train.head()"
      ],
      "execution_count": 0,
      "outputs": [
        {
          "output_type": "execute_result",
          "data": {
            "text/html": [
              "<div>\n",
              "<style scoped>\n",
              "    .dataframe tbody tr th:only-of-type {\n",
              "        vertical-align: middle;\n",
              "    }\n",
              "\n",
              "    .dataframe tbody tr th {\n",
              "        vertical-align: top;\n",
              "    }\n",
              "\n",
              "    .dataframe thead th {\n",
              "        text-align: right;\n",
              "    }\n",
              "</style>\n",
              "<table border=\"1\" class=\"dataframe\">\n",
              "  <thead>\n",
              "    <tr style=\"text-align: right;\">\n",
              "      <th></th>\n",
              "      <th>Volume</th>\n",
              "      <th>Stock Trading</th>\n",
              "      <th>Year</th>\n",
              "      <th>Month</th>\n",
              "      <th>Day</th>\n",
              "      <th>O_t-3</th>\n",
              "      <th>O_t-2</th>\n",
              "      <th>O_t-1</th>\n",
              "      <th>C_t-3</th>\n",
              "      <th>C_t-2</th>\n",
              "      <th>C_t-1</th>\n",
              "      <th>min</th>\n",
              "      <th>mean</th>\n",
              "      <th>max</th>\n",
              "      <th>min</th>\n",
              "      <th>mean</th>\n",
              "      <th>max</th>\n",
              "    </tr>\n",
              "  </thead>\n",
              "  <tbody>\n",
              "    <tr>\n",
              "      <th>465</th>\n",
              "      <td>354300.0</td>\n",
              "      <td>1.559639e+10</td>\n",
              "      <td>2015.0</td>\n",
              "      <td>2.0</td>\n",
              "      <td>6.0</td>\n",
              "      <td>43245.0</td>\n",
              "      <td>43100.0</td>\n",
              "      <td>43560.0</td>\n",
              "      <td>42185.0</td>\n",
              "      <td>43850.0</td>\n",
              "      <td>43475.0</td>\n",
              "      <td>43350.0</td>\n",
              "      <td>43834.0</td>\n",
              "      <td>44270.0</td>\n",
              "      <td>25305.0</td>\n",
              "      <td>40775.987124</td>\n",
              "      <td>60740.0</td>\n",
              "    </tr>\n",
              "    <tr>\n",
              "      <th>140</th>\n",
              "      <td>662200.0</td>\n",
              "      <td>1.984341e+10</td>\n",
              "      <td>2016.0</td>\n",
              "      <td>6.0</td>\n",
              "      <td>7.0</td>\n",
              "      <td>28800.0</td>\n",
              "      <td>29205.0</td>\n",
              "      <td>29420.0</td>\n",
              "      <td>28180.0</td>\n",
              "      <td>30120.0</td>\n",
              "      <td>30090.0</td>\n",
              "      <td>28800.0</td>\n",
              "      <td>29897.0</td>\n",
              "      <td>30450.0</td>\n",
              "      <td>25305.0</td>\n",
              "      <td>34756.985816</td>\n",
              "      <td>43610.0</td>\n",
              "    </tr>\n",
              "    <tr>\n",
              "      <th>1010</th>\n",
              "      <td>298200.0</td>\n",
              "      <td>5.013973e+09</td>\n",
              "      <td>2012.0</td>\n",
              "      <td>11.0</td>\n",
              "      <td>12.0</td>\n",
              "      <td>17480.0</td>\n",
              "      <td>17220.0</td>\n",
              "      <td>17050.0</td>\n",
              "      <td>17380.0</td>\n",
              "      <td>17140.0</td>\n",
              "      <td>16870.0</td>\n",
              "      <td>16950.0</td>\n",
              "      <td>17284.0</td>\n",
              "      <td>17530.0</td>\n",
              "      <td>16620.0</td>\n",
              "      <td>36890.267062</td>\n",
              "      <td>60740.0</td>\n",
              "    </tr>\n",
              "    <tr>\n",
              "      <th>437</th>\n",
              "      <td>601700.0</td>\n",
              "      <td>2.742257e+10</td>\n",
              "      <td>2015.0</td>\n",
              "      <td>3.0</td>\n",
              "      <td>19.0</td>\n",
              "      <td>46190.0</td>\n",
              "      <td>46810.0</td>\n",
              "      <td>46295.0</td>\n",
              "      <td>46265.0</td>\n",
              "      <td>46200.0</td>\n",
              "      <td>46140.0</td>\n",
              "      <td>45930.0</td>\n",
              "      <td>46476.0</td>\n",
              "      <td>46845.0</td>\n",
              "      <td>25305.0</td>\n",
              "      <td>40526.689498</td>\n",
              "      <td>60740.0</td>\n",
              "    </tr>\n",
              "    <tr>\n",
              "      <th>7</th>\n",
              "      <td>499400.0</td>\n",
              "      <td>2.160610e+10</td>\n",
              "      <td>2016.0</td>\n",
              "      <td>12.0</td>\n",
              "      <td>20.0</td>\n",
              "      <td>43440.0</td>\n",
              "      <td>43350.0</td>\n",
              "      <td>42790.0</td>\n",
              "      <td>43000.0</td>\n",
              "      <td>43130.0</td>\n",
              "      <td>43130.0</td>\n",
              "      <td>43150.0</td>\n",
              "      <td>43530.0</td>\n",
              "      <td>43880.0</td>\n",
              "      <td>41700.0</td>\n",
              "      <td>42925.000000</td>\n",
              "      <td>43610.0</td>\n",
              "    </tr>\n",
              "  </tbody>\n",
              "</table>\n",
              "</div>"
            ],
            "text/plain": [
              "        Volume  Stock Trading    Year  Month   Day    O_t-3    O_t-2    O_t-1  \\\n",
              "465   354300.0   1.559639e+10  2015.0    2.0   6.0  43245.0  43100.0  43560.0   \n",
              "140   662200.0   1.984341e+10  2016.0    6.0   7.0  28800.0  29205.0  29420.0   \n",
              "1010  298200.0   5.013973e+09  2012.0   11.0  12.0  17480.0  17220.0  17050.0   \n",
              "437   601700.0   2.742257e+10  2015.0    3.0  19.0  46190.0  46810.0  46295.0   \n",
              "7     499400.0   2.160610e+10  2016.0   12.0  20.0  43440.0  43350.0  42790.0   \n",
              "\n",
              "        C_t-3    C_t-2    C_t-1      min     mean      max      min  \\\n",
              "465   42185.0  43850.0  43475.0  43350.0  43834.0  44270.0  25305.0   \n",
              "140   28180.0  30120.0  30090.0  28800.0  29897.0  30450.0  25305.0   \n",
              "1010  17380.0  17140.0  16870.0  16950.0  17284.0  17530.0  16620.0   \n",
              "437   46265.0  46200.0  46140.0  45930.0  46476.0  46845.0  25305.0   \n",
              "7     43000.0  43130.0  43130.0  43150.0  43530.0  43880.0  41700.0   \n",
              "\n",
              "              mean      max  \n",
              "465   40775.987124  60740.0  \n",
              "140   34756.985816  43610.0  \n",
              "1010  36890.267062  60740.0  \n",
              "437   40526.689498  60740.0  \n",
              "7     42925.000000  43610.0  "
            ]
          },
          "metadata": {
            "tags": []
          },
          "execution_count": 77
        }
      ]
    },
    {
      "cell_type": "markdown",
      "metadata": {
        "id": "MQQ1YVn2ahrK",
        "colab_type": "text"
      },
      "source": [
        "### Applying Regressor Model"
      ]
    },
    {
      "cell_type": "code",
      "metadata": {
        "id": "2cNBp9sKahrL",
        "colab_type": "code",
        "colab": {}
      },
      "source": [
        "model=RandomForestRegressor()\n"
      ],
      "execution_count": 0,
      "outputs": []
    },
    {
      "cell_type": "code",
      "metadata": {
        "id": "7TN2pbNsahrN",
        "colab_type": "code",
        "outputId": "9e481377-060d-487c-8c04-b8bc7e6f46ef",
        "colab": {
          "base_uri": "https://localhost:8080/",
          "height": 147
        }
      },
      "source": [
        "model.fit(X_train,y_train)"
      ],
      "execution_count": 0,
      "outputs": [
        {
          "output_type": "stream",
          "text": [
            "/usr/local/lib/python3.6/dist-packages/sklearn/ensemble/forest.py:246: FutureWarning: The default value of n_estimators will change from 10 in version 0.20 to 100 in 0.22.\n",
            "  \"10 in version 0.20 to 100 in 0.22.\", FutureWarning)\n"
          ],
          "name": "stderr"
        },
        {
          "output_type": "execute_result",
          "data": {
            "text/plain": [
              "RandomForestRegressor(bootstrap=True, criterion='mse', max_depth=None,\n",
              "           max_features='auto', max_leaf_nodes=None,\n",
              "           min_impurity_decrease=0.0, min_impurity_split=None,\n",
              "           min_samples_leaf=1, min_samples_split=2,\n",
              "           min_weight_fraction_leaf=0.0, n_estimators=10, n_jobs=None,\n",
              "           oob_score=False, random_state=None, verbose=0, warm_start=False)"
            ]
          },
          "metadata": {
            "tags": []
          },
          "execution_count": 79
        }
      ]
    },
    {
      "cell_type": "code",
      "metadata": {
        "id": "Si5vzjWQzVg6",
        "colab_type": "code",
        "colab": {}
      },
      "source": [
        "import pickle\n",
        "filename = 'model.pic'\n",
        "outfile = open(filename,'wb')\n",
        "pickle.dump(model,outfile)\n",
        "outfile.close()"
      ],
      "execution_count": 0,
      "outputs": []
    },
    {
      "cell_type": "code",
      "metadata": {
        "id": "OL6ZttJZ0YtH",
        "colab_type": "code",
        "colab": {}
      },
      "source": [
        "new_model = model"
      ],
      "execution_count": 0,
      "outputs": []
    },
    {
      "cell_type": "code",
      "metadata": {
        "id": "58_Zfjj3ahrS",
        "colab_type": "code",
        "colab": {}
      },
      "source": [
        "predict=model.predict(X_test)"
      ],
      "execution_count": 0,
      "outputs": []
    },
    {
      "cell_type": "code",
      "metadata": {
        "id": "wLJ7sf-LpcCy",
        "colab_type": "code",
        "outputId": "08ee912d-261e-45b3-f343-ff7158bfe3b6",
        "colab": {
          "base_uri": "https://localhost:8080/",
          "height": 158
        }
      },
      "source": [
        "model.coef_"
      ],
      "execution_count": 0,
      "outputs": [
        {
          "output_type": "error",
          "ename": "AttributeError",
          "evalue": "ignored",
          "traceback": [
            "\u001b[0;31m---------------------------------------------------------------------------\u001b[0m",
            "\u001b[0;31mAttributeError\u001b[0m                            Traceback (most recent call last)",
            "\u001b[0;32m<ipython-input-84-4650e3f7c16c>\u001b[0m in \u001b[0;36m<module>\u001b[0;34m()\u001b[0m\n\u001b[0;32m----> 1\u001b[0;31m \u001b[0mmodel\u001b[0m\u001b[0;34m.\u001b[0m\u001b[0mcoef_\u001b[0m\u001b[0;34m\u001b[0m\u001b[0;34m\u001b[0m\u001b[0m\n\u001b[0m",
            "\u001b[0;31mAttributeError\u001b[0m: 'RandomForestRegressor' object has no attribute 'coef_'"
          ]
        }
      ]
    },
    {
      "cell_type": "code",
      "metadata": {
        "id": "IrDCe00vahrW",
        "colab_type": "code",
        "outputId": "609800e4-1648-4d26-82a9-93a04f440104",
        "colab": {
          "base_uri": "https://localhost:8080/",
          "height": 98
        }
      },
      "source": [
        "model.feature_importances_"
      ],
      "execution_count": 0,
      "outputs": [
        {
          "output_type": "execute_result",
          "data": {
            "text/plain": [
              "array([4.34101550e-04, 4.47706593e-04, 2.57852993e-05, 1.91600154e-04,\n",
              "       4.08874368e-04, 2.78269249e-04, 1.17336914e-02, 7.32409324e-02,\n",
              "       8.38528168e-03, 4.70395459e-02, 6.63099264e-01, 1.93369814e-02,\n",
              "       2.71777810e-02, 1.43306960e-01, 4.24170832e-03, 6.28404762e-04,\n",
              "       2.31115157e-05])"
            ]
          },
          "metadata": {
            "tags": []
          },
          "execution_count": 85
        }
      ]
    },
    {
      "cell_type": "code",
      "metadata": {
        "id": "qjeY8PA0ahrb",
        "colab_type": "code",
        "colab": {}
      },
      "source": [
        "imp_list = list(model.feature_importances_)"
      ],
      "execution_count": 0,
      "outputs": []
    },
    {
      "cell_type": "code",
      "metadata": {
        "id": "vpW8ZZvnahrd",
        "colab_type": "code",
        "colab": {}
      },
      "source": [
        "col_lis = list(X_test.columns)"
      ],
      "execution_count": 0,
      "outputs": []
    },
    {
      "cell_type": "code",
      "metadata": {
        "id": "pRFgJPMaahrf",
        "colab_type": "code",
        "colab": {}
      },
      "source": [
        "fi = {i[0]:\"{0:.4f}\".format(i[1]) for i in list(zip(col_lis,imp_list))}"
      ],
      "execution_count": 0,
      "outputs": []
    },
    {
      "cell_type": "code",
      "metadata": {
        "id": "nBPE3Y36ahrh",
        "colab_type": "code",
        "outputId": "f9ce0594-972d-48b2-b60f-c95ddea198ab",
        "colab": {
          "base_uri": "https://localhost:8080/",
          "height": 245
        }
      },
      "source": [
        "fi"
      ],
      "execution_count": 0,
      "outputs": [
        {
          "output_type": "execute_result",
          "data": {
            "text/plain": [
              "{'C_t-1': '0.6631',\n",
              " 'C_t-2': '0.0470',\n",
              " 'C_t-3': '0.0084',\n",
              " 'Day': '0.0004',\n",
              " 'Month': '0.0002',\n",
              " 'O_t-1': '0.0732',\n",
              " 'O_t-2': '0.0117',\n",
              " 'O_t-3': '0.0003',\n",
              " 'Stock Trading': '0.0004',\n",
              " 'Volume': '0.0004',\n",
              " 'Year': '0.0000',\n",
              " 'max': '0.0000',\n",
              " 'mean': '0.0006',\n",
              " 'min': '0.0042'}"
            ]
          },
          "metadata": {
            "tags": []
          },
          "execution_count": 89
        }
      ]
    },
    {
      "cell_type": "markdown",
      "metadata": {
        "id": "o7Kn1PT2ahrk",
        "colab_type": "text"
      },
      "source": [
        "#### Measuring the Score. (Evaluation Metrics)"
      ]
    },
    {
      "cell_type": "code",
      "metadata": {
        "id": "BhLArz9pahrl",
        "colab_type": "code",
        "outputId": "ce8be89f-02cb-4813-b055-cc6780287942",
        "colab": {
          "base_uri": "https://localhost:8080/",
          "height": 66
        }
      },
      "source": [
        "from sklearn import metrics\n",
        "print('MAE:', metrics.mean_absolute_error(y_test, predict))\n",
        "print('MSE:', metrics.mean_squared_error(y_test, predict))\n",
        "print('RMSE:', np.sqrt(metrics.mean_squared_error(y_test, predict)))"
      ],
      "execution_count": 0,
      "outputs": [
        {
          "output_type": "stream",
          "text": [
            "MAE: 646.3967213114754\n",
            "MSE: 767356.731147541\n",
            "RMSE: 875.9890017274994\n"
          ],
          "name": "stdout"
        }
      ]
    },
    {
      "cell_type": "code",
      "metadata": {
        "id": "Ybkfbz3zahro",
        "colab_type": "code",
        "outputId": "85ec0c20-1627-4d2a-c31f-fcc9d6edb55f",
        "colab": {
          "base_uri": "https://localhost:8080/",
          "height": 33
        }
      },
      "source": [
        "from sklearn.model_selection import cross_val_score\n",
        "\n",
        "print(cross_val_score(model, X_test, y_test,cv=5))"
      ],
      "execution_count": 0,
      "outputs": [
        {
          "output_type": "stream",
          "text": [
            "[0.99406719 0.98846661 0.99312952 0.99045421 0.99165043]\n"
          ],
          "name": "stdout"
        }
      ]
    }
  ]
}