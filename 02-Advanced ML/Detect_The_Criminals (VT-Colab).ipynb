{
  "nbformat": 4,
  "nbformat_minor": 0,
  "metadata": {
    "colab": {
      "name": "Detect The Criminals.ipynb",
      "version": "0.3.2",
      "provenance": [],
      "collapsed_sections": []
    },
    "kernelspec": {
      "display_name": "Python 3",
      "language": "python",
      "name": "python3"
    }
  },
  "cells": [
    {
      "cell_type": "markdown",
      "metadata": {
        "id": "jrPuC4gOy0o-",
        "colab_type": "text"
      },
      "source": [
        "# Predict the Criminals"
      ]
    },
    {
      "cell_type": "markdown",
      "metadata": {
        "id": "fi-v3NSWy0o_",
        "colab_type": "text"
      },
      "source": [
        "## 01 : Frame the Problem"
      ]
    },
    {
      "cell_type": "markdown",
      "metadata": {
        "id": "DJwqE8Z7y0pA",
        "colab_type": "text"
      },
      "source": [
        "#### Problem Link:https://www.hackerearth.com/problem/machine-learning/predict-the-criminal/description/"
      ]
    },
    {
      "cell_type": "markdown",
      "metadata": {
        "id": "QRTQfLFty0pB",
        "colab_type": "text"
      },
      "source": [
        "There has been a surge in crimes committed in recent years, making crime a top cause of concern for law enforcement. If we are able to estimate whether someone is going to commit a crime in the future, we can take precautions and be prepared. You are given a dataset containing answers to various questions concerning the professional and private lives of several people. A few of them have been arrested for various small and large crimes in the past. Use the given data to predict if the people in the test data will commit a crime. The train data consists of 45718 rows, while the test data consists of 11430 rows.Given this, we have to predict whether a person is criminal or not."
      ]
    },
    {
      "cell_type": "markdown",
      "metadata": {
        "id": "2lYY3102y0pC",
        "colab_type": "text"
      },
      "source": [
        "### Importing the Libraries"
      ]
    },
    {
      "cell_type": "code",
      "metadata": {
        "id": "H61EBZgvy0pD",
        "colab_type": "code",
        "colab": {}
      },
      "source": [
        "import pandas as pd\n",
        "import numpy as np\n",
        "from sklearn import metrics\n",
        "from sklearn.model_selection import cross_validate  #to include metrics for evaluation\n",
        "from sklearn.model_selection import GridSearchCV #to use gridsearchcv\n",
        "from sklearn.model_selection import train_test_split\n",
        "import matplotlib.pylab as plt\n",
        "%matplotlib inline"
      ],
      "execution_count": 0,
      "outputs": []
    },
    {
      "cell_type": "markdown",
      "metadata": {
        "id": "sknHgWZQy0pI",
        "colab_type": "text"
      },
      "source": [
        "## 02 and 03 : Obtain Data and Analyse The Data"
      ]
    },
    {
      "cell_type": "code",
      "metadata": {
        "id": "fzVASp4_jCrd",
        "colab_type": "code",
        "colab": {}
      },
      "source": [
        "!wget https://www.dropbox.com/s/oyaehyvu7yx57pe/criminal_train.csv"
      ],
      "execution_count": 0,
      "outputs": []
    },
    {
      "cell_type": "code",
      "metadata": {
        "id": "dmOFyHcF00bR",
        "colab_type": "code",
        "colab": {}
      },
      "source": [
        "ls -l"
      ],
      "execution_count": 0,
      "outputs": []
    },
    {
      "cell_type": "code",
      "metadata": {
        "id": "gfmhfLvmy0pJ",
        "colab_type": "code",
        "colab": {}
      },
      "source": [
        "crim_data=pd.read_csv('criminal_train.csv')\n",
        "crim_data.head()"
      ],
      "execution_count": 0,
      "outputs": []
    },
    {
      "cell_type": "code",
      "metadata": {
        "id": "yQJYcrjpy0pN",
        "colab_type": "code",
        "colab": {}
      },
      "source": [
        "crim_data.info()"
      ],
      "execution_count": 0,
      "outputs": []
    },
    {
      "cell_type": "markdown",
      "metadata": {
        "id": "Za0jp-Npy0ps",
        "colab_type": "text"
      },
      "source": [
        "## 04 :  Prepare the Data"
      ]
    },
    {
      "cell_type": "code",
      "metadata": {
        "id": "1INgdQZMy0pt",
        "colab_type": "code",
        "colab": {}
      },
      "source": [
        "  #Splitting the data for testing and training"
      ],
      "execution_count": 0,
      "outputs": []
    },
    {
      "cell_type": "code",
      "metadata": {
        "id": "OduTMX_ay0py",
        "colab_type": "code",
        "colab": {}
      },
      "source": [
        "X_train, X_test, y_train, y_test = train_test_split(crim_data.drop('Criminal',axis=1), \n",
        "                                                    crim_data['Criminal'], test_size=0.30, \n",
        "                                                    random_state=101)"
      ],
      "execution_count": 0,
      "outputs": []
    },
    {
      "cell_type": "code",
      "metadata": {
        "id": "MhI4K6nby0p1",
        "colab_type": "code",
        "colab": {}
      },
      "source": [
        "train=pd.concat([X_train,y_train],axis=1)"
      ],
      "execution_count": 0,
      "outputs": []
    },
    {
      "cell_type": "code",
      "metadata": {
        "id": "Ejwbdo3ny0p8",
        "colab_type": "code",
        "colab": {}
      },
      "source": [
        "#function to estimate the best value of n_estimators and fit the model with the given data"
      ],
      "execution_count": 0,
      "outputs": []
    },
    {
      "cell_type": "code",
      "metadata": {
        "id": "XDrWVKRSy0p_",
        "colab_type": "code",
        "colab": {}
      },
      "source": [
        "def modelfit(alg, dtrain, predictors,useTrainCV=True, cv_folds=5, early_stopping_rounds=50):\n",
        "    \n",
        "    if useTrainCV:\n",
        "        #to get the parameters of xgboost\n",
        "        xgb_param = alg.get_xgb_params() \n",
        "        \n",
        "        #to convert into a datastructure internally used by xgboost for training efficiency \n",
        "        # and speed\n",
        "        xgtrain = xgb.DMatrix(dtrain[predictors].values, label=dtrain[target].values)\n",
        "        \n",
        "        #xgb.cv is used to find the number of estimators required for the parameters \n",
        "        # which are set\n",
        "        cvresult = xgb.cv(xgb_param, xgtrain, \n",
        "                          num_boost_round=alg.get_params()['n_estimators'], nfold=cv_folds,\n",
        "                        metrics='auc', early_stopping_rounds=early_stopping_rounds)\n",
        "        \n",
        "        #setting the n_estimators parameter using set_params\n",
        "        alg.set_params(n_estimators=cvresult.shape[0])\n",
        "        \n",
        "        print(alg.get_xgb_params())\n",
        "    \n",
        "    #Fit the algorithm on the data\n",
        "    alg.fit(dtrain[predictors], dtrain['Criminal'],eval_metric='auc')\n",
        "    \n",
        "    return alg"
      ],
      "execution_count": 0,
      "outputs": []
    },
    {
      "cell_type": "code",
      "metadata": {
        "id": "AsILrXIay0qC",
        "colab_type": "code",
        "colab": {}
      },
      "source": [
        "#function to get the accuracy of the model on the test data given the features considered"
      ],
      "execution_count": 0,
      "outputs": []
    },
    {
      "cell_type": "code",
      "metadata": {
        "id": "z9WG0lNYy0qF",
        "colab_type": "code",
        "colab": {}
      },
      "source": [
        "def get_accuracy(alg,predictors):\n",
        "    dtrain_predictions = alg.predict(X_test[predictors])\n",
        "    dtrain_predprob = alg.predict_proba(X_test[predictors])[:,1]\n",
        "    print (\"\\nModel Report\")\n",
        "    print (\"Accuracy : %.4g\" % metrics.accuracy_score(y_test.values, \n",
        "                                                      dtrain_predictions))\n",
        "    print (\"AUC Score (Train): %f\" % metrics.roc_auc_score(y_test.values, \n",
        "                                                           dtrain_predprob))"
      ],
      "execution_count": 0,
      "outputs": []
    },
    {
      "cell_type": "code",
      "metadata": {
        "id": "EBevLNUWy0qH",
        "colab_type": "code",
        "colab": {}
      },
      "source": [
        "#function to get the feature importances based on the model fit"
      ],
      "execution_count": 0,
      "outputs": []
    },
    {
      "cell_type": "code",
      "metadata": {
        "id": "AzV_bz3Hy0qK",
        "colab_type": "code",
        "colab": {}
      },
      "source": [
        "def get_feature_importances(alg):\n",
        "    #to get the feature importances based on xgboost we use fscore\n",
        "    feat_imp = pd.Series(alg._Booster.get_fscore()).sort_values(ascending=False)\n",
        "    print(feat_imp)\n",
        "    \n",
        "    #this shows the feature importances on a bar chart\n",
        "    feat_imp.plot(kind='bar', title='Feature Importances')\n",
        "    plt.ylabel('Feature Importance Score')"
      ],
      "execution_count": 0,
      "outputs": []
    },
    {
      "cell_type": "code",
      "metadata": {
        "id": "4-96Qa11y0qQ",
        "colab_type": "code",
        "colab": {}
      },
      "source": [
        "target = 'Criminal'\n",
        "IDcol = 'PERID'"
      ],
      "execution_count": 0,
      "outputs": []
    },
    {
      "cell_type": "markdown",
      "metadata": {
        "id": "xn7ABOQky0qV",
        "colab_type": "text"
      },
      "source": [
        "## 05 : Model Selection"
      ]
    },
    {
      "cell_type": "code",
      "metadata": {
        "id": "qtqV9eggy0qW",
        "colab_type": "code",
        "colab": {}
      },
      "source": [
        "#to return the XGBClassifier object based on the values of the features"
      ],
      "execution_count": 0,
      "outputs": []
    },
    {
      "cell_type": "code",
      "metadata": {
        "id": "9kBqFmhe0kWQ",
        "colab_type": "code",
        "colab": {}
      },
      "source": [
        "!pip install xgboost"
      ],
      "execution_count": 0,
      "outputs": []
    },
    {
      "cell_type": "code",
      "metadata": {
        "id": "swdjCkipy0qa",
        "colab_type": "code",
        "colab": {}
      },
      "source": [
        "def XgbClass(learning_rate =0.1,n_estimators=1000,max_depth=5,min_child_weight=1,\n",
        "             gamma=0,subsample=0.8,colsample_bytree=0.8):\n",
        "    xgb1 = XGBClassifier(learning_rate=learning_rate,\n",
        "                         n_estimators=n_estimators,\n",
        "                         max_depth=max_depth,\n",
        "                         min_child_weight=min_child_weight,\n",
        "                         gamma=gamma,\n",
        "                         subsample=subsample,\n",
        "                         colsample_bytree=colsample_bytree)\n",
        "    return xgb1"
      ],
      "execution_count": 0,
      "outputs": []
    },
    {
      "cell_type": "code",
      "metadata": {
        "id": "m837XZX5y0qd",
        "colab_type": "code",
        "colab": {}
      },
      "source": [
        "#Function to return the list of predictors"
      ],
      "execution_count": 0,
      "outputs": []
    },
    {
      "cell_type": "code",
      "metadata": {
        "id": "9dQWyI57y0qf",
        "colab_type": "code",
        "colab": {}
      },
      "source": [
        "#these are the initial parameters before tuning\n",
        "def drop_features(l):\n",
        "    return [x for x in train.columns if x not in l]"
      ],
      "execution_count": 0,
      "outputs": []
    },
    {
      "cell_type": "markdown",
      "metadata": {
        "id": "jgoA5DT7y0qj",
        "colab_type": "text"
      },
      "source": [
        "### First Prediction : Use of initial parameters and without feature engineering"
      ]
    },
    {
      "cell_type": "code",
      "metadata": {
        "id": "Qjz-FBOZ00Hn",
        "colab_type": "code",
        "colab": {}
      },
      "source": [
        "from xgboost import XGBClassifier\n",
        "import xgboost as xgb"
      ],
      "execution_count": 0,
      "outputs": []
    },
    {
      "cell_type": "code",
      "metadata": {
        "id": "yTNEx7Jfy0qj",
        "colab_type": "code",
        "colab": {}
      },
      "source": [
        "predictors = drop_features([target, IDcol])\n",
        "xgb1=XgbClass()\n",
        "first_model=modelfit(xgb1, train, predictors)\n",
        "xgb1.fit(train[predictors],train['Criminal'])"
      ],
      "execution_count": 0,
      "outputs": []
    },
    {
      "cell_type": "code",
      "metadata": {
        "id": "GpuBOp0Yy0qm",
        "colab_type": "code",
        "colab": {}
      },
      "source": [
        "get_accuracy(first_model,predictors)"
      ],
      "execution_count": 0,
      "outputs": []
    },
    {
      "cell_type": "code",
      "metadata": {
        "id": "LTOwEH9iy0qp",
        "colab_type": "code",
        "colab": {}
      },
      "source": [
        "get_feature_importances(first_model)"
      ],
      "execution_count": 0,
      "outputs": []
    },
    {
      "cell_type": "markdown",
      "metadata": {
        "id": "k7tki9U_y0qt",
        "colab_type": "text"
      },
      "source": [
        "### Second Prediction : Using intial Parameters and removing features of least importances"
      ]
    },
    {
      "cell_type": "code",
      "metadata": {
        "id": "e8ICSpTry0qt",
        "colab_type": "code",
        "colab": {}
      },
      "source": [
        "#model after removing the features of least importance"
      ],
      "execution_count": 0,
      "outputs": []
    },
    {
      "cell_type": "code",
      "metadata": {
        "id": "UwzYOgb7y0qx",
        "colab_type": "code",
        "colab": {}
      },
      "source": [
        "dropl=['IRWELMOS','MAIIN102','IIPINC3','HLTINNOS','IIHH65_2','TOOLONG']"
      ],
      "execution_count": 0,
      "outputs": []
    },
    {
      "cell_type": "code",
      "metadata": {
        "id": "2-MObariy0q0",
        "colab_type": "code",
        "colab": {}
      },
      "source": [
        "dropl_first=dropl+[target,IDcol]"
      ],
      "execution_count": 0,
      "outputs": []
    },
    {
      "cell_type": "code",
      "metadata": {
        "id": "VKroiJ2hy0q2",
        "colab_type": "code",
        "colab": {}
      },
      "source": [
        "#these are the initial parameters before tuning\n",
        "predictors = drop_features(dropl_first)\n",
        "xgb1 = XgbClass()\n",
        "second_model=modelfit(xgb1, train, predictors)"
      ],
      "execution_count": 0,
      "outputs": []
    },
    {
      "cell_type": "code",
      "metadata": {
        "id": "0ny8g14-y0q5",
        "colab_type": "code",
        "colab": {}
      },
      "source": [
        "get_accuracy(second_model,predictors)"
      ],
      "execution_count": 0,
      "outputs": []
    },
    {
      "cell_type": "code",
      "metadata": {
        "id": "-qIp7Hsey0q8",
        "colab_type": "code",
        "colab": {}
      },
      "source": [
        "get_feature_importances(second_model)"
      ],
      "execution_count": 0,
      "outputs": []
    },
    {
      "cell_type": "markdown",
      "metadata": {
        "id": "YXh08Urby0q-",
        "colab_type": "text"
      },
      "source": [
        "### Third Prediction : Again removing the features of least importance"
      ]
    },
    {
      "cell_type": "code",
      "metadata": {
        "id": "luJXI3key0q-",
        "colab_type": "code",
        "colab": {}
      },
      "source": [
        "dropl1=dropl+['IRMCDCHP','HLCLAST','IIKI17_2','IRFAMPMT','IRFSTAMP','ANYHLTI2','IIFAMSVC']\n",
        "dropl_second=dropl_first+['IRMCDCHP','HLCLAST','IIKI17_2','IRFAMPMT','IRFSTAMP','ANYHLTI2',\n",
        "                          'IIFAMSVC']"
      ],
      "execution_count": 0,
      "outputs": []
    },
    {
      "cell_type": "code",
      "metadata": {
        "id": "mOO6UZLsy0rB",
        "colab_type": "code",
        "colab": {}
      },
      "source": [
        "predictors=drop_features(dropl_second)"
      ],
      "execution_count": 0,
      "outputs": []
    },
    {
      "cell_type": "code",
      "metadata": {
        "id": "U5g3UZTFy0rD",
        "colab_type": "code",
        "colab": {}
      },
      "source": [
        "xgb1=XgbClass()\n",
        "third_model1=modelfit(xgb1,train,predictors)"
      ],
      "execution_count": 0,
      "outputs": []
    },
    {
      "cell_type": "code",
      "metadata": {
        "id": "HRB8Q3wWy0rG",
        "colab_type": "code",
        "colab": {}
      },
      "source": [
        "get_accuracy(third_model1,predictors)"
      ],
      "execution_count": 0,
      "outputs": []
    },
    {
      "cell_type": "markdown",
      "metadata": {
        "id": "BBMTnnlPy0rO",
        "colab_type": "text"
      },
      "source": [
        "## 06 : Predict on New Cases"
      ]
    },
    {
      "cell_type": "code",
      "metadata": {
        "id": "t21bqh6_y0rQ",
        "colab_type": "code",
        "colab": {}
      },
      "source": [
        "#Function stores the result in required csv file and features"
      ],
      "execution_count": 0,
      "outputs": []
    },
    {
      "cell_type": "code",
      "metadata": {
        "id": "hSnlGqChjKni",
        "colab_type": "code",
        "colab": {}
      },
      "source": [
        "!wget https://www.dropbox.com/s/1jbq922kv3mwi4r/criminal_test.csv"
      ],
      "execution_count": 0,
      "outputs": []
    },
    {
      "cell_type": "code",
      "metadata": {
        "id": "dCiT4cBYy0rW",
        "colab_type": "code",
        "colab": {}
      },
      "source": [
        "def RunTestAndSaveResults(features,filename,model):\n",
        "    df1=pd.read_csv('criminal_test.csv')\n",
        "    for i in features:\n",
        "        df1.drop(i,axis=1,inplace=True)\n",
        "    predict=model.predict(df1.drop('PERID',axis=1))\n",
        "    data=pd.DataFrame(df1['PERID'],columns=['PERID'])\n",
        "    data['Criminal']=predict\n",
        "    data.to_csv(filename,index=False)"
      ],
      "execution_count": 0,
      "outputs": []
    },
    {
      "cell_type": "code",
      "metadata": {
        "id": "DvepECzIy0rZ",
        "colab_type": "code",
        "colab": {}
      },
      "source": [
        "RunTestAndSaveResults([],'result.csv',first_model)"
      ],
      "execution_count": 0,
      "outputs": []
    },
    {
      "cell_type": "code",
      "metadata": {
        "id": "720fwp1ly0rc",
        "colab_type": "code",
        "colab": {}
      },
      "source": [
        "#This model is giving high accurancy since we applied feature engineering"
      ],
      "execution_count": 0,
      "outputs": []
    },
    {
      "cell_type": "code",
      "metadata": {
        "id": "X_UxJsday0re",
        "colab_type": "code",
        "colab": {}
      },
      "source": [
        "\n",
        "dropl"
      ],
      "execution_count": 0,
      "outputs": []
    },
    {
      "cell_type": "code",
      "metadata": {
        "id": "JOh73xXqy0rh",
        "colab_type": "code",
        "colab": {}
      },
      "source": [
        "RunTestAndSaveResults(dropl,'result2.csv',second_model)"
      ],
      "execution_count": 0,
      "outputs": []
    },
    {
      "cell_type": "code",
      "metadata": {
        "id": "PedLBhLvy0rl",
        "colab_type": "code",
        "colab": {}
      },
      "source": [
        "#When the features are repeated again and again then overfitting takes place and the accuracy decrease"
      ],
      "execution_count": 0,
      "outputs": []
    },
    {
      "cell_type": "code",
      "metadata": {
        "id": "BuohDw-7y0ro",
        "colab_type": "code",
        "colab": {}
      },
      "source": [
        "RunTestAndSaveResults(dropl1,'result3.csv',third_model1)"
      ],
      "execution_count": 0,
      "outputs": []
    },
    {
      "cell_type": "markdown",
      "metadata": {
        "id": "Alep7Q3Ky0rr",
        "colab_type": "text"
      },
      "source": [
        "## 07 : Tuning"
      ]
    },
    {
      "cell_type": "code",
      "metadata": {
        "id": "jyqfjclly0ru",
        "colab_type": "code",
        "colab": {}
      },
      "source": [
        "#tune max_depth and min_child_weight"
      ],
      "execution_count": 0,
      "outputs": []
    },
    {
      "cell_type": "code",
      "metadata": {
        "id": "3j-9y92iy0ry",
        "colab_type": "code",
        "colab": {}
      },
      "source": [
        "predictors = drop_features(dropl_first)\n",
        "predictors"
      ],
      "execution_count": 0,
      "outputs": []
    },
    {
      "cell_type": "code",
      "metadata": {
        "id": "6L3sYX43y0r2",
        "colab_type": "code",
        "colab": {}
      },
      "source": [
        "param_test1 = {\n",
        " 'max_depth':list(range(5,10,1)),\n",
        " 'min_child_weight':list(range(5,10,1))\n",
        "}\n",
        "gsearch1 = GridSearchCV(estimator=XgbClass(n_estimators=48),param_grid =param_test1,\n",
        "                        scoring='roc_auc',n_jobs=-1,iid=False, cv=5, verbose=3)\n",
        "gsearch1.fit(train[predictors],train[target])\n",
        "gsearch1.grid_scores_, gsearch1.best_params_, gsearch1.best_score_"
      ],
      "execution_count": 0,
      "outputs": []
    },
    {
      "cell_type": "code",
      "metadata": {
        "id": "3vc7mUGry0r6",
        "colab_type": "code",
        "colab": {}
      },
      "source": [
        "#if the best parameters are edge values then we do \n",
        "#gridsearchcv by taking one less and one value more than the best parameters"
      ],
      "execution_count": 0,
      "outputs": []
    },
    {
      "cell_type": "code",
      "metadata": {
        "id": "3ToEbGG2y0sF",
        "colab_type": "code",
        "colab": {}
      },
      "source": [
        "param_test2 = {\n",
        " 'max_depth':[6,7,8,9],\n",
        " 'min_child_weight':[2,3,4,5]\n",
        "}\n",
        "gsearch2 = GridSearchCV(estimator=XgbClass(n_estimators=48),param_grid =param_test2,scoring='roc_auc',n_jobs=-1,iid=False, cv=5)\n",
        "gsearch2.fit(train[predictors],train[target])\n",
        "gsearch2.grid_scores_, gsearch2.best_params_, gsearch2.best_score_"
      ],
      "execution_count": 0,
      "outputs": []
    },
    {
      "cell_type": "code",
      "metadata": {
        "id": "eBhirbgNy0sK",
        "colab_type": "code",
        "colab": {}
      },
      "source": [
        "xgb1 = XgbClass(max_depth=8,min_child_weight=4)\n",
        "model=modelfit(xgb1, train, predictors)"
      ],
      "execution_count": 0,
      "outputs": []
    },
    {
      "cell_type": "code",
      "metadata": {
        "id": "2AHAD8Lhy0sM",
        "colab_type": "code",
        "colab": {}
      },
      "source": [
        "get_accuracy(model,predictors)"
      ],
      "execution_count": 0,
      "outputs": []
    },
    {
      "cell_type": "code",
      "metadata": {
        "id": "U6Yk0ZKWy0sO",
        "colab_type": "code",
        "colab": {}
      },
      "source": [
        "#to tune gamma"
      ],
      "execution_count": 0,
      "outputs": []
    },
    {
      "cell_type": "code",
      "metadata": {
        "id": "15q5_HFVy0sT",
        "colab_type": "code",
        "colab": {}
      },
      "source": [
        "param_test3 = {\n",
        " 'gamma':[i/10.0 for i in range(0,8)]\n",
        "}\n",
        "gsearch3=GridSearchCV(estimator=XgbClass(n_estimators=48,max_depth=7,min_child_weight=5),\n",
        "                      param_grid =param_test3,scoring='roc_auc',n_jobs=-1,iid=False, cv=5)\n",
        "gsearch3.fit(train[predictors],train[target])\n",
        "gsearch3.grid_scores_, gsearch3.best_params_, gsearch3.best_score_"
      ],
      "execution_count": 0,
      "outputs": []
    },
    {
      "cell_type": "code",
      "metadata": {
        "id": "OU1BTcThy0sW",
        "colab_type": "code",
        "colab": {}
      },
      "source": [
        "xgb1 = XgbClass(max_depth=7,min_child_weight=5,gamma=0)\n",
        "model=modelfit(xgb1, train, predictors)"
      ],
      "execution_count": 0,
      "outputs": []
    },
    {
      "cell_type": "code",
      "metadata": {
        "id": "3gsJhBfAy0sb",
        "colab_type": "code",
        "colab": {}
      },
      "source": [
        "get_accuracy(model,predictors)"
      ],
      "execution_count": 0,
      "outputs": []
    },
    {
      "cell_type": "code",
      "metadata": {
        "id": "cyFX2Zovy0sb",
        "colab_type": "code",
        "colab": {}
      },
      "source": [
        "param_test4 = {\n",
        " 'subsample':[i/10.0 for i in range(6,10)],\n",
        " 'colsample_bytree':[i/10.0 for i in range(6,10)]\n",
        "}\n",
        "gsearch4=GridSearchCV(estimator=XgbClass(n_estimators=48,max_depth=7,\n",
        "                                         min_child_weight=5,gamma=0),\n",
        "                      param_grid =param_test4,scoring='roc_auc',n_jobs=-1,iid=False, cv=5)\n",
        "gsearch4.fit(train[predictors],train[target])\n",
        "gsearch4.grid_scores_, gsearch4.best_params_, gsearch4.best_score_"
      ],
      "execution_count": 0,
      "outputs": []
    },
    {
      "cell_type": "code",
      "metadata": {
        "id": "WMPJK63Fy0sf",
        "colab_type": "code",
        "colab": {}
      },
      "source": [
        "xgb1 = XgbClass(max_depth=8,min_child_weight=4,gamma=0.4,subsample=0.8,colsample_bytree=0.6)\n",
        "model=modelfit(xgb1, train, predictors)"
      ],
      "execution_count": 0,
      "outputs": []
    },
    {
      "cell_type": "code",
      "metadata": {
        "id": "Vj-WHMJ9y0sg",
        "colab_type": "code",
        "colab": {}
      },
      "source": [
        "get_accuracy(model,predictors)"
      ],
      "execution_count": 0,
      "outputs": []
    },
    {
      "cell_type": "code",
      "metadata": {
        "id": "2hsrfoIXy0sj",
        "colab_type": "code",
        "colab": {}
      },
      "source": [
        "#dropl = dropl + ['HLCLAST', 'IIFAMSVC', 'IIKI17_2', 'ANYHLTI2', 'IRFAMPMT', 'IRFSTAMP', 'IRMCDCHP']\n",
        "RunTestAndSaveResults(dropl,'final_result.csv',model)"
      ],
      "execution_count": 0,
      "outputs": []
    },
    {
      "cell_type": "code",
      "metadata": {
        "id": "RDfFjAc2KCVs",
        "colab_type": "code",
        "colab": {}
      },
      "source": [
        "ls -l"
      ],
      "execution_count": 0,
      "outputs": []
    },
    {
      "cell_type": "code",
      "metadata": {
        "id": "TzVGMzWUKDau",
        "colab_type": "code",
        "colab": {}
      },
      "source": [
        ""
      ],
      "execution_count": 0,
      "outputs": []
    }
  ]
}