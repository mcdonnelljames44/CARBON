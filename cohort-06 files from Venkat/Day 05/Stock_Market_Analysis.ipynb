{
  "nbformat": 4,
  "nbformat_minor": 0,
  "metadata": {
    "colab": {
      "name": "Stock_Market_Analysis.ipynb",
      "version": "0.3.2",
      "provenance": [],
      "collapsed_sections": [
        "IBYhH4Z_ahnc",
        "6qd-snl-aho7",
        "uQnpofgmahqb"
      ]
    },
    "kernelspec": {
      "display_name": "Python 3",
      "language": "python",
      "name": "python3"
    }
  },
  "cells": [
    {
      "cell_type": "markdown",
      "metadata": {
        "id": "fhDw1wWQahmQ",
        "colab_type": "text"
      },
      "source": [
        "# Stock Market Analysis"
      ]
    },
    {
      "cell_type": "markdown",
      "metadata": {
        "id": "7I4MQuX5ahmT",
        "colab_type": "text"
      },
      "source": [
        "### Problem Link : https://www.kaggle.com/daiearth22/uniqlo-fastretailing-stock-price-prediction/data"
      ]
    },
    {
      "cell_type": "markdown",
      "metadata": {
        "id": "YWeuxfbmahmU",
        "colab_type": "text"
      },
      "source": [
        "#### Necessary Import Statements"
      ]
    },
    {
      "cell_type": "code",
      "metadata": {
        "id": "qX2NpITuahmV",
        "colab_type": "code",
        "colab": {}
      },
      "source": [
        "import pandas as pd\n",
        "import numpy as np\n",
        "%matplotlib inline\n",
        "from matplotlib import pyplot as plt\n",
        "from pandas import Series\n",
        "from pandas import DataFrame\n",
        "from pandas import concat\n",
        "\n",
        "# Train test split\n",
        "from sklearn.model_selection import TimeSeriesSplit\n",
        "\n",
        "\n",
        "# Models\n",
        "from sklearn.svm import LinearSVC\n",
        "from sklearn.ensemble import RandomForestRegressor\n",
        "\n",
        "# Model evaluators\n",
        "from sklearn.metrics import f1_score,confusion_matrix"
      ],
      "execution_count": 0,
      "outputs": []
    },
    {
      "cell_type": "markdown",
      "metadata": {
        "id": "c6QtwVDVahmd",
        "colab_type": "text"
      },
      "source": [
        "### Reading the Train Data"
      ]
    },
    {
      "cell_type": "code",
      "metadata": {
        "id": "we2fw9bubBIO",
        "colab_type": "code",
        "colab": {}
      },
      "source": [
        "!wget https://www.dropbox.com/s/22nfk89c8hshxhs/Train.csv"
      ],
      "execution_count": 0,
      "outputs": []
    },
    {
      "cell_type": "code",
      "metadata": {
        "id": "25EZyfbOahme",
        "colab_type": "code",
        "colab": {}
      },
      "source": [
        "train = pd.read_csv(\"Train.csv\")\n",
        "train.info()"
      ],
      "execution_count": 0,
      "outputs": []
    },
    {
      "cell_type": "code",
      "metadata": {
        "id": "D7YJ-kQ8ahmm",
        "colab_type": "code",
        "colab": {}
      },
      "source": [
        "train.head()"
      ],
      "execution_count": 0,
      "outputs": []
    },
    {
      "cell_type": "code",
      "metadata": {
        "id": "pIG9UsEwekfr",
        "colab_type": "code",
        "colab": {}
      },
      "source": [
        ""
      ],
      "execution_count": 0,
      "outputs": []
    },
    {
      "cell_type": "code",
      "metadata": {
        "id": "5FKyklJKjI6w",
        "colab_type": "code",
        "colab": {}
      },
      "source": [
        "train['Avg'] = train['Stock Trading'] / train['Volume']"
      ],
      "execution_count": 0,
      "outputs": []
    },
    {
      "cell_type": "code",
      "metadata": {
        "id": "U5v_zhPyIeVx",
        "colab_type": "code",
        "colab": {}
      },
      "source": [
        "train.head()"
      ],
      "execution_count": 0,
      "outputs": []
    },
    {
      "cell_type": "code",
      "metadata": {
        "id": "ya24lEaEahms",
        "colab_type": "code",
        "colab": {}
      },
      "source": [
        "train.describe()"
      ],
      "execution_count": 0,
      "outputs": []
    },
    {
      "cell_type": "code",
      "metadata": {
        "id": "HMfCJhBPahmy",
        "colab_type": "code",
        "colab": {}
      },
      "source": [
        "train.head()"
      ],
      "execution_count": 0,
      "outputs": []
    },
    {
      "cell_type": "code",
      "metadata": {
        "id": "ywlVAdDMkRU3",
        "colab_type": "code",
        "colab": {}
      },
      "source": [
        "train.tail()"
      ],
      "execution_count": 0,
      "outputs": []
    },
    {
      "cell_type": "code",
      "metadata": {
        "id": "L0Kpnf09ahm6",
        "colab_type": "code",
        "colab": {}
      },
      "source": [
        "train['Open'].plot(color='k')"
      ],
      "execution_count": 0,
      "outputs": []
    },
    {
      "cell_type": "code",
      "metadata": {
        "id": "eOUJqOlNahnA",
        "colab_type": "code",
        "colab": {}
      },
      "source": [
        " train.head()"
      ],
      "execution_count": 0,
      "outputs": []
    },
    {
      "cell_type": "markdown",
      "metadata": {
        "id": "t1n36SKaahnH",
        "colab_type": "text"
      },
      "source": [
        "Seperating the DateTime field to data, month and year into different columns."
      ]
    },
    {
      "cell_type": "code",
      "metadata": {
        "id": "LoLdRMarahnI",
        "colab_type": "code",
        "colab": {}
      },
      "source": [
        "train['Year'] = pd.DatetimeIndex(train['Date']).year\n",
        "train['Month'] = pd.DatetimeIndex(train['Date']).month\n",
        "train['Day'] = pd.DatetimeIndex(train['Date']).day"
      ],
      "execution_count": 0,
      "outputs": []
    },
    {
      "cell_type": "code",
      "metadata": {
        "id": "5GCYHdZ4ahnN",
        "colab_type": "code",
        "colab": {}
      },
      "source": [
        "train.head()"
      ],
      "execution_count": 0,
      "outputs": []
    },
    {
      "cell_type": "markdown",
      "metadata": {
        "id": "2aZcT9O7ahnT",
        "colab_type": "text"
      },
      "source": [
        "Function for dropping of unnecesary features or redundant features"
      ]
    },
    {
      "cell_type": "code",
      "metadata": {
        "id": "Y0U1HvkQahnT",
        "colab_type": "code",
        "colab": {}
      },
      "source": [
        "def drop_features(features,data):\n",
        "    data.drop(features,inplace=True,axis=1)"
      ],
      "execution_count": 0,
      "outputs": []
    },
    {
      "cell_type": "code",
      "metadata": {
        "id": "_lE5WE1EahnY",
        "colab_type": "code",
        "colab": {}
      },
      "source": [
        "drop_features(['Date'],train)"
      ],
      "execution_count": 0,
      "outputs": []
    },
    {
      "cell_type": "code",
      "metadata": {
        "id": "Tj_Hz7o2h5pa",
        "colab_type": "code",
        "colab": {}
      },
      "source": [
        "train.info()"
      ],
      "execution_count": 0,
      "outputs": []
    },
    {
      "cell_type": "markdown",
      "metadata": {
        "id": "IBYhH4Z_ahnc",
        "colab_type": "text"
      },
      "source": [
        "### Applying the TimeSeries Feature Engineering\n",
        "#### Lag Features"
      ]
    },
    {
      "cell_type": "code",
      "metadata": {
        "id": "Q6dQsR-Pahne",
        "colab_type": "code",
        "colab": {}
      },
      "source": [
        "train.info()"
      ],
      "execution_count": 0,
      "outputs": []
    },
    {
      "cell_type": "code",
      "metadata": {
        "id": "5zjNhjLTahnm",
        "colab_type": "code",
        "colab": {}
      },
      "source": [
        "open_vals = Series(train['Open'])"
      ],
      "execution_count": 0,
      "outputs": []
    },
    {
      "cell_type": "code",
      "metadata": {
        "id": "RiSVvGW9ahnp",
        "colab_type": "code",
        "colab": {}
      },
      "source": [
        "open_vals.head()"
      ],
      "execution_count": 0,
      "outputs": []
    },
    {
      "cell_type": "code",
      "metadata": {
        "id": "EhLrlfWOahnt",
        "colab_type": "code",
        "colab": {}
      },
      "source": [
        "open_vals.shift(-1).head()"
      ],
      "execution_count": 0,
      "outputs": []
    },
    {
      "cell_type": "code",
      "metadata": {
        "id": "lvkVZvyYSk6a",
        "colab_type": "code",
        "colab": {}
      },
      "source": [
        "open_vals.shift(-1).tail()"
      ],
      "execution_count": 0,
      "outputs": []
    },
    {
      "cell_type": "code",
      "metadata": {
        "id": "kw1F8DtZahn1",
        "colab_type": "code",
        "colab": {}
      },
      "source": [
        "#Applying Lag Features to Opening Price\n",
        "open1 = train['Open']\n",
        "open_dataframe = concat([open1.shift(-3), open1.shift(-2), open1.shift(-1)], axis=1)\n",
        "open_dataframe.columns = ['O_t-3', 'O_t-2', 'O_t-1']\n",
        "open_dataframe.shape"
      ],
      "execution_count": 0,
      "outputs": []
    },
    {
      "cell_type": "code",
      "metadata": {
        "id": "qRQxFeKYahn5",
        "colab_type": "code",
        "colab": {}
      },
      "source": [
        "open_dataframe.head()"
      ],
      "execution_count": 0,
      "outputs": []
    },
    {
      "cell_type": "code",
      "metadata": {
        "id": "7hevx1eTahoC",
        "colab_type": "code",
        "colab": {}
      },
      "source": [
        "#combining the train data and the lag features of Temp\n",
        "train1 = pd.concat([train, open_dataframe], axis=1)"
      ],
      "execution_count": 0,
      "outputs": []
    },
    {
      "cell_type": "code",
      "metadata": {
        "id": "aIa9We5MahoG",
        "colab_type": "code",
        "colab": {}
      },
      "source": [
        "train1.head()"
      ],
      "execution_count": 0,
      "outputs": []
    },
    {
      "cell_type": "code",
      "metadata": {
        "id": "k_9TMktUahoK",
        "colab_type": "code",
        "colab": {}
      },
      "source": [
        "train1.tail()"
      ],
      "execution_count": 0,
      "outputs": []
    },
    {
      "cell_type": "code",
      "metadata": {
        "id": "QfZKFcyTahoP",
        "colab_type": "code",
        "colab": {}
      },
      "source": [
        "#Applying Lag Features to Opening Price\n",
        "close_vals = Series(train['Close'])\n",
        "close_dataframe = concat([close_vals.shift(-3), close_vals.shift(-2), close_vals.shift(-1)], axis=1)\n",
        "close_dataframe.columns = ['C_t-3', 'C_t-2', 'C_t-1']\n",
        "close_dataframe.shape"
      ],
      "execution_count": 0,
      "outputs": []
    },
    {
      "cell_type": "code",
      "metadata": {
        "id": "Q6NQqZc1ahoU",
        "colab_type": "code",
        "colab": {}
      },
      "source": [
        "#combining the train data and the lag features of Temp\n",
        "train1 = pd.concat([train1, close_dataframe], axis=1)"
      ],
      "execution_count": 0,
      "outputs": []
    },
    {
      "cell_type": "code",
      "metadata": {
        "id": "2h8K9XzNahoZ",
        "colab_type": "code",
        "colab": {}
      },
      "source": [
        "train1.head()"
      ],
      "execution_count": 0,
      "outputs": []
    },
    {
      "cell_type": "code",
      "metadata": {
        "id": "FO_NXWsxahof",
        "colab_type": "code",
        "colab": {}
      },
      "source": [
        "train1.tail()"
      ],
      "execution_count": 0,
      "outputs": []
    },
    {
      "cell_type": "code",
      "metadata": {
        "id": "OKfcy5nPahom",
        "colab_type": "code",
        "colab": {}
      },
      "source": [
        "#dropping null value rows\n",
        "train1.dropna(inplace = True)"
      ],
      "execution_count": 0,
      "outputs": []
    },
    {
      "cell_type": "code",
      "metadata": {
        "id": "BWuPud-Uahoq",
        "colab_type": "code",
        "colab": {}
      },
      "source": [
        "train1.tail()"
      ],
      "execution_count": 0,
      "outputs": []
    },
    {
      "cell_type": "code",
      "metadata": {
        "id": "3wX29PRYahox",
        "colab_type": "code",
        "colab": {}
      },
      "source": [
        "train1.shape"
      ],
      "execution_count": 0,
      "outputs": []
    },
    {
      "cell_type": "code",
      "metadata": {
        "id": "xI9P1pGXaho2",
        "colab_type": "code",
        "colab": {}
      },
      "source": [
        "#since for combining of data, both should have same number of rows. hence, removing the extra row\n",
        "#train1.drop(train1.head(1).index, inplace=True)\n",
        "#train1.shape"
      ],
      "execution_count": 0,
      "outputs": []
    },
    {
      "cell_type": "markdown",
      "metadata": {
        "id": "6qd-snl-aho7",
        "colab_type": "text"
      },
      "source": [
        "#### Rolling Window Statistics"
      ]
    },
    {
      "cell_type": "code",
      "metadata": {
        "id": "RqIfpA4-aho8",
        "colab_type": "code",
        "colab": {}
      },
      "source": [
        "# Appling window Features for the Highest Value Feature\n",
        "high = train['High']\n",
        "w = 5"
      ],
      "execution_count": 0,
      "outputs": []
    },
    {
      "cell_type": "code",
      "metadata": {
        "id": "WSw8TSvZaho_",
        "colab_type": "code",
        "colab": {}
      },
      "source": [
        "shift = high.shift(-w+1)"
      ],
      "execution_count": 0,
      "outputs": []
    },
    {
      "cell_type": "code",
      "metadata": {
        "id": "8XrjJWg2ahpC",
        "colab_type": "code",
        "colab": {}
      },
      "source": [
        "train['High'].head(8)"
      ],
      "execution_count": 0,
      "outputs": []
    },
    {
      "cell_type": "code",
      "metadata": {
        "id": "ZqBBuff4ahpI",
        "colab_type": "code",
        "colab": {}
      },
      "source": [
        "shift.head(8)"
      ],
      "execution_count": 0,
      "outputs": []
    },
    {
      "cell_type": "code",
      "metadata": {
        "id": "nzrqQ1ODtkok",
        "colab_type": "code",
        "colab": {}
      },
      "source": [
        "shift.head()"
      ],
      "execution_count": 0,
      "outputs": []
    },
    {
      "cell_type": "code",
      "metadata": {
        "id": "SQvR97TOahpN",
        "colab_type": "code",
        "colab": {}
      },
      "source": [
        "window = shift.rolling(window=w)"
      ],
      "execution_count": 0,
      "outputs": []
    },
    {
      "cell_type": "code",
      "metadata": {
        "id": "0xiTLbg6ahpQ",
        "colab_type": "code",
        "colab": {}
      },
      "source": [
        "type(window)"
      ],
      "execution_count": 0,
      "outputs": []
    },
    {
      "cell_type": "code",
      "metadata": {
        "id": "FXsw5JZ_ahpX",
        "colab_type": "code",
        "colab": {}
      },
      "source": [
        "window.min().head()"
      ],
      "execution_count": 0,
      "outputs": []
    },
    {
      "cell_type": "code",
      "metadata": {
        "id": "xLoV1HecrwNt",
        "colab_type": "code",
        "colab": {}
      },
      "source": [
        "window.min()"
      ],
      "execution_count": 0,
      "outputs": []
    },
    {
      "cell_type": "code",
      "metadata": {
        "id": "o5DYRmdFahpd",
        "colab_type": "code",
        "colab": {}
      },
      "source": [
        "window.min().tail(50)"
      ],
      "execution_count": 0,
      "outputs": []
    },
    {
      "cell_type": "code",
      "metadata": {
        "id": "6UybUnFmahpn",
        "colab_type": "code",
        "colab": {}
      },
      "source": [
        "df = concat([window.min(), window.mean(), window.max()], axis=1)\n",
        "df.columns = ['min', 'mean', 'max']"
      ],
      "execution_count": 0,
      "outputs": []
    },
    {
      "cell_type": "code",
      "metadata": {
        "id": "SmG2795cahpu",
        "colab_type": "code",
        "colab": {}
      },
      "source": [
        ""
      ],
      "execution_count": 0,
      "outputs": []
    },
    {
      "cell_type": "code",
      "metadata": {
        "id": "-SfMDjuYahp0",
        "colab_type": "code",
        "colab": {}
      },
      "source": [
        "df.head(10)"
      ],
      "execution_count": 0,
      "outputs": []
    },
    {
      "cell_type": "code",
      "metadata": {
        "id": "l6zVIGxjahqH",
        "colab_type": "code",
        "colab": {}
      },
      "source": [
        ""
      ],
      "execution_count": 0,
      "outputs": []
    },
    {
      "cell_type": "code",
      "metadata": {
        "id": "Cn-gZOzUahqN",
        "colab_type": "code",
        "colab": {}
      },
      "source": [
        "#combining the train1 and the rolling window features\n",
        "train2 = pd.concat([train1, df], axis=1)"
      ],
      "execution_count": 0,
      "outputs": []
    },
    {
      "cell_type": "code",
      "metadata": {
        "id": "vb40eDY5ahqT",
        "colab_type": "code",
        "colab": {}
      },
      "source": [
        "train2.head()"
      ],
      "execution_count": 0,
      "outputs": []
    },
    {
      "cell_type": "code",
      "metadata": {
        "id": "LDCvAKydahqX",
        "colab_type": "code",
        "colab": {}
      },
      "source": [
        "train2.tail()"
      ],
      "execution_count": 0,
      "outputs": []
    },
    {
      "cell_type": "markdown",
      "metadata": {
        "id": "uQnpofgmahqb",
        "colab_type": "text"
      },
      "source": [
        "#### Expanding window Statistics"
      ]
    },
    {
      "cell_type": "code",
      "metadata": {
        "id": "NjIe4u9-ahqb",
        "colab_type": "code",
        "colab": {}
      },
      "source": [
        "train2.dropna(inplace=True)"
      ],
      "execution_count": 0,
      "outputs": []
    },
    {
      "cell_type": "code",
      "metadata": {
        "id": "WUgIkpEwokhp",
        "colab_type": "code",
        "colab": {}
      },
      "source": [
        "train2.head()"
      ],
      "execution_count": 0,
      "outputs": []
    },
    {
      "cell_type": "code",
      "metadata": {
        "id": "pDvd4wCWahqd",
        "colab_type": "code",
        "colab": {}
      },
      "source": [
        "#Applying Expanding window for the Lowest Value\n",
        "low= train['Low']\n",
        "window = low.expanding(5)\n",
        "dfc = concat([window.min(), window.mean(), window.max()], axis=1)\n",
        "dfc.columns = ['min', 'mean', 'max']"
      ],
      "execution_count": 0,
      "outputs": []
    },
    {
      "cell_type": "code",
      "metadata": {
        "id": "_pkW27t-ahqg",
        "colab_type": "code",
        "colab": {}
      },
      "source": [
        "#no null values\n",
        "dfc.shape"
      ],
      "execution_count": 0,
      "outputs": []
    },
    {
      "cell_type": "code",
      "metadata": {
        "id": "8EhOaqlQahqj",
        "colab_type": "code",
        "colab": {}
      },
      "source": [
        "#to make it equal to the train2, dropping forst 4 values\n",
        "#dfc.drop(dfc.head(4).index, inplace=True)"
      ],
      "execution_count": 0,
      "outputs": []
    },
    {
      "cell_type": "code",
      "metadata": {
        "id": "CLAM7rRnahqo",
        "colab_type": "code",
        "colab": {}
      },
      "source": [
        "dfc.shape"
      ],
      "execution_count": 0,
      "outputs": []
    },
    {
      "cell_type": "code",
      "metadata": {
        "id": "r2Q6i96Lahqt",
        "colab_type": "code",
        "colab": {}
      },
      "source": [
        "#concating the expanding window features to the previous train2.\n",
        "train_final = pd.concat([train2, dfc], axis=1)"
      ],
      "execution_count": 0,
      "outputs": []
    },
    {
      "cell_type": "code",
      "metadata": {
        "id": "2TH0BsObahqw",
        "colab_type": "code",
        "colab": {}
      },
      "source": [
        "train_final.tail()"
      ],
      "execution_count": 0,
      "outputs": []
    },
    {
      "cell_type": "code",
      "metadata": {
        "id": "EeXNY_Lgahqz",
        "colab_type": "code",
        "colab": {}
      },
      "source": [
        "#Replacing the null values with -1 if any.\n",
        "train_final.dropna(inplace = True)"
      ],
      "execution_count": 0,
      "outputs": []
    },
    {
      "cell_type": "code",
      "metadata": {
        "id": "XZtNllkwahq3",
        "colab_type": "code",
        "colab": {}
      },
      "source": [
        "#Complete final Train Data\n",
        "train_final.shape"
      ],
      "execution_count": 0,
      "outputs": []
    },
    {
      "cell_type": "code",
      "metadata": {
        "id": "m8EIYYN8ahq9",
        "colab_type": "code",
        "colab": {}
      },
      "source": [
        "train_final.drop('High',axis=1,inplace=True)\n",
        "train_final.drop('Low',axis=1,inplace=True)\n",
        "train_final.drop('Open',axis=1,inplace=True)"
      ],
      "execution_count": 0,
      "outputs": []
    },
    {
      "cell_type": "markdown",
      "metadata": {
        "id": "gGclqSZqahq_",
        "colab_type": "text"
      },
      "source": [
        "### Splitting of Data"
      ]
    },
    {
      "cell_type": "code",
      "metadata": {
        "id": "fU9AmcE-ahrA",
        "colab_type": "code",
        "colab": {}
      },
      "source": [
        "from sklearn.model_selection import train_test_split"
      ],
      "execution_count": 0,
      "outputs": []
    },
    {
      "cell_type": "code",
      "metadata": {
        "id": "Es_4qfwNspYx",
        "colab_type": "code",
        "colab": {}
      },
      "source": [
        "train_final.info()"
      ],
      "execution_count": 0,
      "outputs": []
    },
    {
      "cell_type": "code",
      "metadata": {
        "id": "UXjU6vmkahrD",
        "colab_type": "code",
        "colab": {}
      },
      "source": [
        "train_final.drop(['Avg'],axis=1,inplace=True)\n"
      ],
      "execution_count": 0,
      "outputs": []
    },
    {
      "cell_type": "code",
      "metadata": {
        "id": "IAsk0RbLtLZ6",
        "colab_type": "code",
        "colab": {}
      },
      "source": [
        "train_final.info()"
      ],
      "execution_count": 0,
      "outputs": []
    },
    {
      "cell_type": "code",
      "metadata": {
        "id": "H7iRznA1s3Tu",
        "colab_type": "code",
        "colab": {}
      },
      "source": [
        "\n",
        "X_train,X_test,y_train,y_test = train_test_split(train_final.drop('Close',axis=1)\n",
        "                                                 ,train_final['Close'],random_state=42)"
      ],
      "execution_count": 0,
      "outputs": []
    },
    {
      "cell_type": "code",
      "metadata": {
        "id": "zZG7ATGYahrF",
        "colab_type": "code",
        "colab": {}
      },
      "source": [
        "X_train.head()"
      ],
      "execution_count": 0,
      "outputs": []
    },
    {
      "cell_type": "markdown",
      "metadata": {
        "id": "MQQ1YVn2ahrK",
        "colab_type": "text"
      },
      "source": [
        "### Applying Regressor Model"
      ]
    },
    {
      "cell_type": "code",
      "metadata": {
        "id": "2cNBp9sKahrL",
        "colab_type": "code",
        "colab": {}
      },
      "source": [
        "model=RandomForestRegressor()\n"
      ],
      "execution_count": 0,
      "outputs": []
    },
    {
      "cell_type": "code",
      "metadata": {
        "id": "7TN2pbNsahrN",
        "colab_type": "code",
        "colab": {}
      },
      "source": [
        "model.fit(X_train,y_train)"
      ],
      "execution_count": 0,
      "outputs": []
    },
    {
      "cell_type": "code",
      "metadata": {
        "id": "Si5vzjWQzVg6",
        "colab_type": "code",
        "colab": {}
      },
      "source": [
        "import pickle\n",
        "filename = 'model.pic'\n",
        "outfile = open(filename,'wb')\n",
        "pickle.dump(model,outfile)\n",
        "outfile.close()"
      ],
      "execution_count": 0,
      "outputs": []
    },
    {
      "cell_type": "code",
      "metadata": {
        "id": "OL6ZttJZ0YtH",
        "colab_type": "code",
        "colab": {}
      },
      "source": [
        "new_model = "
      ],
      "execution_count": 0,
      "outputs": []
    },
    {
      "cell_type": "code",
      "metadata": {
        "id": "l6ZC-IX1zFJe",
        "colab_type": "code",
        "colab": {}
      },
      "source": [
        "model"
      ],
      "execution_count": 0,
      "outputs": []
    },
    {
      "cell_type": "code",
      "metadata": {
        "id": "58_Zfjj3ahrS",
        "colab_type": "code",
        "colab": {}
      },
      "source": [
        "predict=model.predict(X_test)"
      ],
      "execution_count": 0,
      "outputs": []
    },
    {
      "cell_type": "code",
      "metadata": {
        "id": "wLJ7sf-LpcCy",
        "colab_type": "code",
        "colab": {}
      },
      "source": [
        "model.coef_"
      ],
      "execution_count": 0,
      "outputs": []
    },
    {
      "cell_type": "code",
      "metadata": {
        "id": "IrDCe00vahrW",
        "colab_type": "code",
        "colab": {}
      },
      "source": [
        "model.feature_importances_"
      ],
      "execution_count": 0,
      "outputs": []
    },
    {
      "cell_type": "code",
      "metadata": {
        "id": "qjeY8PA0ahrb",
        "colab_type": "code",
        "colab": {}
      },
      "source": [
        "imp_list = list(model.feature_importances_)"
      ],
      "execution_count": 0,
      "outputs": []
    },
    {
      "cell_type": "code",
      "metadata": {
        "id": "vpW8ZZvnahrd",
        "colab_type": "code",
        "colab": {}
      },
      "source": [
        "col_lis = list(X_test.columns)"
      ],
      "execution_count": 0,
      "outputs": []
    },
    {
      "cell_type": "code",
      "metadata": {
        "id": "pRFgJPMaahrf",
        "colab_type": "code",
        "colab": {}
      },
      "source": [
        "fi = {i[0]:\"{0:.4f}\".format(i[1]) for i in list(zip(col_lis,imp_list))}"
      ],
      "execution_count": 0,
      "outputs": []
    },
    {
      "cell_type": "code",
      "metadata": {
        "id": "nBPE3Y36ahrh",
        "colab_type": "code",
        "colab": {}
      },
      "source": [
        "fi"
      ],
      "execution_count": 0,
      "outputs": []
    },
    {
      "cell_type": "markdown",
      "metadata": {
        "id": "o7Kn1PT2ahrk",
        "colab_type": "text"
      },
      "source": [
        "#### Measuring the Score. (Evaluation Metrics)"
      ]
    },
    {
      "cell_type": "code",
      "metadata": {
        "id": "BhLArz9pahrl",
        "colab_type": "code",
        "colab": {}
      },
      "source": [
        "from sklearn import metrics\n",
        "print('MAE:', metrics.mean_absolute_error(y_test, predict))\n",
        "print('MSE:', metrics.mean_squared_error(y_test, predict))\n",
        "print('RMSE:', np.sqrt(metrics.mean_squared_error(y_test, predict)))"
      ],
      "execution_count": 0,
      "outputs": []
    },
    {
      "cell_type": "code",
      "metadata": {
        "id": "Ybkfbz3zahro",
        "colab_type": "code",
        "colab": {}
      },
      "source": [
        "from sklearn.model_selection import cross_val_score\n",
        "\n",
        "print(cross_val_score(model, X_test, y_test,cv=5))"
      ],
      "execution_count": 0,
      "outputs": []
    },
    {
      "cell_type": "code",
      "metadata": {
        "id": "fqw3_nKat4FJ",
        "colab_type": "code",
        "colab": {}
      },
      "source": [
        ""
      ],
      "execution_count": 0,
      "outputs": []
    }
  ]
}