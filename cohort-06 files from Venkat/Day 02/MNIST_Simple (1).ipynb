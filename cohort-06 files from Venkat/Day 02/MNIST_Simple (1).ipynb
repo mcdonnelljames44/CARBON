{
  "nbformat": 4,
  "nbformat_minor": 0,
  "metadata": {
    "colab": {
      "name": "MNIST - Simple.ipynb",
      "version": "0.3.2",
      "provenance": [],
      "collapsed_sections": []
    },
    "kernelspec": {
      "display_name": "Python 3",
      "language": "python",
      "name": "python3"
    },
    "accelerator": "GPU"
  },
  "cells": [
    {
      "metadata": {
        "id": "6miluHQwHaMP",
        "colab_type": "text"
      },
      "cell_type": "markdown",
      "source": [
        "# MNIST - Classification"
      ]
    },
    {
      "metadata": {
        "id": "s7-cQEBYHaMR",
        "colab_type": "text"
      },
      "cell_type": "markdown",
      "source": [
        "<center><img src=\"https://www.dropbox.com/s/i37mgynkrf1d3vb/supervised_flow_chart.png?raw=1\" height=300px width=1000px></img></center>"
      ]
    },
    {
      "metadata": {
        "id": "KBIpjEBDHaMS",
        "colab_type": "text"
      },
      "cell_type": "markdown",
      "source": [
        "# 01 : Frame the Problem"
      ]
    },
    {
      "metadata": {
        "id": "F8-rKIDaHaMS",
        "colab_type": "text"
      },
      "cell_type": "markdown",
      "source": [
        "We need to build a classifier using the MNIST dataset, which is a set of 70,000 small images of digits handwritten by high school students and employees of the US Census Bureau. Each image is labeled with the digit it represents. This set has been studied so much that it is often called the “Hello World” of Machine Learning. \n",
        "\n",
        "Whenever people come up with a new classification algorithm, they are curious to see how it will perform on MNIST. Whenever someone learns Machine Learning, sooner or later they tackle MNIST. \n",
        "\n",
        "Each image is labeled with the digit it represents. Each digit is represented by 28 x 28, each cell representing pixel depth."
      ]
    },
    {
      "metadata": {
        "id": "c7oRxXGbHaMT",
        "colab_type": "text"
      },
      "cell_type": "markdown",
      "source": [
        "# 02 : Obtaining the Data"
      ]
    },
    {
      "metadata": {
        "id": "A6CfGVYUHaMT",
        "colab_type": "text"
      },
      "cell_type": "markdown",
      "source": [
        "### Import the Libraries"
      ]
    },
    {
      "metadata": {
        "id": "gAuLWxDlHaMV",
        "colab_type": "code",
        "colab": {}
      },
      "cell_type": "code",
      "source": [
        "import numpy as np\n",
        "import os\n",
        "import pandas as pd\n",
        "%matplotlib inline\n",
        "import matplotlib\n",
        "import matplotlib.pyplot as plt"
      ],
      "execution_count": 0,
      "outputs": []
    },
    {
      "metadata": {
        "id": "qZ8p8dseHaMY",
        "colab_type": "text"
      },
      "cell_type": "markdown",
      "source": [
        "### Reading the data from CSV File"
      ]
    },
    {
      "metadata": {
        "id": "gAXrrk2dHaMZ",
        "colab_type": "code",
        "colab": {}
      },
      "cell_type": "code",
      "source": [
        "!wget https://www.dropbox.com/s/lskvhzb0gy8npv9/mnistdata.csv\n",
        "mnist = pd.read_csv(\"mnistdata.csv\")\n",
        "mnist.info()"
      ],
      "execution_count": 0,
      "outputs": []
    },
    {
      "metadata": {
        "id": "_Wq7FtYpHaMf",
        "colab_type": "code",
        "colab": {}
      },
      "cell_type": "code",
      "source": [
        "y = mnist['Label'] #getting the labels from Data\n",
        "mnist.drop('Label',axis=1,inplace = True) #After we drop the Labels we have remaining data.\n",
        "X = mnist"
      ],
      "execution_count": 0,
      "outputs": []
    },
    {
      "metadata": {
        "id": "QieiGqROHaMg",
        "colab_type": "code",
        "colab": {}
      },
      "cell_type": "code",
      "source": [
        "X.shape"
      ],
      "execution_count": 0,
      "outputs": []
    },
    {
      "metadata": {
        "id": "yF3uvj8RuPys",
        "colab_type": "code",
        "colab": {}
      },
      "cell_type": "code",
      "source": [
        "type(y)"
      ],
      "execution_count": 0,
      "outputs": []
    },
    {
      "metadata": {
        "id": "dnslSUnKHaMk",
        "colab_type": "code",
        "colab": {}
      },
      "cell_type": "code",
      "source": [
        "y.shape"
      ],
      "execution_count": 0,
      "outputs": []
    },
    {
      "metadata": {
        "id": "eaZBr2I7HaMm",
        "colab_type": "code",
        "colab": {}
      },
      "cell_type": "code",
      "source": [
        "28*28 "
      ],
      "execution_count": 0,
      "outputs": []
    },
    {
      "metadata": {
        "id": "EgKftEGbHaMp",
        "colab_type": "text"
      },
      "cell_type": "markdown",
      "source": [
        "# 03 : Analyze Data"
      ]
    },
    {
      "metadata": {
        "id": "E82AjK9SHaMq",
        "colab_type": "text"
      },
      "cell_type": "markdown",
      "source": [
        "Prepare the Features and Target variables.\n",
        "To analyze what is the shape of the feature set."
      ]
    },
    {
      "metadata": {
        "id": "XHxKLkemHaMr",
        "colab_type": "text"
      },
      "cell_type": "markdown",
      "source": [
        "Visualizing a random digit using the Matplotlib Library"
      ]
    },
    {
      "metadata": {
        "id": "hTkOcWd3HaMr",
        "colab_type": "code",
        "colab": {}
      },
      "cell_type": "code",
      "source": [
        "some_digit = X.iloc[35000]\n",
        "some_digit_image = some_digit.reshape(28, 28) # to get it into a 2D array\n",
        "plt.imshow(some_digit_image, cmap = matplotlib.cm.binary,\n",
        "           interpolation=\"nearest\")\n",
        "plt.axis(\"off\")\n",
        "plt.show();"
      ],
      "execution_count": 0,
      "outputs": []
    },
    {
      "metadata": {
        "id": "5fDXbThnu4DL",
        "colab_type": "code",
        "colab": {}
      },
      "cell_type": "code",
      "source": [
        "some_digit_image.shape"
      ],
      "execution_count": 0,
      "outputs": []
    },
    {
      "metadata": {
        "id": "1YGUoXltwBnx",
        "colab_type": "code",
        "colab": {}
      },
      "cell_type": "code",
      "source": [
        "some_digit_image.max()"
      ],
      "execution_count": 0,
      "outputs": []
    },
    {
      "metadata": {
        "id": "Oerce-cAHaMu",
        "colab_type": "code",
        "colab": {}
      },
      "cell_type": "code",
      "source": [
        "y[35000]"
      ],
      "execution_count": 0,
      "outputs": []
    },
    {
      "metadata": {
        "id": "2JhFTfXnHaMy",
        "colab_type": "text"
      },
      "cell_type": "markdown",
      "source": [
        "# 04 : Feature Engineering"
      ]
    },
    {
      "metadata": {
        "id": "ztLVyxSnHaMy",
        "colab_type": "text"
      },
      "cell_type": "markdown",
      "source": [
        "MNIST data is divided as follows:  \n",
        "- Train Data - First 60000 rows  \n",
        "- Test Data - Last 10000 rows  "
      ]
    },
    {
      "metadata": {
        "id": "-VehfX9mHaMz",
        "colab_type": "code",
        "colab": {}
      },
      "cell_type": "code",
      "source": [
        "X_train, X_test, y_train, y_test = X[:60000], X[60000:], y[:60000], y[60000:]"
      ],
      "execution_count": 0,
      "outputs": []
    },
    {
      "metadata": {
        "id": "RYzuIMGwHaM1",
        "colab_type": "text"
      },
      "cell_type": "markdown",
      "source": [
        "As all the numbers are in the same place, we shuffle them randomly using numpy permutations function"
      ]
    },
    {
      "metadata": {
        "id": "6K1qyeSVHaM2",
        "colab_type": "code",
        "colab": {}
      },
      "cell_type": "code",
      "source": [
        "import numpy as np\n",
        "\n",
        "shuffle_index = np.random.permutation(60000)\n",
        "X_train, y_train = X_train.iloc[shuffle_index], y_train.iloc[shuffle_index]"
      ],
      "execution_count": 0,
      "outputs": []
    },
    {
      "metadata": {
        "id": "YqjEmH9gxIRD",
        "colab_type": "code",
        "colab": {}
      },
      "cell_type": "code",
      "source": [
        "type(shuffle_index)"
      ],
      "execution_count": 0,
      "outputs": []
    },
    {
      "metadata": {
        "id": "4wW8IjBwHaM3",
        "colab_type": "text"
      },
      "cell_type": "markdown",
      "source": [
        "# 05-A : Model Selection\n",
        "\n",
        "\n",
        "\n"
      ]
    },
    {
      "metadata": {
        "id": "56yQfocjHaM5",
        "colab_type": "text"
      },
      "cell_type": "markdown",
      "source": [
        "### Binary classifier"
      ]
    },
    {
      "metadata": {
        "id": "JAd20-sZHaM5",
        "colab_type": "text"
      },
      "cell_type": "markdown",
      "source": [
        "Instead of prediciting all the classes, we first predict whether a number is '5' or not.  \n",
        "We create a target test and train variables such that we have True for digits representing '5' and False for digits representing other than '5'."
      ]
    },
    {
      "metadata": {
        "id": "_4EmSHllHaM6",
        "colab_type": "code",
        "colab": {}
      },
      "cell_type": "code",
      "source": [
        "y_train_5 = (y_train == 5) \n",
        "y_test_5 = (y_test == 5)"
      ],
      "execution_count": 0,
      "outputs": []
    },
    {
      "metadata": {
        "id": "9B5c40J60rAc",
        "colab_type": "code",
        "colab": {}
      },
      "cell_type": "code",
      "source": [
        "y[12607]"
      ],
      "execution_count": 0,
      "outputs": []
    },
    {
      "metadata": {
        "id": "Rdt5JxBIHaM9",
        "colab_type": "code",
        "colab": {}
      },
      "cell_type": "code",
      "source": [
        "y_train_5.head(40)"
      ],
      "execution_count": 0,
      "outputs": []
    },
    {
      "metadata": {
        "id": "opmLcQFfHaNA",
        "colab_type": "code",
        "colab": {}
      },
      "cell_type": "code",
      "source": [
        "from sklearn.linear_model import SGDClassifier\n",
        "\n",
        "sgd_clf = SGDClassifier(max_iter=5, random_state=42)\n",
        "sgd_clf.fit(X_train, y_train_5)"
      ],
      "execution_count": 0,
      "outputs": []
    },
    {
      "metadata": {
        "id": "mk1ABX0uHaND",
        "colab_type": "text"
      },
      "cell_type": "markdown",
      "source": [
        "# 06-A : Tune the Model"
      ]
    },
    {
      "metadata": {
        "id": "eBqwf4nOHaNF",
        "colab_type": "text"
      },
      "cell_type": "markdown",
      "source": [
        "Predicting the digit for random number."
      ]
    },
    {
      "metadata": {
        "id": "MhPdEGD7HaNF",
        "colab_type": "code",
        "colab": {}
      },
      "cell_type": "code",
      "source": [
        "sgd_clf.predict([some_digit])"
      ],
      "execution_count": 0,
      "outputs": []
    },
    {
      "metadata": {
        "id": "5qJVZKKTHaNI",
        "colab_type": "text"
      },
      "cell_type": "markdown",
      "source": [
        "Cross Value Score will evaluate the model for each fold and gives us an array representing the accuracy obtained in each fold."
      ]
    },
    {
      "metadata": {
        "id": "AJ27ZrO1HaNJ",
        "colab_type": "code",
        "colab": {}
      },
      "cell_type": "code",
      "source": [
        "from sklearn.model_selection import cross_val_score\n",
        "cross_val_score(sgd_clf, X_train, y_train_5, cv=3, scoring=\"accuracy\")"
      ],
      "execution_count": 0,
      "outputs": []
    },
    {
      "metadata": {
        "id": "EJ0Et1MZHaNK",
        "colab_type": "text"
      },
      "cell_type": "markdown",
      "source": [
        "Cross Value Predict will predict the target for each fold and append them into a series."
      ]
    },
    {
      "metadata": {
        "id": "tggdac8VHaNL",
        "colab_type": "text"
      },
      "cell_type": "markdown",
      "source": [
        "### Cross Validation"
      ]
    },
    {
      "metadata": {
        "id": "4nHHZE7RHaNL",
        "colab_type": "code",
        "colab": {}
      },
      "cell_type": "code",
      "source": [
        "from sklearn.model_selection import cross_val_predict\n",
        "\n",
        "y_train_pred = cross_val_predict(sgd_clf, X_train, y_train_5, cv=3)"
      ],
      "execution_count": 0,
      "outputs": []
    },
    {
      "metadata": {
        "id": "onOYMeuCHaNO",
        "colab_type": "code",
        "colab": {}
      },
      "cell_type": "code",
      "source": [
        "y_train_pred.shape"
      ],
      "execution_count": 0,
      "outputs": []
    },
    {
      "metadata": {
        "id": "wjixMKgKHaNQ",
        "colab_type": "code",
        "colab": {}
      },
      "cell_type": "code",
      "source": [
        "len(y_train_pred)"
      ],
      "execution_count": 0,
      "outputs": []
    },
    {
      "metadata": {
        "id": "W2L2BR2n4rm_",
        "colab_type": "code",
        "colab": {}
      },
      "cell_type": "code",
      "source": [
        "from sklearn.metrics import accuracy_score"
      ],
      "execution_count": 0,
      "outputs": []
    },
    {
      "metadata": {
        "id": "dxOqiXAG4ufE",
        "colab_type": "code",
        "colab": {}
      },
      "cell_type": "code",
      "source": [
        "accuracy_score(y_train_5, y_train_pred)"
      ],
      "execution_count": 0,
      "outputs": []
    },
    {
      "metadata": {
        "id": "a7vrK3HWHaNT",
        "colab_type": "code",
        "colab": {}
      },
      "cell_type": "code",
      "source": [
        "from sklearn.metrics import confusion_matrix\n",
        "\n",
        "confusion_matrix(y_train_5, y_train_pred)"
      ],
      "execution_count": 0,
      "outputs": []
    },
    {
      "metadata": {
        "id": "JMari3IBHaNV",
        "colab_type": "code",
        "colab": {}
      },
      "cell_type": "code",
      "source": [
        "from sklearn.metrics import precision_score, recall_score\n",
        "\n",
        "precision_score(y_train_5, y_train_pred) # When we predict it it be 5, how often are we right? "
      ],
      "execution_count": 0,
      "outputs": []
    },
    {
      "metadata": {
        "id": "mvTSFtROHaNZ",
        "colab_type": "code",
        "colab": {}
      },
      "cell_type": "code",
      "source": [
        "recall_score(y_train_5, y_train_pred) # When it is 5, how often do we predict it to be 5?"
      ],
      "execution_count": 0,
      "outputs": []
    },
    {
      "metadata": {
        "id": "XmYnv-PuHaNa",
        "colab_type": "code",
        "colab": {}
      },
      "cell_type": "code",
      "source": [
        "from sklearn.metrics import f1_score\n",
        "f1_score(y_train_5, y_train_pred)"
      ],
      "execution_count": 0,
      "outputs": []
    },
    {
      "metadata": {
        "id": "AMqYyX1DHaNe",
        "colab_type": "text"
      },
      "cell_type": "markdown",
      "source": [
        "# 05-B : Model Selection"
      ]
    },
    {
      "metadata": {
        "id": "pG8-wcM1HaNe",
        "colab_type": "text"
      },
      "cell_type": "markdown",
      "source": [
        "### Dummy Classifier"
      ]
    },
    {
      "metadata": {
        "id": "bGiQR1PLHaNe",
        "colab_type": "text"
      },
      "cell_type": "markdown",
      "source": [
        "In the train set, only 10% of the rows are labelled to be 5 and remaining are not 5's. So instead of using a model, by using a dummy classifier that give 0 as the prediction for every row, we can obtain 90% accuracy."
      ]
    },
    {
      "metadata": {
        "id": "zAWigVWjHaNf",
        "colab_type": "code",
        "colab": {}
      },
      "cell_type": "code",
      "source": [
        "from sklearn.base import BaseEstimator\n",
        "class Never5Classifier(BaseEstimator):\n",
        "    def fit(self, X, y=None):\n",
        "        pass\n",
        "    def predict(self, X):\n",
        "        return np.zeros((len(X), 1), dtype=bool)"
      ],
      "execution_count": 0,
      "outputs": []
    },
    {
      "metadata": {
        "id": "KgYsRyXtHaNh",
        "colab_type": "code",
        "colab": {}
      },
      "cell_type": "code",
      "source": [
        "never_5_clf = Never5Classifier()"
      ],
      "execution_count": 0,
      "outputs": []
    },
    {
      "metadata": {
        "id": "tFxw9rVlHaNj",
        "colab_type": "text"
      },
      "cell_type": "markdown",
      "source": [
        "# 06-B : Tune the Model"
      ]
    },
    {
      "metadata": {
        "id": "sZu51s3lHaNj",
        "colab_type": "code",
        "colab": {}
      },
      "cell_type": "code",
      "source": [
        "cross_val_score(never_5_clf, X_train, y_train_5, cv=3, scoring=\"accuracy\")"
      ],
      "execution_count": 0,
      "outputs": []
    },
    {
      "metadata": {
        "id": "8Uskj7ZBHaNl",
        "colab_type": "code",
        "colab": {}
      },
      "cell_type": "code",
      "source": [
        "predictions = never_5_clf.predict(X_test)"
      ],
      "execution_count": 0,
      "outputs": []
    },
    {
      "metadata": {
        "id": "FhVJk7itHaNm",
        "colab_type": "code",
        "colab": {}
      },
      "cell_type": "code",
      "source": [
        "predictions"
      ],
      "execution_count": 0,
      "outputs": []
    },
    {
      "metadata": {
        "id": "iWHLy_YoHaNp",
        "colab_type": "code",
        "colab": {}
      },
      "cell_type": "code",
      "source": [
        "confusion_matrix(y_test_5,predictions)"
      ],
      "execution_count": 0,
      "outputs": []
    },
    {
      "metadata": {
        "id": "bbxJY4blvF_S",
        "colab_type": "code",
        "colab": {}
      },
      "cell_type": "code",
      "source": [
        "accuracy_score(y_test_5,predictions)"
      ],
      "execution_count": 0,
      "outputs": []
    },
    {
      "metadata": {
        "id": "AtOTUManHaNs",
        "colab_type": "code",
        "colab": {}
      },
      "cell_type": "code",
      "source": [
        "precision_score(y_test_5,predictions)"
      ],
      "execution_count": 0,
      "outputs": []
    },
    {
      "metadata": {
        "id": "ogd7a1B2HaNu",
        "colab_type": "code",
        "colab": {}
      },
      "cell_type": "code",
      "source": [
        "recall_score(y_test_5,predictions)"
      ],
      "execution_count": 0,
      "outputs": []
    },
    {
      "metadata": {
        "id": "beIEgGWOHaNv",
        "colab_type": "text"
      },
      "cell_type": "markdown",
      "source": [
        "# Precision and Recall Threshold"
      ]
    },
    {
      "metadata": {
        "id": "41Lom2kNHaNx",
        "colab_type": "text"
      },
      "cell_type": "markdown",
      "source": [
        "We study the precision recall relationship using SGD Classifier"
      ]
    },
    {
      "metadata": {
        "id": "JXLkQfjAHaNx",
        "colab_type": "text"
      },
      "cell_type": "markdown",
      "source": [
        "<center><img src=\"https://www.dropbox.com/s/anfhedig7uz35fw/tradeoff.png?raw=1\" height=300px width=1000px></img></center>"
      ]
    },
    {
      "metadata": {
        "id": "pZROKWntHaNy",
        "colab_type": "code",
        "colab": {}
      },
      "cell_type": "code",
      "source": [
        "from sklearn.model_selection import cross_val_predict\n",
        "y_scores = cross_val_predict(sgd_clf, X_train, y_train_5, cv=3,method=\"decision_function\")"
      ],
      "execution_count": 0,
      "outputs": []
    },
    {
      "metadata": {
        "id": "MtY7XPvOHaN0",
        "colab_type": "code",
        "colab": {}
      },
      "cell_type": "code",
      "source": [
        "from sklearn.metrics import precision_recall_curve\n",
        "\n",
        "precisions, recalls, thresholds = precision_recall_curve(y_train_5, y_scores)"
      ],
      "execution_count": 0,
      "outputs": []
    },
    {
      "metadata": {
        "id": "vfzMwKXDHaN2",
        "colab_type": "code",
        "colab": {}
      },
      "cell_type": "code",
      "source": [
        "len(precisions)"
      ],
      "execution_count": 0,
      "outputs": []
    },
    {
      "metadata": {
        "id": "PtITJPeIHaN4",
        "colab_type": "code",
        "colab": {}
      },
      "cell_type": "code",
      "source": [
        "def plot_precision_recall_vs_threshold(precisions, recalls, thresholds):\n",
        "    plt.plot(thresholds, precisions[:-1], \"b--\", label=\"Precision\", linewidth=2)\n",
        "    plt.plot(thresholds, recalls[:-1], \"g-\", label=\"Recall\", linewidth=2)\n",
        "    plt.xlabel(\"Threshold\", fontsize=16)\n",
        "    plt.legend(loc=\"upper left\", fontsize=16)\n",
        "    plt.ylim([0, 1])\n",
        "\n",
        "plt.figure(figsize=(8, 4))\n",
        "plot_precision_recall_vs_threshold(precisions, recalls, thresholds)\n",
        "plt.xlim([-700000, 700000])\n",
        "plt.show()"
      ],
      "execution_count": 0,
      "outputs": []
    },
    {
      "metadata": {
        "id": "9OiRJNihHaOO",
        "colab_type": "text"
      },
      "cell_type": "markdown",
      "source": [
        "# 05-C : Model Selection"
      ]
    },
    {
      "metadata": {
        "id": "nipK0sMkHaOP",
        "colab_type": "text"
      },
      "cell_type": "markdown",
      "source": [
        "### Multiclass classification"
      ]
    },
    {
      "metadata": {
        "id": "AHL4NTmoHaOQ",
        "colab_type": "text"
      },
      "cell_type": "markdown",
      "source": [
        "Using SGD Classifier for prediciton of 10 classes ([0-9])"
      ]
    },
    {
      "metadata": {
        "id": "sZwNBSCGHaOR",
        "colab_type": "code",
        "colab": {}
      },
      "cell_type": "code",
      "source": [
        "sgd_clf.fit(X_train, y_train)\n",
        "sgd_clf.predict([some_digit])"
      ],
      "execution_count": 0,
      "outputs": []
    },
    {
      "metadata": {
        "id": "KgyqG5DCHaOT",
        "colab_type": "text"
      },
      "cell_type": "markdown",
      "source": [
        "# 06-C : Tune the Model"
      ]
    },
    {
      "metadata": {
        "id": "usRG33nevxwR",
        "colab_type": "code",
        "colab": {}
      },
      "cell_type": "code",
      "source": [
        "y_hat = sgd_clf.predict(X_test)"
      ],
      "execution_count": 0,
      "outputs": []
    },
    {
      "metadata": {
        "id": "eE8Q-mrgv4yf",
        "colab_type": "code",
        "colab": {}
      },
      "cell_type": "code",
      "source": [
        "confusion_matrix(y_test,y_hat)"
      ],
      "execution_count": 0,
      "outputs": []
    },
    {
      "metadata": {
        "id": "Je_jSVBlHaOT",
        "colab_type": "code",
        "colab": {}
      },
      "cell_type": "code",
      "source": [
        "some_digit_scores = sgd_clf.decision_function([some_digit])\n",
        "some_digit_scores"
      ],
      "execution_count": 0,
      "outputs": []
    },
    {
      "metadata": {
        "id": "A5FL70tKHaOV",
        "colab_type": "code",
        "colab": {}
      },
      "cell_type": "code",
      "source": [
        "np.argmax(some_digit_scores)"
      ],
      "execution_count": 0,
      "outputs": []
    },
    {
      "metadata": {
        "id": "Ftx32zKqHaOX",
        "colab_type": "code",
        "colab": {}
      },
      "cell_type": "code",
      "source": [
        "sgd_clf.classes_"
      ],
      "execution_count": 0,
      "outputs": []
    },
    {
      "metadata": {
        "id": "LjNuhhmJHaOZ",
        "colab_type": "code",
        "colab": {}
      },
      "cell_type": "code",
      "source": [
        "sgd_clf.classes_[5]"
      ],
      "execution_count": 0,
      "outputs": []
    },
    {
      "metadata": {
        "id": "pJQYA4nxHaOn",
        "colab_type": "text"
      },
      "cell_type": "markdown",
      "source": [
        "# 05-E : Model Selection"
      ]
    },
    {
      "metadata": {
        "id": "tbSz--nEHaOn",
        "colab_type": "text"
      },
      "cell_type": "markdown",
      "source": [
        "### Random Forest Classifier"
      ]
    },
    {
      "metadata": {
        "id": "lSRc0eHGHaOn",
        "colab_type": "text"
      },
      "cell_type": "markdown",
      "source": [
        "Using Random Forest Classifier"
      ]
    },
    {
      "metadata": {
        "id": "mnqQATn8HaOn",
        "colab_type": "code",
        "colab": {}
      },
      "cell_type": "code",
      "source": [
        "from sklearn.ensemble import RandomForestClassifier\n",
        "forest_clf = RandomForestClassifier()\n",
        "forest_clf.fit(X_train, y_train)\n",
        "forest_clf.predict([some_digit])"
      ],
      "execution_count": 0,
      "outputs": []
    },
    {
      "metadata": {
        "id": "i0Nd94DdHaOp",
        "colab_type": "text"
      },
      "cell_type": "markdown",
      "source": [
        "# 06-E : Tune the Model"
      ]
    },
    {
      "metadata": {
        "id": "ErXwRbJcHaOq",
        "colab_type": "code",
        "colab": {}
      },
      "cell_type": "code",
      "source": [
        "forest_clf.predict_proba([some_digit])"
      ],
      "execution_count": 0,
      "outputs": []
    },
    {
      "metadata": {
        "id": "Bl9LrB5DHaOr",
        "colab_type": "code",
        "colab": {}
      },
      "cell_type": "code",
      "source": [
        "forest_clf_predictions = forest_clf.predict(X_test)"
      ],
      "execution_count": 0,
      "outputs": []
    },
    {
      "metadata": {
        "id": "XAdzyBlgHaOt",
        "colab_type": "code",
        "colab": {}
      },
      "cell_type": "code",
      "source": [
        "accuracy_score(y_test,forest_clf_predictions)"
      ],
      "execution_count": 0,
      "outputs": []
    },
    {
      "metadata": {
        "id": "d5s_56YKHaOv",
        "colab_type": "code",
        "colab": {}
      },
      "cell_type": "code",
      "source": [
        "precision_score(y_test,forest_clf_predictions,average=\"macro\")"
      ],
      "execution_count": 0,
      "outputs": []
    },
    {
      "metadata": {
        "id": "HqtxPJwWHaOw",
        "colab_type": "code",
        "colab": {}
      },
      "cell_type": "code",
      "source": [
        "recall_score(y_test,forest_clf_predictions,average='macro')"
      ],
      "execution_count": 0,
      "outputs": []
    },
    {
      "metadata": {
        "id": "kSrxv8t8HaOx",
        "colab_type": "text"
      },
      "cell_type": "markdown",
      "source": [
        "# 05-F : Model Selection"
      ]
    },
    {
      "metadata": {
        "id": "9wLJWIDUHaOy",
        "colab_type": "text"
      },
      "cell_type": "markdown",
      "source": [
        "### Multilabel classification using K Neighbors Classifier"
      ]
    },
    {
      "metadata": {
        "id": "9uA73WT0HaOy",
        "colab_type": "text"
      },
      "cell_type": "markdown",
      "source": [
        "Multilabel Classification helps to give multiple labelled predictions for single output.  \n",
        "For example here the labels are:  \n",
        "- A number is greater than 7 or not.\n",
        "- Is a number even or not.\n"
      ]
    },
    {
      "metadata": {
        "id": "idCuUw33HaOy",
        "colab_type": "code",
        "colab": {}
      },
      "cell_type": "code",
      "source": [
        "from sklearn.neighbors import KNeighborsClassifier\n",
        "\n",
        "y_train_large = (y_train >= 7)\n",
        "y_train_odd = (y_train % 2 == 1)\n",
        "y_multilabel = np.c_[y_train_large, y_train_odd]\n",
        "\n",
        "knn_clf = KNeighborsClassifier()\n",
        "knn_clf.fit(X_train, y_multilabel)"
      ],
      "execution_count": 0,
      "outputs": []
    },
    {
      "metadata": {
        "id": "FjhFMQ_AHaO0",
        "colab_type": "code",
        "colab": {}
      },
      "cell_type": "code",
      "source": [
        "y_train_large.shape"
      ],
      "execution_count": 0,
      "outputs": []
    }
  ]
}