{
  "nbformat": 4,
  "nbformat_minor": 0,
  "metadata": {
    "colab": {
      "name": "MNIST Using ANN.ipynb",
      "version": "0.3.2",
      "provenance": [],
      "collapsed_sections": []
    },
    "kernelspec": {
      "display_name": "Python 3",
      "language": "python",
      "name": "python3"
    },
    "accelerator": "GPU"
  },
  "cells": [
    {
      "cell_type": "markdown",
      "metadata": {
        "id": "6miluHQwHaMP",
        "colab_type": "text"
      },
      "source": [
        "# MNIST - Classification"
      ]
    },
    {
      "cell_type": "markdown",
      "metadata": {
        "id": "s7-cQEBYHaMR",
        "colab_type": "text"
      },
      "source": [
        "<center><img src=\"https://www.dropbox.com/s/i37mgynkrf1d3vb/supervised_flow_chart.png?raw=1\" height=300px width=1000px></img></center>"
      ]
    },
    {
      "cell_type": "markdown",
      "metadata": {
        "id": "KBIpjEBDHaMS",
        "colab_type": "text"
      },
      "source": [
        "# 01 : Frame the Problem"
      ]
    },
    {
      "cell_type": "markdown",
      "metadata": {
        "id": "F8-rKIDaHaMS",
        "colab_type": "text"
      },
      "source": [
        "We need to build a classifier using the MNIST dataset, which is a set of 70,000 small images of digits handwritten by high school students and employees of the US Census Bureau. Each image is labeled with the digit it represents. This set has been studied so much that it is often called the “Hello World” of Machine Learning. \n",
        "\n",
        "Whenever people come up with a new classification algorithm, they are curious to see how it will perform on MNIST. Whenever someone learns Machine Learning, sooner or later they tackle MNIST. \n",
        "\n",
        "Each image is labeled with the digit it represents. Each digit is represented by 28 x 28, each cell representing pixel depth."
      ]
    },
    {
      "cell_type": "markdown",
      "metadata": {
        "id": "c7oRxXGbHaMT",
        "colab_type": "text"
      },
      "source": [
        "# 02 : Obtaining the Data"
      ]
    },
    {
      "cell_type": "markdown",
      "metadata": {
        "id": "A6CfGVYUHaMT",
        "colab_type": "text"
      },
      "source": [
        "### Import the Libraries"
      ]
    },
    {
      "cell_type": "code",
      "metadata": {
        "id": "gAuLWxDlHaMV",
        "colab_type": "code",
        "colab": {}
      },
      "source": [
        "\n",
        "import keras\n",
        "from keras.datasets import mnist\n",
        "from keras.models import Sequential\n",
        "from keras.layers import Dense, Dropout, Flatten\n",
        "from keras.layers import Conv2D, MaxPooling2D\n",
        "from keras import backend as K\n",
        "import matplotlib.pyplot as plt\n",
        "from keras.utils import np_utils"
      ],
      "execution_count": 0,
      "outputs": []
    },
    {
      "cell_type": "markdown",
      "metadata": {
        "id": "qryO41rAuWEh",
        "colab_type": "text"
      },
      "source": [
        "### Initialize the necessary variables"
      ]
    },
    {
      "cell_type": "code",
      "metadata": {
        "id": "0zHH1kMEuR1d",
        "colab_type": "code",
        "colab": {}
      },
      "source": [
        "batch_size = 128\n",
        "num_classes = 10\n",
        "epochs = 12\n",
        "\n",
        "# input image dimensions\n",
        "img_rows, img_cols = 28, 28"
      ],
      "execution_count": 0,
      "outputs": []
    },
    {
      "cell_type": "markdown",
      "metadata": {
        "id": "qZ8p8dseHaMY",
        "colab_type": "text"
      },
      "source": [
        "### Reading the image data from Keras"
      ]
    },
    {
      "cell_type": "code",
      "metadata": {
        "id": "gAXrrk2dHaMZ",
        "colab_type": "code",
        "colab": {}
      },
      "source": [
        "(x_train, y_train), (x_test, y_test) = mnist.load_data()"
      ],
      "execution_count": 0,
      "outputs": []
    },
    {
      "cell_type": "markdown",
      "metadata": {
        "id": "EgKftEGbHaMp",
        "colab_type": "text"
      },
      "source": [
        "# 03 : Analyze Data"
      ]
    },
    {
      "cell_type": "markdown",
      "metadata": {
        "id": "E82AjK9SHaMq",
        "colab_type": "text"
      },
      "source": [
        "Prepare the Features and Target variables.\n",
        "To analyze what is the shape of the feature set."
      ]
    },
    {
      "cell_type": "code",
      "metadata": {
        "id": "QvA35OFpuhiC",
        "colab_type": "code",
        "colab": {}
      },
      "source": [
        "plt.subplot(221)\n",
        "plt.imshow(x_train[0], cmap=plt.get_cmap('gray'))\n",
        "plt.subplot(222)\n",
        "plt.imshow(x_train[1], cmap=plt.get_cmap('gray'))\n",
        "plt.subplot(223)\n",
        "plt.imshow(x_train[2], cmap=plt.get_cmap('gray'))\n",
        "plt.subplot(224)\n",
        "plt.imshow(x_train[3], cmap=plt.get_cmap('gray'))\n",
        "# show the plot\n",
        "plt.show()"
      ],
      "execution_count": 0,
      "outputs": []
    },
    {
      "cell_type": "markdown",
      "metadata": {
        "id": "XHxKLkemHaMr",
        "colab_type": "text"
      },
      "source": [
        "Visualizing a random digit using the Matplotlib Library"
      ]
    },
    {
      "cell_type": "markdown",
      "metadata": {
        "id": "2JhFTfXnHaMy",
        "colab_type": "text"
      },
      "source": [
        "# 04 : Feature Engineering"
      ]
    },
    {
      "cell_type": "markdown",
      "metadata": {
        "id": "ztLVyxSnHaMy",
        "colab_type": "text"
      },
      "source": [
        "MNIST data is divided as follows:  \n",
        "- Train Data - First 60000 rows  \n",
        "- Test Data - Last 10000 rows  "
      ]
    },
    {
      "cell_type": "code",
      "metadata": {
        "id": "_Wq7FtYpHaMf",
        "colab_type": "code",
        "colab": {}
      },
      "source": [
        "# Reshaping the image to the size of the image i.e, 28 x 28\n",
        "\n",
        "num_pixels = x_train.shape[1] * x_train.shape[2]\n",
        "x_train = x_train.reshape(x_train.shape[0], num_pixels).astype('float32')\n",
        "x_test = x_test.reshape(x_test.shape[0], num_pixels).astype('float32')"
      ],
      "execution_count": 0,
      "outputs": []
    },
    {
      "cell_type": "code",
      "metadata": {
        "id": "dnslSUnKHaMk",
        "colab_type": "code",
        "colab": {}
      },
      "source": [
        "# Normalizing the pixel data\n",
        "\n",
        "x_train /= 255\n",
        "x_test /= 255"
      ],
      "execution_count": 0,
      "outputs": []
    },
    {
      "cell_type": "code",
      "metadata": {
        "id": "eaZBr2I7HaMm",
        "colab_type": "code",
        "colab": {}
      },
      "source": [
        "print('x_train shape:', x_train.shape)\n",
        "print(x_train.shape[0], 'train samples')\n",
        "print(x_test.shape[0], 'test samples')\n"
      ],
      "execution_count": 0,
      "outputs": []
    },
    {
      "cell_type": "code",
      "metadata": {
        "id": "nVUYY2CvwF8-",
        "colab_type": "code",
        "colab": {}
      },
      "source": [
        "# one hot encode outputs\n",
        "y_train = np_utils.to_categorical(y_train)\n",
        "y_test = np_utils.to_categorical(y_test)\n",
        "num_classes = y_test.shape[1]"
      ],
      "execution_count": 0,
      "outputs": []
    },
    {
      "cell_type": "code",
      "metadata": {
        "id": "ebaCBlCYTwZb",
        "colab_type": "code",
        "colab": {}
      },
      "source": [
        "num_classes"
      ],
      "execution_count": 0,
      "outputs": []
    },
    {
      "cell_type": "markdown",
      "metadata": {
        "id": "4wW8IjBwHaM3",
        "colab_type": "text"
      },
      "source": [
        "# 05 : Model Selection"
      ]
    },
    {
      "cell_type": "markdown",
      "metadata": {
        "id": "56yQfocjHaM5",
        "colab_type": "text"
      },
      "source": [
        "### Create the Baseline Model"
      ]
    },
    {
      "cell_type": "markdown",
      "metadata": {
        "id": "JAd20-sZHaM5",
        "colab_type": "text"
      },
      "source": [
        "Create the baseline model using seqeuential and dense from Keras module."
      ]
    },
    {
      "cell_type": "code",
      "metadata": {
        "id": "MS_VSSn_yHNT",
        "colab_type": "code",
        "colab": {}
      },
      "source": [
        "x_train.shape"
      ],
      "execution_count": 0,
      "outputs": []
    },
    {
      "cell_type": "code",
      "metadata": {
        "id": "_XTCUzuXD7i_",
        "colab_type": "code",
        "colab": {}
      },
      "source": [
        "from keras.layers import Conv2D\n",
        "from keras.layers import MaxPooling2D\n",
        "from keras.layers import Flatten"
      ],
      "execution_count": 0,
      "outputs": []
    },
    {
      "cell_type": "code",
      "metadata": {
        "id": "_4EmSHllHaM6",
        "colab_type": "code",
        "colab": {}
      },
      "source": [
        "from keras.layers.core import Dense, Dropout, Activation\n",
        "\n",
        "model = Sequential()\n",
        "model.add(Dense(512, input_shape=(784,)))\n",
        "model.add(Activation('relu'))                            \n",
        "\n",
        "model.add(Dense(512))\n",
        "model.add(Activation('relu'))\n",
        "\n",
        "model.add(Dense(10))\n",
        "model.add(Activation('softmax'))"
      ],
      "execution_count": 0,
      "outputs": []
    },
    {
      "cell_type": "code",
      "metadata": {
        "id": "N9EsMhVwVLG2",
        "colab_type": "code",
        "colab": {}
      },
      "source": [
        "model.compile(loss='categorical_crossentropy', metrics=['accuracy'], optimizer='adam')\n",
        "model.summary()"
      ],
      "execution_count": 0,
      "outputs": []
    },
    {
      "cell_type": "code",
      "metadata": {
        "id": "xobb03UrVd11",
        "colab_type": "code",
        "colab": {}
      },
      "source": [
        "x_train.shape"
      ],
      "execution_count": 0,
      "outputs": []
    },
    {
      "cell_type": "code",
      "metadata": {
        "id": "GlLCt2auVgDs",
        "colab_type": "code",
        "colab": {}
      },
      "source": [
        "y_train.shape"
      ],
      "execution_count": 0,
      "outputs": []
    },
    {
      "cell_type": "code",
      "metadata": {
        "id": "Rdt5JxBIHaM9",
        "colab_type": "code",
        "colab": {}
      },
      "source": [
        "# build the model\n",
        "# Fit the model\n",
        "model.fit(x_train, y_train, validation_data=(x_test, y_test), epochs=10, batch_size=200, verbose=2)\n"
      ],
      "execution_count": 0,
      "outputs": []
    },
    {
      "cell_type": "code",
      "metadata": {
        "id": "u41-r39oVFP6",
        "colab_type": "code",
        "colab": {}
      },
      "source": [
        "# Final evaluation of the model\n",
        "scores = model.evaluate(x_test, y_test, verbose=2)\n",
        "print(\"Baseline Error: %.2f%%\" % (100-scores[1]*100))"
      ],
      "execution_count": 0,
      "outputs": []
    },
    {
      "cell_type": "code",
      "metadata": {
        "id": "-cDkZB5H624d",
        "colab_type": "code",
        "colab": {}
      },
      "source": [
        "print('Test accuracy:', scores[1])"
      ],
      "execution_count": 0,
      "outputs": []
    },
    {
      "cell_type": "code",
      "metadata": {
        "id": "fDm4UAEjWVhB",
        "colab_type": "code",
        "colab": {}
      },
      "source": [
        "scores"
      ],
      "execution_count": 0,
      "outputs": []
    },
    {
      "cell_type": "markdown",
      "metadata": {
        "id": "OQ1xEehi7LEh",
        "colab_type": "text"
      },
      "source": [
        "<center><h1>The End</h1></center>"
      ]
    }
  ]
}