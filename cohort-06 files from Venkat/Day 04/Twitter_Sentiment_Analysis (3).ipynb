{
  "nbformat": 4,
  "nbformat_minor": 0,
  "metadata": {
    "colab": {
      "name": "Twitter_Sentiment_Analysis.ipynb",
      "version": "0.3.2",
      "provenance": [],
      "collapsed_sections": [
        "tzm0SgHAcyaV",
        "ET4Fn8TJcyaX",
        "CbdkRYxrcyak",
        "LxscakkRcyaz",
        "OwFkPP4Gcybm",
        "Xx62aifHcych"
      ]
    },
    "kernelspec": {
      "display_name": "Python 3",
      "language": "python",
      "name": "python3"
    }
  },
  "cells": [
    {
      "cell_type": "markdown",
      "metadata": {
        "id": "NdBt4a2wcyaR",
        "colab_type": "text"
      },
      "source": [
        "# Twitter Sentiment Analysis"
      ]
    },
    {
      "cell_type": "markdown",
      "metadata": {
        "id": "tzm0SgHAcyaV",
        "colab_type": "text"
      },
      "source": [
        "# 01 :Frame the Problem"
      ]
    },
    {
      "cell_type": "markdown",
      "metadata": {
        "id": "41zBgXJlcyaV",
        "colab_type": "text"
      },
      "source": [
        "#### Problem Statement Link :  https://datahack.analyticsvidhya.com/contest/practice-problem-twitter-sentiment-analysis/"
      ]
    },
    {
      "cell_type": "markdown",
      "metadata": {
        "id": "ET4Fn8TJcyaX",
        "colab_type": "text"
      },
      "source": [
        "# 02 :Obtain Data"
      ]
    },
    {
      "cell_type": "markdown",
      "metadata": {
        "id": "ARmL3nlKcyaX",
        "colab_type": "text"
      },
      "source": [
        "### Import Statements"
      ]
    },
    {
      "cell_type": "code",
      "metadata": {
        "id": "zEo9ffljNNcv",
        "colab_type": "code",
        "colab": {}
      },
      "source": [
        "!mkdir twitter\n",
        "%cd twitter\n",
        "!ls\n"
      ],
      "execution_count": 0,
      "outputs": []
    },
    {
      "cell_type": "code",
      "metadata": {
        "id": "mdHSpUOdcyaY",
        "colab_type": "code",
        "colab": {}
      },
      "source": [
        "!pip install missingno\n",
        "import numpy as np\n",
        "import pandas as pd\n",
        "import seaborn as sns\n",
        "import matplotlib.pyplot as plt\n",
        "import missingno as ms\n",
        "% matplotlib inline\n",
        "\n",
        "\n"
      ],
      "execution_count": 0,
      "outputs": []
    },
    {
      "cell_type": "markdown",
      "metadata": {
        "id": "zmylpZZccyae",
        "colab_type": "text"
      },
      "source": [
        "### Reading the Train Data"
      ]
    },
    {
      "cell_type": "code",
      "metadata": {
        "id": "B7Hy1OdMeogC",
        "colab_type": "code",
        "colab": {}
      },
      "source": [
        "!wget https://www.dropbox.com/s/p8fq1p6wan2g89a/train.csv -q"
      ],
      "execution_count": 0,
      "outputs": []
    },
    {
      "cell_type": "code",
      "metadata": {
        "id": "qwf7LwGJxFzt",
        "colab_type": "code",
        "colab": {}
      },
      "source": [
        "!ls -l"
      ],
      "execution_count": 0,
      "outputs": []
    },
    {
      "cell_type": "code",
      "metadata": {
        "id": "W7e7VXv1cyag",
        "colab_type": "code",
        "colab": {}
      },
      "source": [
        "train = pd.read_csv('train.csv')\n",
        "train.info()"
      ],
      "execution_count": 0,
      "outputs": []
    },
    {
      "cell_type": "code",
      "metadata": {
        "id": "JqMkpxEAucYU",
        "colab_type": "code",
        "colab": {}
      },
      "source": [
        "pd.set_option('max_colwidth', 240)"
      ],
      "execution_count": 0,
      "outputs": []
    },
    {
      "cell_type": "code",
      "metadata": {
        "id": "Fd7VARYLkXR9",
        "colab_type": "code",
        "colab": {}
      },
      "source": [
        "train.head()"
      ],
      "execution_count": 0,
      "outputs": []
    },
    {
      "cell_type": "markdown",
      "metadata": {
        "id": "CbdkRYxrcyak",
        "colab_type": "text"
      },
      "source": [
        "# 03 : Analyze Data"
      ]
    },
    {
      "cell_type": "code",
      "metadata": {
        "id": "QT2EJjDlcyal",
        "colab_type": "code",
        "colab": {}
      },
      "source": [
        "train.head(20)"
      ],
      "execution_count": 0,
      "outputs": []
    },
    {
      "cell_type": "code",
      "metadata": {
        "id": "1FZk81HnuRBE",
        "colab_type": "code",
        "colab": {}
      },
      "source": [
        "train.iloc[13]"
      ],
      "execution_count": 0,
      "outputs": []
    },
    {
      "cell_type": "code",
      "metadata": {
        "id": "xcU0_jJCcyap",
        "colab_type": "code",
        "colab": {}
      },
      "source": [
        "train['label'].value_counts()"
      ],
      "execution_count": 0,
      "outputs": []
    },
    {
      "cell_type": "code",
      "metadata": {
        "id": "JRB-IlTWcyau",
        "colab_type": "code",
        "colab": {}
      },
      "source": [
        "train[train['label']==1]['tweet'].head()"
      ],
      "execution_count": 0,
      "outputs": []
    },
    {
      "cell_type": "markdown",
      "metadata": {
        "id": "cyoEN8kNcyax",
        "colab_type": "text"
      },
      "source": [
        "## Label types\n",
        "-   0 : Normal\n",
        "-   1 : Hate"
      ]
    },
    {
      "cell_type": "markdown",
      "metadata": {
        "id": "LxscakkRcyaz",
        "colab_type": "text"
      },
      "source": [
        "# 05 : Model Selection ( 1st Iteration)"
      ]
    },
    {
      "cell_type": "markdown",
      "metadata": {
        "id": "ZO14sZhrcya3",
        "colab_type": "text"
      },
      "source": [
        "## RandomForest without Preprocessing of Text Data"
      ]
    },
    {
      "cell_type": "code",
      "metadata": {
        "id": "c6cW-MYEcya5",
        "colab_type": "code",
        "colab": {}
      },
      "source": [
        "#Building the model without preprocessing of data\n",
        "unprocessed_data = pd.read_csv('train.csv')"
      ],
      "execution_count": 0,
      "outputs": []
    },
    {
      "cell_type": "code",
      "metadata": {
        "id": "sWIpAIwkcya_",
        "colab_type": "code",
        "colab": {}
      },
      "source": [
        "from sklearn.model_selection import train_test_split\n",
        "\n",
        "\n",
        "#splitting the data into random train and test subsets\n",
        "X_train, X_test, y_train, y_test = train_test_split(unprocessed_data[\"tweet\"],\n",
        "                                                        unprocessed_data[\"label\"], \n",
        "                                                    test_size = 0.2, random_state = 42)"
      ],
      "execution_count": 0,
      "outputs": []
    },
    {
      "cell_type": "code",
      "metadata": {
        "id": "OKlor2vwcybC",
        "colab_type": "code",
        "colab": {}
      },
      "source": [
        "# Sequentialization of tasks\n",
        "from sklearn.pipeline import Pipeline\n",
        "\n",
        "#generating ngrams and tokens and Bagging\n",
        "from sklearn.feature_extraction.text import CountVectorizer, TfidfTransformer, TfidfVectorizer\n",
        "\n",
        "from sklearn.ensemble import RandomForestClassifier\n",
        "\n",
        "text_clf = Pipeline([('vect', CountVectorizer(stop_words='english')),\n",
        "                      ('tfidf', TfidfTransformer()),\n",
        "                     ('clf', RandomForestClassifier(n_estimators=50)),])"
      ],
      "execution_count": 0,
      "outputs": []
    },
    {
      "cell_type": "code",
      "metadata": {
        "id": "44UiE9uJcybG",
        "colab_type": "code",
        "colab": {}
      },
      "source": [
        "model = text_clf.fit(X_train,y_train)"
      ],
      "execution_count": 0,
      "outputs": []
    },
    {
      "cell_type": "code",
      "metadata": {
        "id": "BuSld_gicybJ",
        "colab_type": "code",
        "colab": {}
      },
      "source": [
        "predicted = model.predict(X_test)"
      ],
      "execution_count": 0,
      "outputs": []
    },
    {
      "cell_type": "code",
      "metadata": {
        "id": "AP9mNIPLcybQ",
        "colab_type": "code",
        "colab": {}
      },
      "source": [
        "from sklearn.metrics import precision_score,recall_score,f1_score, accuracy_score, confusion_matrix"
      ],
      "execution_count": 0,
      "outputs": []
    },
    {
      "cell_type": "code",
      "metadata": {
        "id": "Hl9X8LfE-bmh",
        "colab_type": "code",
        "colab": {}
      },
      "source": [
        "confusion_matrix(y_test,predicted)"
      ],
      "execution_count": 0,
      "outputs": []
    },
    {
      "cell_type": "code",
      "metadata": {
        "id": "nyRyVCpOcybX",
        "colab_type": "code",
        "colab": {}
      },
      "source": [
        "accuracy_score(y_test,predicted)"
      ],
      "execution_count": 0,
      "outputs": []
    },
    {
      "cell_type": "code",
      "metadata": {
        "id": "gC4FA0B16Q46",
        "colab_type": "code",
        "colab": {}
      },
      "source": [
        "precision_score(y_test,predicted)"
      ],
      "execution_count": 0,
      "outputs": []
    },
    {
      "cell_type": "code",
      "metadata": {
        "id": "jR6qcZrbcybd",
        "colab_type": "code",
        "colab": {}
      },
      "source": [
        "recall_score(y_test,predicted)"
      ],
      "execution_count": 0,
      "outputs": []
    },
    {
      "cell_type": "code",
      "metadata": {
        "id": "93wsrfhkcybh",
        "colab_type": "code",
        "colab": {}
      },
      "source": [
        "f1_score(y_test,predicted)"
      ],
      "execution_count": 0,
      "outputs": []
    },
    {
      "cell_type": "markdown",
      "metadata": {
        "id": "OwFkPP4Gcybm",
        "colab_type": "text"
      },
      "source": [
        "# 04 and 05 : Feature Engineering and Model Selection (2nd Iteration)"
      ]
    },
    {
      "cell_type": "markdown",
      "metadata": {
        "id": "47IjHacjcybn",
        "colab_type": "text"
      },
      "source": [
        "Preprocessing of Text data is very important for Textual Analysis. Tokenization, Feature Extraction (Vectorization) are the most important techniques in Scikit-Learn. \n",
        "The text must be parsed to extract words, called tokenization. Then the words need to be encoded as integers or floating point values for use as input to a machine learning algorithm, called feature extraction (or vectorization).\n"
      ]
    },
    {
      "cell_type": "code",
      "metadata": {
        "id": "Gix7KnZTcybp",
        "colab_type": "code",
        "colab": {}
      },
      "source": [
        "#regular expression \n",
        "import re \n",
        "\n",
        "#regular expression for the removal of name tags and the emoticons from tweets.\n",
        "def process_tweet(tweet):\n",
        "    return \" \".join(re.sub(\"(@[A-Za-z0-9]+)|([^0-9A-Za-z \\t])\", \" \",tweet.lower()).split())"
      ],
      "execution_count": 0,
      "outputs": []
    },
    {
      "cell_type": "code",
      "metadata": {
        "id": "ku256IDFcybs",
        "colab_type": "code",
        "colab": {}
      },
      "source": [
        "#Dropping of columns from pd\n",
        "def drop_features(features,data):\n",
        "    data.drop(features,inplace=True,axis=1)"
      ],
      "execution_count": 0,
      "outputs": []
    },
    {
      "cell_type": "code",
      "metadata": {
        "id": "OhfPruW_cybv",
        "colab_type": "code",
        "colab": {}
      },
      "source": [
        "#Applying the Process_tweet function to the given Train Data\n",
        "train['processed_tweets'] = train['tweet'].apply(process_tweet)"
      ],
      "execution_count": 0,
      "outputs": []
    },
    {
      "cell_type": "code",
      "metadata": {
        "id": "fIFHG0sHcyby",
        "colab_type": "code",
        "colab": {}
      },
      "source": [
        "train.head()"
      ],
      "execution_count": 0,
      "outputs": []
    },
    {
      "cell_type": "code",
      "metadata": {
        "id": "TPBOZpkmcyb1",
        "colab_type": "code",
        "colab": {}
      },
      "source": [
        "train[train['label']==1].head(20)"
      ],
      "execution_count": 0,
      "outputs": []
    },
    {
      "cell_type": "code",
      "metadata": {
        "id": "8sKtJXnWcyb4",
        "colab_type": "code",
        "colab": {}
      },
      "source": [
        "drop_features(['id','tweet'],train)"
      ],
      "execution_count": 0,
      "outputs": []
    },
    {
      "cell_type": "code",
      "metadata": {
        "id": "5IicKPahcyb8",
        "colab_type": "code",
        "colab": {}
      },
      "source": [
        "train.head()"
      ],
      "execution_count": 0,
      "outputs": []
    },
    {
      "cell_type": "code",
      "metadata": {
        "id": "iUs7ij12cycA",
        "colab_type": "code",
        "colab": {}
      },
      "source": [
        "#splitting the data into random train and test subsets\n",
        "x_train, x_test, y_train, y_test = train_test_split(train[\"processed_tweets\"],train[\"label\"],\n",
        "                                                    test_size = 0.2, random_state = 42)"
      ],
      "execution_count": 0,
      "outputs": []
    },
    {
      "cell_type": "markdown",
      "metadata": {
        "id": "ppnpLomfcycD",
        "colab_type": "text"
      },
      "source": [
        "Pipeline : Sequentially apply a list of transforms and a final estimator. Intermediate steps of the pipeline must be ‘transforms’, that is, they must implement fit and transform methods. The final estimator only needs to implement fit. "
      ]
    },
    {
      "cell_type": "code",
      "metadata": {
        "id": "ILSy_zy-cycG",
        "colab_type": "code",
        "colab": {}
      },
      "source": [
        "text_clf = Pipeline([('vect', CountVectorizer(stop_words='english')),\n",
        "                      ('tfidf', TfidfTransformer()),\n",
        "                     ('clf', RandomForestClassifier(n_estimators=200)),])\n",
        "text = text_clf.fit(x_train,y_train)"
      ],
      "execution_count": 0,
      "outputs": []
    },
    {
      "cell_type": "code",
      "metadata": {
        "id": "ErVvXOqkcycK",
        "colab_type": "code",
        "colab": {}
      },
      "source": [
        "predicted = text.predict(x_test)"
      ],
      "execution_count": 0,
      "outputs": []
    },
    {
      "cell_type": "code",
      "metadata": {
        "id": "uv3YZCOEcycO",
        "colab_type": "code",
        "colab": {}
      },
      "source": [
        "from sklearn.metrics import confusion_matrix, classification_report,precision_score"
      ],
      "execution_count": 0,
      "outputs": []
    },
    {
      "cell_type": "code",
      "metadata": {
        "id": "P0rDhze8cycW",
        "colab_type": "code",
        "colab": {}
      },
      "source": [
        "cm_m = confusion_matrix(y_test,predicted)\n",
        "cm_m"
      ],
      "execution_count": 0,
      "outputs": []
    },
    {
      "cell_type": "code",
      "metadata": {
        "id": "y5G_beLH3NPF",
        "colab_type": "code",
        "colab": {}
      },
      "source": [
        "TN, FP = cm_m[0]\n",
        "FN, TP = cm_m[1]"
      ],
      "execution_count": 0,
      "outputs": []
    },
    {
      "cell_type": "code",
      "metadata": {
        "id": "RsIU_dO73WOj",
        "colab_type": "code",
        "colab": {}
      },
      "source": [
        "TP"
      ],
      "execution_count": 0,
      "outputs": []
    },
    {
      "cell_type": "code",
      "metadata": {
        "id": "pyZgRKJB43Yr",
        "colab_type": "code",
        "colab": {}
      },
      "source": [
        "float(TN+TP)/(TN+TP+FN+FP)"
      ],
      "execution_count": 0,
      "outputs": []
    },
    {
      "cell_type": "code",
      "metadata": {
        "id": "eLPHotjvRkFc",
        "colab_type": "code",
        "colab": {}
      },
      "source": [
        "p = TP/(TP+FP)\n",
        "p"
      ],
      "execution_count": 0,
      "outputs": []
    },
    {
      "cell_type": "code",
      "metadata": {
        "id": "mbhuq7iscyca",
        "colab_type": "code",
        "colab": {}
      },
      "source": [
        "precision_score(y_test,predicted)"
      ],
      "execution_count": 0,
      "outputs": []
    },
    {
      "cell_type": "code",
      "metadata": {
        "id": "R289nYn8R0Tg",
        "colab_type": "code",
        "colab": {}
      },
      "source": [
        "r = TP/(FN+TP)\n",
        "r"
      ],
      "execution_count": 0,
      "outputs": []
    },
    {
      "cell_type": "code",
      "metadata": {
        "id": "XsUDNFfUcyce",
        "colab_type": "code",
        "colab": {}
      },
      "source": [
        "recall_score(y_test,predicted)"
      ],
      "execution_count": 0,
      "outputs": []
    },
    {
      "cell_type": "code",
      "metadata": {
        "id": "J6nnay9jR7pO",
        "colab_type": "code",
        "colab": {}
      },
      "source": [
        "f1 = 2*p*r/(p+r)\n",
        "f1"
      ],
      "execution_count": 0,
      "outputs": []
    },
    {
      "cell_type": "code",
      "metadata": {
        "id": "8sDAeurqcycS",
        "colab_type": "code",
        "colab": {}
      },
      "source": [
        "f1_score(y_test,predicted)"
      ],
      "execution_count": 0,
      "outputs": []
    },
    {
      "cell_type": "markdown",
      "metadata": {
        "id": "Xx62aifHcych",
        "colab_type": "text"
      },
      "source": [
        "# 04 and 05 : Feature Engineering and Model Selection (3rd Iteration)"
      ]
    },
    {
      "cell_type": "code",
      "metadata": {
        "id": "zA5IBXItcyci",
        "colab_type": "code",
        "colab": {}
      },
      "source": [
        "\n",
        "count_vect = CountVectorizer(stop_words='english',ngram_range=(1,3),analyzer='word')\n",
        "transformer = TfidfTransformer(norm='l2',sublinear_tf=True)"
      ],
      "execution_count": 0,
      "outputs": []
    },
    {
      "cell_type": "code",
      "metadata": {
        "id": "Zf0Ff6BZcycl",
        "colab_type": "code",
        "colab": {}
      },
      "source": [
        "#splitting the data into random train and test subsets\n",
        "x_train, x_test, y_train, y_test = train_test_split(train[\"processed_tweets\"],train[\"label\"],\n",
        "                                                    test_size = 0.2, random_state = 42)\n",
        "\n",
        "x_train_counts = count_vect.fit_transform(x_train)\n",
        "x_train_tfidf = transformer.fit_transform(x_train_counts)\n",
        "x_test_counts = count_vect.transform(x_test)\n",
        "x_test_tfidf = transformer.transform(x_test_counts)"
      ],
      "execution_count": 0,
      "outputs": []
    },
    {
      "cell_type": "code",
      "metadata": {
        "id": "uazetEyTcycq",
        "colab_type": "code",
        "colab": {}
      },
      "source": [
        "print(x_train_counts.shape)\n",
        "print(x_train_tfidf.shape)\n",
        "print(x_test_counts.shape)\n",
        "print(x_test_tfidf.shape)"
      ],
      "execution_count": 0,
      "outputs": []
    },
    {
      "cell_type": "code",
      "metadata": {
        "id": "OL_yxN9Gcycv",
        "colab_type": "code",
        "colab": {}
      },
      "source": [
        "from sklearn.linear_model import SGDClassifier\n",
        "\n",
        "model = SGDClassifier(loss=\"modified_huber\", penalty=\"l1\")\n",
        "model.fit(x_train_tfidf,y_train)\n",
        "predictions = model.predict(x_test_tfidf)"
      ],
      "execution_count": 0,
      "outputs": []
    },
    {
      "cell_type": "code",
      "metadata": {
        "id": "oZjcEFlacyc0",
        "colab_type": "code",
        "colab": {}
      },
      "source": [
        "f1_score(y_test,predictions)"
      ],
      "execution_count": 0,
      "outputs": []
    },
    {
      "cell_type": "code",
      "metadata": {
        "id": "F7FL95xSCRiz",
        "colab_type": "code",
        "colab": {}
      },
      "source": [
        "recall_score(y_test,predictions)"
      ],
      "execution_count": 0,
      "outputs": []
    },
    {
      "cell_type": "code",
      "metadata": {
        "id": "WKgx4J3VCRWy",
        "colab_type": "code",
        "colab": {}
      },
      "source": [
        "precision_score(y_test,predictions)"
      ],
      "execution_count": 0,
      "outputs": []
    },
    {
      "cell_type": "code",
      "metadata": {
        "id": "uOJfC-TQCRKS",
        "colab_type": "code",
        "colab": {}
      },
      "source": [
        "f1_score(y_test,predictions)"
      ],
      "execution_count": 0,
      "outputs": []
    },
    {
      "cell_type": "markdown",
      "metadata": {
        "id": "nGzaxQ4ccyc3",
        "colab_type": "text"
      },
      "source": [
        "# 05 : Model Selection"
      ]
    },
    {
      "cell_type": "code",
      "metadata": {
        "id": "C2HWZTTjcyc5",
        "colab_type": "code",
        "colab": {}
      },
      "source": [
        "#different classification modesls being used\n",
        "from sklearn.svm import LinearSVC\n",
        "\n",
        "model_svc = LinearSVC(C=2.0,max_iter=500,tol=0.0001,loss ='hinge')\n",
        "model_svc.fit(x_train_counts,y_train)"
      ],
      "execution_count": 0,
      "outputs": []
    },
    {
      "cell_type": "code",
      "metadata": {
        "id": "b_LTy4q4cyc_",
        "colab_type": "code",
        "colab": {}
      },
      "source": [
        "predict_svc = model_svc.predict(x_test_counts)"
      ],
      "execution_count": 0,
      "outputs": []
    },
    {
      "cell_type": "code",
      "metadata": {
        "id": "qnYwAU5DcydC",
        "colab_type": "code",
        "colab": {}
      },
      "source": [
        "f1_score(y_test,predict_svc)"
      ],
      "execution_count": 0,
      "outputs": []
    },
    {
      "cell_type": "code",
      "metadata": {
        "id": "L4DupaqjChEM",
        "colab_type": "code",
        "colab": {}
      },
      "source": [
        "recall_score(y_test,predict_svc)"
      ],
      "execution_count": 0,
      "outputs": []
    },
    {
      "cell_type": "markdown",
      "metadata": {
        "id": "PTMPadzBcydM",
        "colab_type": "text"
      },
      "source": [
        "# 06 : Tune the Model"
      ]
    },
    {
      "cell_type": "code",
      "metadata": {
        "id": "GrYMEX1rcydN",
        "colab_type": "code",
        "colab": {}
      },
      "source": [
        "\n",
        "#optimizing parameters\n",
        "from sklearn.model_selection import GridSearchCV\n",
        "\n",
        "\n",
        "params = {\"tfidf__ngram_range\": [(1, 2), (1,3), (1,4)],\n",
        "          \"svc__C\": [.01, .1, 1, 10, 100]}\n",
        "\n",
        "clf = Pipeline([(\"tfidf\", TfidfVectorizer(sublinear_tf=True)),\n",
        "                (\"svc\", LinearSVC(loss='hinge'))])\n",
        "\n",
        "gs = GridSearchCV(clf, params, verbose=4, n_jobs=-1)\n",
        "gs.fit(x_train,y_train)\n",
        "print(\"Best Estimator = \", gs.best_estimator_)\n",
        "print(\"Best Score = \",gs.best_score_)"
      ],
      "execution_count": 0,
      "outputs": []
    },
    {
      "cell_type": "code",
      "metadata": {
        "id": "dwYFNF0ccydQ",
        "colab_type": "code",
        "colab": {}
      },
      "source": [
        "predicted = gs.predict(x_test)\n"
      ],
      "execution_count": 0,
      "outputs": []
    },
    {
      "cell_type": "code",
      "metadata": {
        "id": "RcIFAblxcydU",
        "colab_type": "code",
        "colab": {}
      },
      "source": [
        "predicted"
      ],
      "execution_count": 0,
      "outputs": []
    },
    {
      "cell_type": "code",
      "metadata": {
        "id": "JD6u-vtNcydY",
        "colab_type": "code",
        "colab": {}
      },
      "source": [
        "f1_score(y_test,predicted)"
      ],
      "execution_count": 0,
      "outputs": []
    },
    {
      "cell_type": "code",
      "metadata": {
        "id": "lDzYhR4LGC1O",
        "colab_type": "code",
        "colab": {}
      },
      "source": [
        "recall_score(y_test,predicted)"
      ],
      "execution_count": 0,
      "outputs": []
    },
    {
      "cell_type": "code",
      "metadata": {
        "id": "Rmlfhm1CGCsm",
        "colab_type": "code",
        "colab": {}
      },
      "source": [
        "precision_score(y_test,predicted)"
      ],
      "execution_count": 0,
      "outputs": []
    },
    {
      "cell_type": "markdown",
      "metadata": {
        "id": "DEspfC2rcydf",
        "colab_type": "text"
      },
      "source": [
        "# 07 : Predict on new cases"
      ]
    },
    {
      "cell_type": "code",
      "metadata": {
        "id": "U7vEEfaAfPUR",
        "colab_type": "code",
        "colab": {}
      },
      "source": [
        "!wget https://www.dropbox.com/s/as2y6lpjsh6284l/test.csv"
      ],
      "execution_count": 0,
      "outputs": []
    },
    {
      "cell_type": "code",
      "metadata": {
        "id": "5-gLZQBUcydg",
        "colab_type": "code",
        "colab": {}
      },
      "source": [
        "submission = pd.read_csv('test.csv')\n",
        "submission.info()"
      ],
      "execution_count": 0,
      "outputs": []
    },
    {
      "cell_type": "code",
      "metadata": {
        "id": "MR_4JhdGcydj",
        "colab_type": "code",
        "colab": {}
      },
      "source": [
        "submission['processed_tweet'] = submission['tweet'].apply(process_tweet)"
      ],
      "execution_count": 0,
      "outputs": []
    },
    {
      "cell_type": "code",
      "metadata": {
        "id": "87TJQBwBcydp",
        "colab_type": "code",
        "colab": {}
      },
      "source": [
        "submission.head()"
      ],
      "execution_count": 0,
      "outputs": []
    },
    {
      "cell_type": "code",
      "metadata": {
        "id": "uZIrcv-Vcyds",
        "colab_type": "code",
        "colab": {}
      },
      "source": [
        "drop_features(['tweet'],submission)"
      ],
      "execution_count": 0,
      "outputs": []
    },
    {
      "cell_type": "code",
      "metadata": {
        "id": "xrBlYyEXcydw",
        "colab_type": "code",
        "colab": {}
      },
      "source": [
        "submission.head()"
      ],
      "execution_count": 0,
      "outputs": []
    },
    {
      "cell_type": "code",
      "metadata": {
        "id": "wNdl88jMcyd2",
        "colab_type": "code",
        "colab": {}
      },
      "source": [
        "predicted = gs.predict(submission['processed_tweet'])"
      ],
      "execution_count": 0,
      "outputs": []
    },
    {
      "cell_type": "code",
      "metadata": {
        "id": "rtvZBhVacyd8",
        "colab_type": "code",
        "colab": {}
      },
      "source": [
        "predicted"
      ],
      "execution_count": 0,
      "outputs": []
    },
    {
      "cell_type": "code",
      "metadata": {
        "id": "Ooq33e_zcyeA",
        "colab_type": "code",
        "colab": {}
      },
      "source": [
        "final_predict = pd.DataFrame(predicted,columns=['label'])\n",
        "result = pd.DataFrame(submission['id'],columns=['id'])\n",
        "result = pd.concat([result,final_predict],axis=1)\n",
        "result.to_csv('final_predictions.csv',index=False)"
      ],
      "execution_count": 0,
      "outputs": []
    },
    {
      "cell_type": "code",
      "metadata": {
        "id": "5EOBhV-gcyeD",
        "colab_type": "code",
        "colab": {}
      },
      "source": [
        "result['label'].value_counts()"
      ],
      "execution_count": 0,
      "outputs": []
    },
    {
      "cell_type": "code",
      "metadata": {
        "id": "HQrRoUiTRg5T",
        "colab_type": "code",
        "colab": {}
      },
      "source": [
        ""
      ],
      "execution_count": 0,
      "outputs": []
    }
  ]
}