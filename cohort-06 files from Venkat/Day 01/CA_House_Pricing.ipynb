{
  "nbformat": 4,
  "nbformat_minor": 0,
  "metadata": {
    "colab": {
      "name": "CA House Pricing.ipynb",
      "version": "0.3.2",
      "provenance": []
    },
    "kernelspec": {
      "display_name": "Python 3",
      "language": "python",
      "name": "python3"
    }
  },
  "cells": [
    {
      "metadata": {
        "id": "QsxZObkvIQiN",
        "colab_type": "text"
      },
      "cell_type": "markdown",
      "source": [
        "# California House Pricing"
      ]
    },
    {
      "metadata": {
        "id": "b3wPyh0FIQiP",
        "colab_type": "text"
      },
      "cell_type": "markdown",
      "source": [
        "## 01: Framing the problem"
      ]
    },
    {
      "metadata": {
        "id": "-9YP40obIQiQ",
        "colab_type": "text"
      },
      "cell_type": "markdown",
      "source": [
        "Build a model of housing prices in California using the Calidornia census data. This data has metrics such as the population, median income, median housing price, and so on for each block group in California. Block groups are the smallest geographical unit for which the US Census Bureau publishes sample data."
      ]
    },
    {
      "metadata": {
        "id": "tpJtiLZLIQiR",
        "colab_type": "text"
      },
      "cell_type": "markdown",
      "source": [
        "## 02 : Obtain Data"
      ]
    },
    {
      "metadata": {
        "id": "uiSKDZjrIQiS",
        "colab_type": "text"
      },
      "cell_type": "markdown",
      "source": [
        "#### Importing the basic required libraries"
      ]
    },
    {
      "metadata": {
        "id": "a7bMQbVC6FTj",
        "colab_type": "code",
        "colab": {}
      },
      "cell_type": "code",
      "source": [
        "!pip install missingno"
      ],
      "execution_count": 0,
      "outputs": []
    },
    {
      "metadata": {
        "id": "qJTV6iJBIQiS",
        "colab_type": "code",
        "colab": {}
      },
      "cell_type": "code",
      "source": [
        "import numpy as np\n",
        "import pandas as pd\n",
        "import seaborn as sns\n",
        "import matplotlib.pyplot as plt\n",
        "import missingno as ms\n",
        "%matplotlib inline"
      ],
      "execution_count": 0,
      "outputs": []
    },
    {
      "metadata": {
        "id": "_kOheGgHIQiW",
        "colab_type": "text"
      },
      "cell_type": "markdown",
      "source": [
        "#### Reading the data from CSV file"
      ]
    },
    {
      "metadata": {
        "id": "WydZ3RFMUyNH",
        "colab_type": "code",
        "colab": {}
      },
      "cell_type": "code",
      "source": [
        "!ls -l"
      ],
      "execution_count": 0,
      "outputs": []
    },
    {
      "metadata": {
        "id": "ngeYqfwVU7RG",
        "colab_type": "code",
        "colab": {}
      },
      "cell_type": "code",
      "source": [
        "!wget https://www.dropbox.com/s/x4lk7tftrij2psh/housing.csv"
      ],
      "execution_count": 0,
      "outputs": []
    },
    {
      "metadata": {
        "id": "88Gzn-FJdhI0",
        "colab_type": "code",
        "colab": {}
      },
      "cell_type": "code",
      "source": [
        "!ls -l"
      ],
      "execution_count": 0,
      "outputs": []
    },
    {
      "metadata": {
        "id": "DvTY7HZyIQiY",
        "colab_type": "code",
        "colab": {}
      },
      "cell_type": "code",
      "source": [
        "housing_data = pd.read_csv('housing.csv')"
      ],
      "execution_count": 0,
      "outputs": []
    },
    {
      "metadata": {
        "id": "Q5T7A26YVrZ9",
        "colab_type": "code",
        "colab": {}
      },
      "cell_type": "code",
      "source": [
        "housing_data.head()"
      ],
      "execution_count": 0,
      "outputs": []
    },
    {
      "metadata": {
        "id": "SwSU8rub6bTX",
        "colab_type": "code",
        "colab": {}
      },
      "cell_type": "code",
      "source": [
        "housing_data.info()"
      ],
      "execution_count": 0,
      "outputs": []
    },
    {
      "metadata": {
        "id": "iQPVSI-hnSXO",
        "colab_type": "code",
        "colab": {}
      },
      "cell_type": "code",
      "source": [
        "housing_data.isnull().sum()"
      ],
      "execution_count": 0,
      "outputs": []
    },
    {
      "metadata": {
        "id": "andsVqJpIQib",
        "colab_type": "text"
      },
      "cell_type": "markdown",
      "source": [
        "## 03 : Analyze Data"
      ]
    },
    {
      "metadata": {
        "id": "Or3enDV4IQib",
        "colab_type": "text"
      },
      "cell_type": "markdown",
      "source": [
        "#### Obtaining a glimpse of data"
      ]
    },
    {
      "metadata": {
        "id": "j2StS4r5IQic",
        "colab_type": "code",
        "colab": {}
      },
      "cell_type": "code",
      "source": [
        "housing_data.info()"
      ],
      "execution_count": 0,
      "outputs": []
    },
    {
      "metadata": {
        "id": "wf2tdNU0IQii",
        "colab_type": "code",
        "colab": {}
      },
      "cell_type": "code",
      "source": [
        "housing_data.head()"
      ],
      "execution_count": 0,
      "outputs": []
    },
    {
      "metadata": {
        "id": "ApjgNx7wIQil",
        "colab_type": "code",
        "colab": {}
      },
      "cell_type": "code",
      "source": [
        "housing_data.tail()"
      ],
      "execution_count": 0,
      "outputs": []
    },
    {
      "metadata": {
        "id": "_nXiqpJSIQip",
        "colab_type": "code",
        "colab": {}
      },
      "cell_type": "code",
      "source": [
        "housing_data.describe()"
      ],
      "execution_count": 0,
      "outputs": []
    },
    {
      "metadata": {
        "id": "27PtaVp2IQis",
        "colab_type": "text"
      },
      "cell_type": "markdown",
      "source": [
        "#### Generating a Correlation heatmap"
      ]
    },
    {
      "metadata": {
        "id": "MLiMyNb9IQit",
        "colab_type": "code",
        "colab": {}
      },
      "cell_type": "code",
      "source": [
        "corr = housing_data.corr()\n",
        "sns.heatmap(corr, xticklabels=corr.columns.values, yticklabels=corr.columns.values)"
      ],
      "execution_count": 0,
      "outputs": []
    },
    {
      "metadata": {
        "id": "tDInmWoEIQiw",
        "colab_type": "code",
        "colab": {}
      },
      "cell_type": "code",
      "source": [
        "corr['median_house_value']"
      ],
      "execution_count": 0,
      "outputs": []
    },
    {
      "metadata": {
        "id": "raOyE4-GIQi0",
        "colab_type": "text"
      },
      "cell_type": "markdown",
      "source": [
        "#### Generating a StripPlot heatmap"
      ]
    },
    {
      "metadata": {
        "id": "9yY3PEIS2QVq",
        "colab_type": "code",
        "colab": {}
      },
      "cell_type": "code",
      "source": [
        "housing_data['ocean_proximity'].value_counts()"
      ],
      "execution_count": 0,
      "outputs": []
    },
    {
      "metadata": {
        "id": "wHIebHjuIQi1",
        "colab_type": "code",
        "colab": {}
      },
      "cell_type": "code",
      "source": [
        "housing_data['ocean_proximity'].unique()"
      ],
      "execution_count": 0,
      "outputs": []
    },
    {
      "metadata": {
        "id": "r1L9QUd0IQi6",
        "colab_type": "code",
        "colab": {}
      },
      "cell_type": "code",
      "source": [
        "sns.stripplot(x=\"ocean_proximity\", y=\"median_house_value\", data=housing_data)"
      ],
      "execution_count": 0,
      "outputs": []
    },
    {
      "metadata": {
        "id": "Iv_o3-u_IQi9",
        "colab_type": "code",
        "colab": {}
      },
      "cell_type": "code",
      "source": [
        "housing = housing_data.copy()"
      ],
      "execution_count": 0,
      "outputs": []
    },
    {
      "metadata": {
        "id": "ktb_pwwmIQi_",
        "colab_type": "code",
        "colab": {}
      },
      "cell_type": "code",
      "source": [
        "housing.plot(kind=\"scatter\", x=\"longitude\", y=\"latitude\")"
      ],
      "execution_count": 0,
      "outputs": []
    },
    {
      "metadata": {
        "id": "pL3sU-7QIQjD",
        "colab_type": "code",
        "colab": {}
      },
      "cell_type": "code",
      "source": [
        "housing.plot(kind=\"scatter\", x=\"longitude\", y=\"latitude\",alpha=0.1)"
      ],
      "execution_count": 0,
      "outputs": []
    },
    {
      "metadata": {
        "id": "dl7PMVG6IQjG",
        "colab_type": "code",
        "colab": {}
      },
      "cell_type": "code",
      "source": [
        "fig = plt.figure(figsize=(12,6))\n",
        "ax1 = fig.add_subplot(121)\n",
        "ax2 = fig.add_subplot(122)\n",
        "ax1.scatter(housing['longitude'], housing['latitude'])\n",
        "ax2.scatter(housing['longitude'], housing['latitude'], alpha=0.1)\n",
        "plt.show()"
      ],
      "execution_count": 0,
      "outputs": []
    },
    {
      "metadata": {
        "id": "wa93YmPzIQjI",
        "colab_type": "code",
        "colab": {}
      },
      "cell_type": "code",
      "source": [
        "# from pandas.tools.plotting import scatter_matrix # For older versions of Pandas\n",
        "from pandas.plotting import scatter_matrix\n",
        "\n",
        "attributes = [\"median_house_value\", \"median_income\", \"total_rooms\",\n",
        "              \"housing_median_age\"]\n",
        "scatter_matrix(housing[attributes], figsize=(12, 8))"
      ],
      "execution_count": 0,
      "outputs": []
    },
    {
      "metadata": {
        "id": "T2MdXk4HIQjM",
        "colab_type": "code",
        "colab": {}
      },
      "cell_type": "code",
      "source": [
        "%matplotlib inline\n",
        "import matplotlib.pyplot as plt\n",
        "housing.hist(bins=25, figsize=(20,15))\n",
        "plt.show()"
      ],
      "execution_count": 0,
      "outputs": []
    },
    {
      "metadata": {
        "id": "Ijd10DU9IQjO",
        "colab_type": "text"
      },
      "cell_type": "markdown",
      "source": [
        "## 04 : Feature Engineering"
      ]
    },
    {
      "metadata": {
        "id": "7surbD5mIQjP",
        "colab_type": "text"
      },
      "cell_type": "markdown",
      "source": [
        "#### Fill the missing values in the obtained data"
      ]
    },
    {
      "metadata": {
        "id": "8VZ0ZdtCIQjQ",
        "colab_type": "code",
        "colab": {}
      },
      "cell_type": "code",
      "source": [
        "ms.matrix(housing_data)\n",
        "\n",
        "#Visualize the data to see if there are any missing values"
      ],
      "execution_count": 0,
      "outputs": []
    },
    {
      "metadata": {
        "id": "9_UrdHToIQjR",
        "colab_type": "code",
        "colab": {}
      },
      "cell_type": "code",
      "source": [
        "#Fill the missing values\n",
        "housing_data['total_bedrooms'].fillna(housing_data['total_bedrooms'].mean(), inplace=True)"
      ],
      "execution_count": 0,
      "outputs": []
    },
    {
      "metadata": {
        "id": "gVNSxx4ZIQjX",
        "colab_type": "code",
        "colab": {}
      },
      "cell_type": "code",
      "source": [
        "import math\n",
        "housing_data['total_bedrooms'] = list(map(math.ceil,(housing_data['total_bedrooms'])))"
      ],
      "execution_count": 0,
      "outputs": []
    },
    {
      "metadata": {
        "id": "EoCtd2FLIQjc",
        "colab_type": "code",
        "colab": {}
      },
      "cell_type": "code",
      "source": [
        "ms.matrix(housing_data)"
      ],
      "execution_count": 0,
      "outputs": []
    },
    {
      "metadata": {
        "id": "3Glu4yckIQjd",
        "colab_type": "text"
      },
      "cell_type": "markdown",
      "source": [
        "### Categorical value conversion"
      ]
    },
    {
      "metadata": {
        "id": "VPmapCwvIQje",
        "colab_type": "code",
        "colab": {}
      },
      "cell_type": "code",
      "source": [
        "#get_dummies() is used to convert the 'ocean_proximity', a column with categorical values, into numerical values\n",
        "df = pd.get_dummies(housing_data['ocean_proximity'], drop_first=1)\n",
        "df.head()"
      ],
      "execution_count": 0,
      "outputs": []
    },
    {
      "metadata": {
        "id": "NC-TqGJ2IQjg",
        "colab_type": "code",
        "colab": {}
      },
      "cell_type": "code",
      "source": [
        "#concatinating the dataframe with dummy columns of 'ocean_proximity' to housing_data\n",
        "housing_data = pd.concat([housing_data, df], axis=1)\n",
        "housing_data.head()"
      ],
      "execution_count": 0,
      "outputs": []
    },
    {
      "metadata": {
        "id": "zYyVHHdh6QtA",
        "colab_type": "code",
        "colab": {}
      },
      "cell_type": "code",
      "source": [
        "housing_data.tail()"
      ],
      "execution_count": 0,
      "outputs": []
    },
    {
      "metadata": {
        "id": "YpmVL5ccIQjj",
        "colab_type": "code",
        "colab": {}
      },
      "cell_type": "code",
      "source": [
        "#Since we have created dummy columns for 'ocean_proximity', we are dropping the column\n",
        "housing_data.drop('ocean_proximity', inplace=True, axis=1)\n",
        "housing_data.info()"
      ],
      "execution_count": 0,
      "outputs": []
    },
    {
      "metadata": {
        "id": "IAHNTUG7IQjm",
        "colab_type": "code",
        "colab": {}
      },
      "cell_type": "code",
      "source": [
        "#dataframe.columns returns a list of all the columns in the dataframe\n",
        "housing_data.columns"
      ],
      "execution_count": 0,
      "outputs": []
    },
    {
      "metadata": {
        "id": "PCjF5oxmIQjo",
        "colab_type": "text"
      },
      "cell_type": "markdown",
      "source": [
        "## 05 : Model Selection"
      ]
    },
    {
      "metadata": {
        "id": "-y3bZ_SpIQjr",
        "colab_type": "text"
      },
      "cell_type": "markdown",
      "source": [
        "### Train-Test Split"
      ]
    },
    {
      "metadata": {
        "id": "IJYHDrNsIQjs",
        "colab_type": "code",
        "colab": {}
      },
      "cell_type": "code",
      "source": [
        "from sklearn.model_selection import train_test_split"
      ],
      "execution_count": 0,
      "outputs": []
    },
    {
      "metadata": {
        "id": "5gSBN3zpIQjx",
        "colab_type": "code",
        "colab": {}
      },
      "cell_type": "code",
      "source": [
        "X = housing_data[['longitude', 'latitude', 'housing_median_age', 'total_rooms','total_bedrooms', \n",
        "                  'population', 'households', 'median_income','INLAND', 'ISLAND', 'NEAR BAY', 'NEAR OCEAN']]\n",
        "\n",
        "y = housing_data['median_house_value']\n",
        "\n",
        "#Importing the train_test_split from sklearn to split the dataset for training and testing\n",
        "x_train, x_test, y_train, y_test = train_test_split(X, y, test_size = 0.4, random_state = 0)"
      ],
      "execution_count": 0,
      "outputs": []
    },
    {
      "metadata": {
        "id": "hoI64vrhIQjz",
        "colab_type": "text"
      },
      "cell_type": "markdown",
      "source": [
        "### Linear Regression"
      ]
    },
    {
      "metadata": {
        "id": "jD4Qh9jxIQjz",
        "colab_type": "text"
      },
      "cell_type": "markdown",
      "source": [
        "#### Training the model"
      ]
    },
    {
      "metadata": {
        "id": "Aqpd5bqqIQj0",
        "colab_type": "code",
        "colab": {}
      },
      "cell_type": "code",
      "source": [
        "#Import LinearRegression from sklearn\n",
        "from sklearn.linear_model import LinearRegression\n",
        "\n",
        "#Initializing the model\n",
        "lm = LinearRegression()\n",
        "\n",
        "#Fit the data to the algorithm\n",
        "lm.fit(x_train, y_train)"
      ],
      "execution_count": 0,
      "outputs": []
    },
    {
      "metadata": {
        "id": "qR65YpFI9Juq",
        "colab_type": "code",
        "colab": {}
      },
      "cell_type": "code",
      "source": [
        "lm.intercept_"
      ],
      "execution_count": 0,
      "outputs": []
    },
    {
      "metadata": {
        "id": "YoGyopDdvdC6",
        "colab_type": "code",
        "colab": {}
      },
      "cell_type": "code",
      "source": [
        "lm.coef_"
      ],
      "execution_count": 0,
      "outputs": []
    },
    {
      "metadata": {
        "id": "90SErW7yIQj3",
        "colab_type": "text"
      },
      "cell_type": "markdown",
      "source": [
        "### Predicting the model on the test set"
      ]
    },
    {
      "metadata": {
        "id": "8oM5iAFsIQj5",
        "colab_type": "code",
        "colab": {}
      },
      "cell_type": "code",
      "source": [
        "#Generating a Scatter Plot to evaluate the correctness of validation set against the predicted data\n",
        "y_hat = lm.predict(x_test)\n",
        "plt.scatter(y_test,y_hat)"
      ],
      "execution_count": 0,
      "outputs": []
    },
    {
      "metadata": {
        "id": "dACtpGN1IQj7",
        "colab_type": "text"
      },
      "cell_type": "markdown",
      "source": [
        "## 06 : Evaluate the predictions"
      ]
    },
    {
      "metadata": {
        "id": "elDv6j3QIQj7",
        "colab_type": "code",
        "colab": {}
      },
      "cell_type": "code",
      "source": [
        "predictions[:5]"
      ],
      "execution_count": 0,
      "outputs": []
    },
    {
      "metadata": {
        "id": "EfeifGdqIQj_",
        "colab_type": "code",
        "colab": {}
      },
      "cell_type": "code",
      "source": [
        "y_test[:5]"
      ],
      "execution_count": 0,
      "outputs": []
    },
    {
      "metadata": {
        "id": "VjVdJ-y9IQkC",
        "colab_type": "code",
        "colab": {}
      },
      "cell_type": "code",
      "source": [
        "from sklearn import metrics\n",
        "#Absolute Error\n",
        "print('MAE:', metrics.mean_absolute_error(y_test, y_hat))\n",
        "\n",
        "#Mean Square Error\n",
        "print('MSE:', metrics.mean_squared_error(y_test, y_hat))\n",
        "\n",
        "#Mean Square Root Error\n",
        "print('RMSE:', np.sqrt(metrics.mean_squared_error(y_test, y_hat)))"
      ],
      "execution_count": 0,
      "outputs": []
    },
    {
      "metadata": {
        "id": "sTIbCwQaIQkE",
        "colab_type": "text"
      },
      "cell_type": "markdown",
      "source": [
        "## 07 : Predicting on Validation set\n",
        "### This problem doesn't have a validation set."
      ]
    },
    {
      "metadata": {
        "id": "1UdVZFmAIQkE",
        "colab_type": "text"
      },
      "cell_type": "markdown",
      "source": [
        "---\n",
        "                                    THE END"
      ]
    }
  ]
}